{
  "cells": [
    {
      "cell_type": "markdown",
      "metadata": {
        "id": "view-in-github",
        "colab_type": "text"
      },
      "source": [
        "<a href=\"https://colab.research.google.com/github/AnSaradar/Diamond_Price_Prediction/blob/main/Final_Diamond_Price_Predection_Project.ipynb\" target=\"_parent\"><img src=\"https://colab.research.google.com/assets/colab-badge.svg\" alt=\"Open In Colab\"/></a>"
      ]
    },
    {
      "cell_type": "markdown",
      "metadata": {
        "id": "Ne1EJHdncJw2"
      },
      "source": [
        "#Importing Libraries & Loading the Data\n",
        "\n"
      ]
    },
    {
      "cell_type": "code",
      "execution_count": null,
      "metadata": {
        "id": "bl05PcgQbpyn"
      },
      "outputs": [],
      "source": [
        "import pandas as pd\n",
        "import seaborn as sns\n",
        "import numpy as np\n",
        "from sklearn.preprocessing import StandardScaler\n",
        "from sklearn.svm import SVR\n",
        "from sklearn.model_selection import GridSearchCV, train_test_split\n",
        "from sklearn.metrics import mean_squared_error\n",
        "from sklearn.compose import ColumnTransformer\n",
        "from sklearn.pipeline import Pipeline\n",
        "from sklearn.preprocessing import StandardScaler, OneHotEncoder\n",
        "from sklearn.preprocessing import OneHotEncoder\n",
        "from sklearn.compose import ColumnTransformer\n",
        "import xgboost as xgb\n",
        "from sklearn.tree import DecisionTreeRegressor \n",
        "from sklearn.ensemble import RandomForestRegressor\n",
        "from sklearn.model_selection import cross_val_score\n",
        "import matplotlib.pyplot as plt\n",
        "from sklearn.preprocessing import PolynomialFeatures\n",
        "from sklearn.pipeline import make_pipeline\n",
        "from sklearn.preprocessing import RobustScaler\n",
        "from sklearn.linear_model import LinearRegression\n",
        "from sklearn.preprocessing import OrdinalEncoder"
      ]
    },
    {
      "cell_type": "code",
      "execution_count": null,
      "metadata": {
        "id": "8Arm24rgcFN9"
      },
      "outputs": [],
      "source": [
        "train_data = pd.read_csv('/content/drive/MyDrive/Datasets/train.csv')\n",
        "test_set = pd.read_csv('/content/drive/MyDrive/Datasets/test.csv')"
      ]
    },
    {
      "cell_type": "markdown",
      "metadata": {
        "id": "5z3oG0-6dW7v"
      },
      "source": [
        "#Discovering the Data"
      ]
    },
    {
      "cell_type": "code",
      "execution_count": null,
      "metadata": {
        "colab": {
          "base_uri": "https://localhost:8080/"
        },
        "id": "4Iqoibp2cG0F",
        "outputId": "a7ce2bc7-92aa-40c8-de7e-b17c7e619ee6"
      },
      "outputs": [
        {
          "output_type": "execute_result",
          "data": {
            "text/plain": [
              "Index(['Id', 'carat', 'cut', 'color', 'clarity', 'depth', 'table', 'price',\n",
              "       'x', 'y', 'z'],\n",
              "      dtype='object')"
            ]
          },
          "metadata": {},
          "execution_count": 91
        }
      ],
      "source": [
        "train_data.columns"
      ]
    },
    {
      "cell_type": "code",
      "execution_count": null,
      "metadata": {
        "colab": {
          "base_uri": "https://localhost:8080/"
        },
        "id": "krRgztdvdd1U",
        "outputId": "cfd9865f-f5d4-48a8-a7b4-c953445551e4"
      },
      "outputs": [
        {
          "output_type": "execute_result",
          "data": {
            "text/plain": [
              "(43152, 11)"
            ]
          },
          "metadata": {},
          "execution_count": 92
        }
      ],
      "source": [
        "train_data.shape"
      ]
    },
    {
      "cell_type": "code",
      "execution_count": null,
      "metadata": {
        "colab": {
          "base_uri": "https://localhost:8080/"
        },
        "id": "wdKTSfXsdhNJ",
        "outputId": "c1141d06-e7e0-4c43-8c52-6c5eeb4bf667"
      },
      "outputs": [
        {
          "output_type": "stream",
          "name": "stdout",
          "text": [
            "<class 'pandas.core.frame.DataFrame'>\n",
            "RangeIndex: 43152 entries, 0 to 43151\n",
            "Data columns (total 11 columns):\n",
            " #   Column   Non-Null Count  Dtype  \n",
            "---  ------   --------------  -----  \n",
            " 0   Id       43152 non-null  int64  \n",
            " 1   carat    43152 non-null  float64\n",
            " 2   cut      43152 non-null  object \n",
            " 3   color    43152 non-null  object \n",
            " 4   clarity  43152 non-null  object \n",
            " 5   depth    43152 non-null  float64\n",
            " 6   table    43152 non-null  float64\n",
            " 7   price    43152 non-null  int64  \n",
            " 8   x        43152 non-null  float64\n",
            " 9   y        43152 non-null  float64\n",
            " 10  z        43152 non-null  float64\n",
            "dtypes: float64(6), int64(2), object(3)\n",
            "memory usage: 3.6+ MB\n"
          ]
        }
      ],
      "source": [
        "train_data.info()"
      ]
    },
    {
      "cell_type": "markdown",
      "source": [
        "We Notice that there are only three categorical features that should be convert {Cut,Color,Clarity}"
      ],
      "metadata": {
        "id": "3g-khMcHCjbR"
      }
    },
    {
      "cell_type": "code",
      "execution_count": null,
      "metadata": {
        "colab": {
          "base_uri": "https://localhost:8080/",
          "height": 300
        },
        "id": "xqj9nbaEdk5h",
        "outputId": "432400ea-8e65-42d8-bcb8-3ebb40f22221"
      },
      "outputs": [
        {
          "output_type": "execute_result",
          "data": {
            "text/plain": [
              "                 Id         carat         depth         table         price  \\\n",
              "count  43152.000000  43152.000000  43152.000000  43152.000000  43152.000000   \n",
              "mean   21576.500000      0.797855     61.747177     57.458347   3929.491912   \n",
              "std    12457.053745      0.473594      1.435454      2.233904   3985.527795   \n",
              "min        1.000000      0.200000     43.000000     43.000000    326.000000   \n",
              "25%    10788.750000      0.400000     61.000000     56.000000    947.750000   \n",
              "50%    21576.500000      0.700000     61.800000     57.000000   2401.000000   \n",
              "75%    32364.250000      1.040000     62.500000     59.000000   5312.000000   \n",
              "max    43152.000000      5.010000     79.000000     95.000000  18823.000000   \n",
              "\n",
              "                  x             y             z  \n",
              "count  43152.000000  43152.000000  43152.000000  \n",
              "mean       5.731568      5.735018      3.538568  \n",
              "std        1.121279      1.148809      0.708238  \n",
              "min        0.000000      0.000000      0.000000  \n",
              "25%        4.710000      4.720000      2.910000  \n",
              "50%        5.700000      5.710000      3.530000  \n",
              "75%        6.540000      6.540000      4.040000  \n",
              "max       10.740000     58.900000     31.800000  "
            ],
            "text/html": [
              "\n",
              "  <div id=\"df-e750ad85-8394-481e-8bed-5465e0fb4ec5\">\n",
              "    <div class=\"colab-df-container\">\n",
              "      <div>\n",
              "<style scoped>\n",
              "    .dataframe tbody tr th:only-of-type {\n",
              "        vertical-align: middle;\n",
              "    }\n",
              "\n",
              "    .dataframe tbody tr th {\n",
              "        vertical-align: top;\n",
              "    }\n",
              "\n",
              "    .dataframe thead th {\n",
              "        text-align: right;\n",
              "    }\n",
              "</style>\n",
              "<table border=\"1\" class=\"dataframe\">\n",
              "  <thead>\n",
              "    <tr style=\"text-align: right;\">\n",
              "      <th></th>\n",
              "      <th>Id</th>\n",
              "      <th>carat</th>\n",
              "      <th>depth</th>\n",
              "      <th>table</th>\n",
              "      <th>price</th>\n",
              "      <th>x</th>\n",
              "      <th>y</th>\n",
              "      <th>z</th>\n",
              "    </tr>\n",
              "  </thead>\n",
              "  <tbody>\n",
              "    <tr>\n",
              "      <th>count</th>\n",
              "      <td>43152.000000</td>\n",
              "      <td>43152.000000</td>\n",
              "      <td>43152.000000</td>\n",
              "      <td>43152.000000</td>\n",
              "      <td>43152.000000</td>\n",
              "      <td>43152.000000</td>\n",
              "      <td>43152.000000</td>\n",
              "      <td>43152.000000</td>\n",
              "    </tr>\n",
              "    <tr>\n",
              "      <th>mean</th>\n",
              "      <td>21576.500000</td>\n",
              "      <td>0.797855</td>\n",
              "      <td>61.747177</td>\n",
              "      <td>57.458347</td>\n",
              "      <td>3929.491912</td>\n",
              "      <td>5.731568</td>\n",
              "      <td>5.735018</td>\n",
              "      <td>3.538568</td>\n",
              "    </tr>\n",
              "    <tr>\n",
              "      <th>std</th>\n",
              "      <td>12457.053745</td>\n",
              "      <td>0.473594</td>\n",
              "      <td>1.435454</td>\n",
              "      <td>2.233904</td>\n",
              "      <td>3985.527795</td>\n",
              "      <td>1.121279</td>\n",
              "      <td>1.148809</td>\n",
              "      <td>0.708238</td>\n",
              "    </tr>\n",
              "    <tr>\n",
              "      <th>min</th>\n",
              "      <td>1.000000</td>\n",
              "      <td>0.200000</td>\n",
              "      <td>43.000000</td>\n",
              "      <td>43.000000</td>\n",
              "      <td>326.000000</td>\n",
              "      <td>0.000000</td>\n",
              "      <td>0.000000</td>\n",
              "      <td>0.000000</td>\n",
              "    </tr>\n",
              "    <tr>\n",
              "      <th>25%</th>\n",
              "      <td>10788.750000</td>\n",
              "      <td>0.400000</td>\n",
              "      <td>61.000000</td>\n",
              "      <td>56.000000</td>\n",
              "      <td>947.750000</td>\n",
              "      <td>4.710000</td>\n",
              "      <td>4.720000</td>\n",
              "      <td>2.910000</td>\n",
              "    </tr>\n",
              "    <tr>\n",
              "      <th>50%</th>\n",
              "      <td>21576.500000</td>\n",
              "      <td>0.700000</td>\n",
              "      <td>61.800000</td>\n",
              "      <td>57.000000</td>\n",
              "      <td>2401.000000</td>\n",
              "      <td>5.700000</td>\n",
              "      <td>5.710000</td>\n",
              "      <td>3.530000</td>\n",
              "    </tr>\n",
              "    <tr>\n",
              "      <th>75%</th>\n",
              "      <td>32364.250000</td>\n",
              "      <td>1.040000</td>\n",
              "      <td>62.500000</td>\n",
              "      <td>59.000000</td>\n",
              "      <td>5312.000000</td>\n",
              "      <td>6.540000</td>\n",
              "      <td>6.540000</td>\n",
              "      <td>4.040000</td>\n",
              "    </tr>\n",
              "    <tr>\n",
              "      <th>max</th>\n",
              "      <td>43152.000000</td>\n",
              "      <td>5.010000</td>\n",
              "      <td>79.000000</td>\n",
              "      <td>95.000000</td>\n",
              "      <td>18823.000000</td>\n",
              "      <td>10.740000</td>\n",
              "      <td>58.900000</td>\n",
              "      <td>31.800000</td>\n",
              "    </tr>\n",
              "  </tbody>\n",
              "</table>\n",
              "</div>\n",
              "      <button class=\"colab-df-convert\" onclick=\"convertToInteractive('df-e750ad85-8394-481e-8bed-5465e0fb4ec5')\"\n",
              "              title=\"Convert this dataframe to an interactive table.\"\n",
              "              style=\"display:none;\">\n",
              "        \n",
              "  <svg xmlns=\"http://www.w3.org/2000/svg\" height=\"24px\"viewBox=\"0 0 24 24\"\n",
              "       width=\"24px\">\n",
              "    <path d=\"M0 0h24v24H0V0z\" fill=\"none\"/>\n",
              "    <path d=\"M18.56 5.44l.94 2.06.94-2.06 2.06-.94-2.06-.94-.94-2.06-.94 2.06-2.06.94zm-11 1L8.5 8.5l.94-2.06 2.06-.94-2.06-.94L8.5 2.5l-.94 2.06-2.06.94zm10 10l.94 2.06.94-2.06 2.06-.94-2.06-.94-.94-2.06-.94 2.06-2.06.94z\"/><path d=\"M17.41 7.96l-1.37-1.37c-.4-.4-.92-.59-1.43-.59-.52 0-1.04.2-1.43.59L10.3 9.45l-7.72 7.72c-.78.78-.78 2.05 0 2.83L4 21.41c.39.39.9.59 1.41.59.51 0 1.02-.2 1.41-.59l7.78-7.78 2.81-2.81c.8-.78.8-2.07 0-2.86zM5.41 20L4 18.59l7.72-7.72 1.47 1.35L5.41 20z\"/>\n",
              "  </svg>\n",
              "      </button>\n",
              "      \n",
              "  <style>\n",
              "    .colab-df-container {\n",
              "      display:flex;\n",
              "      flex-wrap:wrap;\n",
              "      gap: 12px;\n",
              "    }\n",
              "\n",
              "    .colab-df-convert {\n",
              "      background-color: #E8F0FE;\n",
              "      border: none;\n",
              "      border-radius: 50%;\n",
              "      cursor: pointer;\n",
              "      display: none;\n",
              "      fill: #1967D2;\n",
              "      height: 32px;\n",
              "      padding: 0 0 0 0;\n",
              "      width: 32px;\n",
              "    }\n",
              "\n",
              "    .colab-df-convert:hover {\n",
              "      background-color: #E2EBFA;\n",
              "      box-shadow: 0px 1px 2px rgba(60, 64, 67, 0.3), 0px 1px 3px 1px rgba(60, 64, 67, 0.15);\n",
              "      fill: #174EA6;\n",
              "    }\n",
              "\n",
              "    [theme=dark] .colab-df-convert {\n",
              "      background-color: #3B4455;\n",
              "      fill: #D2E3FC;\n",
              "    }\n",
              "\n",
              "    [theme=dark] .colab-df-convert:hover {\n",
              "      background-color: #434B5C;\n",
              "      box-shadow: 0px 1px 3px 1px rgba(0, 0, 0, 0.15);\n",
              "      filter: drop-shadow(0px 1px 2px rgba(0, 0, 0, 0.3));\n",
              "      fill: #FFFFFF;\n",
              "    }\n",
              "  </style>\n",
              "\n",
              "      <script>\n",
              "        const buttonEl =\n",
              "          document.querySelector('#df-e750ad85-8394-481e-8bed-5465e0fb4ec5 button.colab-df-convert');\n",
              "        buttonEl.style.display =\n",
              "          google.colab.kernel.accessAllowed ? 'block' : 'none';\n",
              "\n",
              "        async function convertToInteractive(key) {\n",
              "          const element = document.querySelector('#df-e750ad85-8394-481e-8bed-5465e0fb4ec5');\n",
              "          const dataTable =\n",
              "            await google.colab.kernel.invokeFunction('convertToInteractive',\n",
              "                                                     [key], {});\n",
              "          if (!dataTable) return;\n",
              "\n",
              "          const docLinkHtml = 'Like what you see? Visit the ' +\n",
              "            '<a target=\"_blank\" href=https://colab.research.google.com/notebooks/data_table.ipynb>data table notebook</a>'\n",
              "            + ' to learn more about interactive tables.';\n",
              "          element.innerHTML = '';\n",
              "          dataTable['output_type'] = 'display_data';\n",
              "          await google.colab.output.renderOutput(dataTable, element);\n",
              "          const docLink = document.createElement('div');\n",
              "          docLink.innerHTML = docLinkHtml;\n",
              "          element.appendChild(docLink);\n",
              "        }\n",
              "      </script>\n",
              "    </div>\n",
              "  </div>\n",
              "  "
            ]
          },
          "metadata": {},
          "execution_count": 94
        }
      ],
      "source": [
        "train_data.describe()"
      ]
    },
    {
      "cell_type": "code",
      "execution_count": null,
      "metadata": {
        "colab": {
          "base_uri": "https://localhost:8080/"
        },
        "id": "_MrUNnJtdpO1",
        "outputId": "153e9546-d001-4865-f7f8-e9986799ffa3"
      },
      "outputs": [
        {
          "output_type": "execute_result",
          "data": {
            "text/plain": [
              "Id         0\n",
              "carat      0\n",
              "cut        0\n",
              "color      0\n",
              "clarity    0\n",
              "depth      0\n",
              "table      0\n",
              "price      0\n",
              "x          0\n",
              "y          0\n",
              "z          0\n",
              "dtype: int64"
            ]
          },
          "metadata": {},
          "execution_count": 95
        }
      ],
      "source": [
        "train_data.isnull().sum()"
      ]
    },
    {
      "cell_type": "markdown",
      "source": [
        "There are no missing values , but maybe there are some zero values So we will check it later"
      ],
      "metadata": {
        "id": "furfm-GjCzAR"
      }
    },
    {
      "cell_type": "markdown",
      "metadata": {
        "id": "3HGBSRZ1fGyV"
      },
      "source": [
        "#Data Visualization"
      ]
    },
    {
      "cell_type": "code",
      "execution_count": null,
      "metadata": {
        "colab": {
          "base_uri": "https://localhost:8080/",
          "height": 820
        },
        "id": "cSeGft0WtTUu",
        "outputId": "a545b9ba-c371-4531-f6d1-924c2461d110"
      },
      "outputs": [
        {
          "output_type": "execute_result",
          "data": {
            "text/plain": [
              "array([[<Axes: title={'center': 'Id'}>,\n",
              "        <Axes: title={'center': 'carat'}>,\n",
              "        <Axes: title={'center': 'depth'}>],\n",
              "       [<Axes: title={'center': 'table'}>,\n",
              "        <Axes: title={'center': 'price'}>, <Axes: title={'center': 'x'}>],\n",
              "       [<Axes: title={'center': 'y'}>, <Axes: title={'center': 'z'}>,\n",
              "        <Axes: >]], dtype=object)"
            ]
          },
          "metadata": {},
          "execution_count": 96
        },
        {
          "output_type": "display_data",
          "data": {
            "text/plain": [
              "<Figure size 1200x800 with 9 Axes>"
            ],
            "image/png": "[encoded data removed]"
          },
          "metadata": {}
        }
      ],
      "source": [
        "train_data.hist(bins=50, figsize=(12, 8))"
      ]
    },
    {
      "cell_type": "markdown",
      "source": [
        "We Notice that both {Carat , Price} columns are highly skewed to the right So we have to fix that "
      ],
      "metadata": {
        "id": "6wNr5cwcC-9g"
      }
    },
    {
      "cell_type": "markdown",
      "source": [
        "Now We will plot the box plots for numerical values to see the quantiles and the outliers"
      ],
      "metadata": {
        "id": "7gPeAod6DRjg"
      }
    },
    {
      "cell_type": "code",
      "execution_count": null,
      "metadata": {
        "colab": {
          "base_uri": "https://localhost:8080/",
          "height": 1000
        },
        "id": "CdktX0jEfcWC",
        "outputId": "21f666ea-a40e-4aa6-b466-9ce422c5f083"
      },
      "outputs": [
        {
          "output_type": "display_data",
          "data": {
            "text/plain": [
              "<Figure size 1700x100 with 1 Axes>"
            ],
            "image/png": "[encoded data removed]"
          },
          "metadata": {}
        },
        {
          "output_type": "display_data",
          "data": {
            "text/plain": [
              "<Figure size 1700x100 with 1 Axes>"
            ],
            "image/png": "[encoded data removed]"
          },
          "metadata": {}
        },
        {
          "output_type": "display_data",
          "data": {
            "text/plain": [
              "<Figure size 1700x100 with 1 Axes>"
            ],
            "image/png": "[encoded data removed]"
          },
          "metadata": {}
        },
        {
          "output_type": "display_data",
          "data": {
            "text/plain": [
              "<Figure size 1700x100 with 1 Axes>"
            ],
            "image/png": "[encoded data removed]"
          },
          "metadata": {}
        },
        {
          "output_type": "display_data",
          "data": {
            "text/plain": [
              "<Figure size 1700x100 with 1 Axes>"
            ],
            "image/png": "[encoded data removed]"
          },
          "metadata": {}
        },
        {
          "output_type": "display_data",
          "data": {
            "text/plain": [
              "<Figure size 1700x100 with 1 Axes>"
            ],
            "image/png": "[encoded data removed]"
          },
          "metadata": {}
        },
        {
          "output_type": "display_data",
          "data": {
            "text/plain": [
              "<Figure size 1700x100 with 1 Axes>"
            ],
            "image/png": "[encoded data removed]"
          },
          "metadata": {}
        },
        {
          "output_type": "display_data",
          "data": {
            "text/plain": [
              "<Figure size 1700x100 with 1 Axes>"
            ],
            "image/png": "[encoded data removed]"
          },
          "metadata": {}
        }
      ],
      "source": [
        "num_columns = train_data.drop(['clarity','color','cut'],axis=1)\n",
        "for column in num_columns:\n",
        "        plt.figure(figsize=(17,1))\n",
        "        sns.boxplot(data=num_columns, x=column)"
      ]
    },
    {
      "cell_type": "code",
      "execution_count": null,
      "metadata": {
        "colab": {
          "base_uri": "https://localhost:8080/",
          "height": 466
        },
        "id": "p1lhLhwif0NF",
        "outputId": "c1a8967b-fd10-4466-9d3f-411fac8337c5"
      },
      "outputs": [
        {
          "output_type": "execute_result",
          "data": {
            "text/plain": [
              "<Axes: xlabel='x', ylabel='price'>"
            ]
          },
          "metadata": {},
          "execution_count": 98
        },
        {
          "output_type": "display_data",
          "data": {
            "text/plain": [
              "<Figure size 640x480 with 1 Axes>"
            ],
            "image/png": "[encoded data removed]"
          },
          "metadata": {}
        }
      ],
      "source": [
        "sns.scatterplot(x=train_data['x'],y=train_data[\"price\"])"
      ]
    },
    {
      "cell_type": "code",
      "execution_count": null,
      "metadata": {
        "colab": {
          "base_uri": "https://localhost:8080/",
          "height": 466
        },
        "id": "W6DaFaYwvtHi",
        "outputId": "05832ba1-a705-427f-dcf4-c4a74067f420"
      },
      "outputs": [
        {
          "output_type": "execute_result",
          "data": {
            "text/plain": [
              "<Axes: xlabel='y', ylabel='price'>"
            ]
          },
          "metadata": {},
          "execution_count": 99
        },
        {
          "output_type": "display_data",
          "data": {
            "text/plain": [
              "<Figure size 640x480 with 1 Axes>"
            ],
            "image/png": "[encoded data removed]"
          },
          "metadata": {}
        }
      ],
      "source": [
        "sns.scatterplot(x=train_data['y'],y=train_data[\"price\"])"
      ]
    },
    {
      "cell_type": "code",
      "execution_count": null,
      "metadata": {
        "colab": {
          "base_uri": "https://localhost:8080/",
          "height": 466
        },
        "id": "7iCBgTgdwFSx",
        "outputId": "e6d32d12-e716-46f5-d332-b1a29f7cbf0d"
      },
      "outputs": [
        {
          "output_type": "execute_result",
          "data": {
            "text/plain": [
              "<Axes: xlabel='z', ylabel='price'>"
            ]
          },
          "metadata": {},
          "execution_count": 100
        },
        {
          "output_type": "display_data",
          "data": {
            "text/plain": [
              "<Figure size 640x480 with 1 Axes>"
            ],
            "image/png": "[encoded data removed]"
          },
          "metadata": {}
        }
      ],
      "source": [
        "sns.scatterplot(x=train_data['z'],y=train_data[\"price\"])"
      ]
    },
    {
      "cell_type": "markdown",
      "source": [
        "from the Scatter & Box plot , We notice there are some outliers in each columns and we should get rid of them , Specially the the zero values of {x,y,z} because this means the diamond is not a 3D Object , and this doesnt make any sense"
      ],
      "metadata": {
        "id": "xzvf_fGsDevY"
      }
    },
    {
      "cell_type": "markdown",
      "metadata": {
        "id": "Qhh9vHK_grn1"
      },
      "source": [
        "#Data Preprocessing"
      ]
    },
    {
      "cell_type": "markdown",
      "metadata": {
        "id": "-pR1Zrbyu5lB"
      },
      "source": [
        "##Handling 1D & 2D Diamond"
      ]
    },
    {
      "cell_type": "code",
      "execution_count": null,
      "metadata": {
        "id": "rYzg7kGuvBvh"
      },
      "outputs": [],
      "source": [
        "train_data.drop(train_data[train_data['x']==0].index,inplace=True)\n",
        "train_data.drop(train_data[train_data['y']==0].index,inplace=True)\n",
        "train_data.drop(train_data[train_data['z']==0].index,inplace=True)"
      ]
    },
    {
      "cell_type": "markdown",
      "metadata": {
        "id": "8uDJkWV8vPIb"
      },
      "source": [
        "##Handling Outliers"
      ]
    },
    {
      "cell_type": "code",
      "execution_count": null,
      "metadata": {
        "id": "A-djxGnVvRaJ"
      },
      "outputs": [],
      "source": [
        "train_data.drop(train_data[train_data[\"x\"]> 10].index, inplace=True)"
      ]
    },
    {
      "cell_type": "code",
      "execution_count": null,
      "metadata": {
        "id": "kZgC4VOtvr7Z"
      },
      "outputs": [],
      "source": [
        "train_data.drop(train_data[train_data[\"y\"]> 20].index, inplace=True)"
      ]
    },
    {
      "cell_type": "code",
      "execution_count": null,
      "metadata": {
        "id": "uoZzLWnXwAvT"
      },
      "outputs": [],
      "source": [
        "train_data.drop(train_data[train_data[\"z\"]> 10].index, inplace=True)\n",
        "train_data.drop(train_data[train_data[\"z\"]< 2].index, inplace=True)"
      ]
    },
    {
      "cell_type": "code",
      "execution_count": null,
      "metadata": {
        "id": "M-ZtlxZZwbWa"
      },
      "outputs": [],
      "source": [
        "train_data.drop(train_data[train_data[\"table\"]> 70].index, inplace=True)\n",
        "train_data.drop(train_data[train_data[\"table\"]< 50].index, inplace=True)"
      ]
    },
    {
      "cell_type": "code",
      "execution_count": null,
      "metadata": {
        "id": "01cuPN_YwqlL"
      },
      "outputs": [],
      "source": [
        "train_data.drop(train_data[train_data[\"depth\"]> 72].index, inplace=True)\n",
        "train_data.drop(train_data[train_data[\"depth\"]< 53].index, inplace=True)"
      ]
    },
    {
      "cell_type": "code",
      "execution_count": null,
      "metadata": {
        "id": "a--MEWgwxMKq"
      },
      "outputs": [],
      "source": [
        "train_data.drop(train_data[train_data[\"depth\"]> 72].index, inplace=True)\n",
        "train_data.drop(train_data[train_data[\"depth\"]< 53].index, inplace=True)"
      ]
    },
    {
      "cell_type": "code",
      "execution_count": null,
      "metadata": {
        "colab": {
          "base_uri": "https://localhost:8080/",
          "height": 820
        },
        "id": "G9998Y4GySfk",
        "outputId": "7093ab5c-7826-48d7-b432-2cef9f12230b"
      },
      "outputs": [
        {
          "output_type": "execute_result",
          "data": {
            "text/plain": [
              "array([[<Axes: title={'center': 'Id'}>,\n",
              "        <Axes: title={'center': 'carat'}>,\n",
              "        <Axes: title={'center': 'depth'}>],\n",
              "       [<Axes: title={'center': 'table'}>,\n",
              "        <Axes: title={'center': 'price'}>, <Axes: title={'center': 'x'}>],\n",
              "       [<Axes: title={'center': 'y'}>, <Axes: title={'center': 'z'}>,\n",
              "        <Axes: >]], dtype=object)"
            ]
          },
          "metadata": {},
          "execution_count": 108
        },
        {
          "output_type": "display_data",
          "data": {
            "text/plain": [
              "<Figure size 1200x800 with 9 Axes>"
            ],
            "image/png": "[encoded data removed]"
          },
          "metadata": {}
        }
      ],
      "source": [
        "train_data.hist(bins=50, figsize=(12, 8))"
      ]
    },
    {
      "cell_type": "markdown",
      "source": [
        "##Handling Dublicates Data"
      ],
      "metadata": {
        "id": "HmSfN3MCvblo"
      }
    },
    {
      "cell_type": "code",
      "execution_count": null,
      "metadata": {
        "id": "fbyxy0AuxMGA",
        "colab": {
          "base_uri": "https://localhost:8080/"
        },
        "outputId": "8930c1d7-e311-4c20-e177-29884259014c"
      },
      "outputs": [
        {
          "output_type": "execute_result",
          "data": {
            "text/plain": [
              "0"
            ]
          },
          "metadata": {},
          "execution_count": 109
        }
      ],
      "source": [
        "train_data.duplicated().sum()"
      ]
    },
    {
      "cell_type": "markdown",
      "source": [
        "There are about 97 duplicate record , so we should drop them "
      ],
      "metadata": {
        "id": "nE7H9DBXEFWE"
      }
    },
    {
      "cell_type": "code",
      "source": [
        "train_data.drop_duplicates(keep = 'first', inplace = True)\n",
        "train_data.duplicated().sum()"
      ],
      "metadata": {
        "colab": {
          "base_uri": "https://localhost:8080/"
        },
        "id": "pNlfuykPvpAA",
        "outputId": "0a01e650-871b-402c-cde6-f7fa0657b500"
      },
      "execution_count": null,
      "outputs": [
        {
          "output_type": "execute_result",
          "data": {
            "text/plain": [
              "0"
            ]
          },
          "metadata": {},
          "execution_count": 110
        }
      ]
    },
    {
      "cell_type": "markdown",
      "metadata": {
        "id": "k7tTCRopxZah"
      },
      "source": [
        "##Handling Skewed distribution Features"
      ]
    },
    {
      "cell_type": "markdown",
      "source": [
        "I will Try to use the Log function to transform the price and the carat columns into kinda Normally distrubuted Columns"
      ],
      "metadata": {
        "id": "iFK5QcijENvg"
      }
    },
    {
      "cell_type": "code",
      "source": [
        "train_data['price'].hist(bins=50)"
      ],
      "metadata": {
        "colab": {
          "base_uri": "https://localhost:8080/",
          "height": 447
        },
        "id": "dv3HKyUmEg3K",
        "outputId": "fe58983b-c259-4fb4-feae-649947ce07ba"
      },
      "execution_count": null,
      "outputs": [
        {
          "output_type": "execute_result",
          "data": {
            "text/plain": [
              "<Axes: >"
            ]
          },
          "metadata": {},
          "execution_count": 111
        },
        {
          "output_type": "display_data",
          "data": {
            "text/plain": [
              "<Figure size 640x480 with 1 Axes>"
            ],
            "image/png": "[encoded data removed]"
          },
          "metadata": {}
        }
      ]
    },
    {
      "cell_type": "code",
      "execution_count": null,
      "metadata": {
        "id": "z5BrsShbxfml"
      },
      "outputs": [],
      "source": [
        "transformed = np.log(train_data['price'])"
      ]
    },
    {
      "cell_type": "code",
      "execution_count": null,
      "metadata": {
        "colab": {
          "base_uri": "https://localhost:8080/",
          "height": 447
        },
        "id": "LZVFYGDYx5Zp",
        "outputId": "738d6fe8-445e-4a2f-f746-e3d6e34f95b7"
      },
      "outputs": [
        {
          "output_type": "execute_result",
          "data": {
            "text/plain": [
              "<Axes: >"
            ]
          },
          "metadata": {},
          "execution_count": 113
        },
        {
          "output_type": "display_data",
          "data": {
            "text/plain": [
              "<Figure size 640x480 with 1 Axes>"
            ],
            "image/png": "[encoded data removed]"
          },
          "metadata": {}
        }
      ],
      "source": [
        "transformed.hist(bins=50)"
      ]
    },
    {
      "cell_type": "markdown",
      "source": [
        "Notice how the distubution changed , but Now after make a prediction we should apply  an inverse function to return to the same price scale value "
      ],
      "metadata": {
        "id": "r2Lq3-gNEoK5"
      }
    },
    {
      "cell_type": "code",
      "execution_count": null,
      "metadata": {
        "colab": {
          "base_uri": "https://localhost:8080/",
          "height": 449
        },
        "id": "m2MtWRn3y3w4",
        "outputId": "fc81c361-97dc-49d4-c742-d3d094d685f8"
      },
      "outputs": [
        {
          "output_type": "execute_result",
          "data": {
            "text/plain": [
              "<Axes: >"
            ]
          },
          "metadata": {},
          "execution_count": 114
        },
        {
          "output_type": "display_data",
          "data": {
            "text/plain": [
              "<Figure size 640x480 with 1 Axes>"
            ],
            "image/png": "[encoded data removed]"
          },
          "metadata": {}
        }
      ],
      "source": [
        "sns.boxplot(data=transformed)"
      ]
    },
    {
      "cell_type": "code",
      "source": [
        "train_data['carat'].hist(bins=50)"
      ],
      "metadata": {
        "colab": {
          "base_uri": "https://localhost:8080/",
          "height": 447
        },
        "id": "gCWDBVvFE71Q",
        "outputId": "d448828f-108d-4beb-8933-41f2e9bbcd98"
      },
      "execution_count": null,
      "outputs": [
        {
          "output_type": "execute_result",
          "data": {
            "text/plain": [
              "<Axes: >"
            ]
          },
          "metadata": {},
          "execution_count": 115
        },
        {
          "output_type": "display_data",
          "data": {
            "text/plain": [
              "<Figure size 640x480 with 1 Axes>"
            ],
            "image/png": "[encoded data removed]"
          },
          "metadata": {}
        }
      ]
    },
    {
      "cell_type": "code",
      "execution_count": null,
      "metadata": {
        "id": "a7G2jvR-yHSr"
      },
      "outputs": [],
      "source": [
        "train_data['carat'] = np.log(train_data['carat'])"
      ]
    },
    {
      "cell_type": "code",
      "execution_count": null,
      "metadata": {
        "colab": {
          "base_uri": "https://localhost:8080/",
          "height": 448
        },
        "id": "8BmaWXTczUdm",
        "outputId": "64ed2513-6d2d-4934-ce5e-3f5fa4182eda"
      },
      "outputs": [
        {
          "output_type": "execute_result",
          "data": {
            "text/plain": [
              "<Axes: >"
            ]
          },
          "metadata": {},
          "execution_count": 117
        },
        {
          "output_type": "display_data",
          "data": {
            "text/plain": [
              "<Figure size 640x480 with 1 Axes>"
            ],
            "image/png": "[encoded data removed]"
          },
          "metadata": {}
        }
      ],
      "source": [
        "train_data['carat'].hist(bins=50)"
      ]
    },
    {
      "cell_type": "code",
      "execution_count": null,
      "metadata": {
        "colab": {
          "base_uri": "https://localhost:8080/",
          "height": 466
        },
        "id": "u4EzxtBhzXAj",
        "outputId": "65453d7e-89cd-4d0b-e036-e0951f989ad3"
      },
      "outputs": [
        {
          "output_type": "execute_result",
          "data": {
            "text/plain": [
              "<Axes: xlabel='carat'>"
            ]
          },
          "metadata": {},
          "execution_count": 118
        },
        {
          "output_type": "display_data",
          "data": {
            "text/plain": [
              "<Figure size 640x480 with 1 Axes>"
            ],
            "image/png": "[encoded data removed]"
          },
          "metadata": {}
        }
      ],
      "source": [
        "sns.boxplot(data=train_data,x='carat')"
      ]
    },
    {
      "cell_type": "code",
      "source": [
        "sns.heatmap(data = train_data.corr(),annot = True)"
      ],
      "metadata": {
        "colab": {
          "base_uri": "https://localhost:8080/",
          "height": 507
        },
        "id": "4L4xITkTYfKo",
        "outputId": "699b5b52-fc9e-4453-968d-c67d96f8bab3"
      },
      "execution_count": null,
      "outputs": [
        {
          "output_type": "stream",
          "name": "stderr",
          "text": [
            "<ipython-input-119-a42df55caaa0>:1: FutureWarning: The default value of numeric_only in DataFrame.corr is deprecated. In a future version, it will default to False. Select only valid columns or specify the value of numeric_only to silence this warning.\n",
            "  sns.heatmap(data = train_data.corr(),annot = True)\n"
          ]
        },
        {
          "output_type": "execute_result",
          "data": {
            "text/plain": [
              "<Axes: >"
            ]
          },
          "metadata": {},
          "execution_count": 119
        },
        {
          "output_type": "display_data",
          "data": {
            "text/plain": [
              "<Figure size 640x480 with 2 Axes>"
            ],
            "image/png": "[encoded data removed]"
          },
          "metadata": {}
        }
      ]
    },
    {
      "cell_type": "markdown",
      "source": [
        "Notice how the x , y , z features are higly linear corrleated with each other \n",
        "so that tells us and replace them with one feature the represent all of them \n",
        "and this feature I will call it Size , I tried to create a function by multiplying the squared value of each x,y,z to try to find any nonlinear corrleation  ((I TRIED THIS SQUARED METHOD AND IT DOESNT IMPROVE THE PREFORMANCE ))"
      ],
      "metadata": {
        "id": "JvNe7ZJRFRCo"
      }
    },
    {
      "cell_type": "markdown",
      "source": [
        "Also I relized from the description of the depth that it is 2*z/(x+y)\n",
        "so we can replace all the depth values with this equation to correct it ((I TRIED THIS AND IT DOESNT IMPROVE THE PREFORMANCE ))"
      ],
      "metadata": {
        "id": "QbRXWhf1FyuC"
      }
    },
    {
      "cell_type": "markdown",
      "source": [
        "Also table is numerical value represent a percentage , so we can rescale it by dividing it by 100 ((I TRIED THIS AND IT DOESNT IMPROVE THE PREFORMANCE ))"
      ],
      "metadata": {
        "id": "7hFp54sRGFQI"
      }
    },
    {
      "cell_type": "code",
      "source": [
        "train_data[\"cut\"].value_counts().plot(kind=\"bar\")\n",
        "plt.show()"
      ],
      "metadata": {
        "colab": {
          "base_uri": "https://localhost:8080/",
          "height": 488
        },
        "id": "nc6zc6FSHsFM",
        "outputId": "373c8be5-ed12-4a1f-8200-95e2838d8c01"
      },
      "execution_count": null,
      "outputs": [
        {
          "output_type": "display_data",
          "data": {
            "text/plain": [
              "<Figure size 640x480 with 1 Axes>"
            ],
            "image/png": "[encoded data removed]"
          },
          "metadata": {}
        }
      ]
    },
    {
      "cell_type": "markdown",
      "source": [
        "We Notice there that the fair & Good categories have very small amount of records  realtive to other categories , So we should fix this ."
      ],
      "metadata": {
        "id": "lhYNzGn7IiHQ"
      }
    },
    {
      "cell_type": "markdown",
      "source": [
        "I will use Feature hasher to fix that "
      ],
      "metadata": {
        "id": "Km-fEbLoJEPz"
      }
    },
    {
      "cell_type": "code",
      "source": [
        "train_data[\"color\"].value_counts().plot(kind=\"bar\")\n",
        "plt.show()"
      ],
      "metadata": {
        "colab": {
          "base_uri": "https://localhost:8080/",
          "height": 427
        },
        "id": "HEaEUBaHJNSf",
        "outputId": "afc0842d-24fe-418f-d133-1f5f309dc1e5"
      },
      "execution_count": null,
      "outputs": [
        {
          "output_type": "display_data",
          "data": {
            "text/plain": [
              "<Figure size 640x480 with 1 Axes>"
            ],
            "image/png": "[encoded data removed]"
          },
          "metadata": {}
        }
      ]
    },
    {
      "cell_type": "code",
      "source": [
        "train_data[\"clarity\"].value_counts().plot(kind=\"bar\")\n",
        "plt.show()"
      ],
      "metadata": {
        "colab": {
          "base_uri": "https://localhost:8080/",
          "height": 452
        },
        "id": "EZYONJHbJb_E",
        "outputId": "c7421bda-384b-4dea-fca5-bc0b4b826dd6"
      },
      "execution_count": null,
      "outputs": [
        {
          "output_type": "display_data",
          "data": {
            "text/plain": [
              "<Figure size 640x480 with 1 Axes>"
            ],
            "image/png": "[encoded data removed]"
          },
          "metadata": {}
        }
      ]
    },
    {
      "cell_type": "markdown",
      "source": [
        "We Notice there that the VVS2 , VVS1 ,IF & I1 categories have very small amount of records realtive to other categories , So we should fix this .\n",
        "\n",
        "I will use Feature hasher to fix that"
      ],
      "metadata": {
        "id": "oPMYHbzfJpM6"
      }
    },
    {
      "cell_type": "markdown",
      "metadata": {
        "id": "61wdvjz5zqpy"
      },
      "source": [
        "##Preprocessing Function "
      ]
    },
    {
      "cell_type": "code",
      "source": [
        "def apply_feature_hashing_manual(df):\n",
        "  \n",
        "    mask = (df['cut'] == 'Fair') | (df['cut'] == 'Good')\n",
        "    df.loc[mask, 'cut'] = 'Other'\n",
        "\n",
        "    df['clarity'] = df['clarity'].replace({'I1': 'SI2', 'VVS1': 'IF','VVS2': 'IF',})\n",
        "    \n",
        "  \n",
        "    \n",
        "    return df"
      ],
      "metadata": {
        "id": "VnZjfU5PNHMz"
      },
      "execution_count": null,
      "outputs": []
    },
    {
      "cell_type": "code",
      "source": [
        "manual_hashed_trained_data = apply_feature_hashing_manual(train_data)\n",
        "normal_trained_data = train_data.copy()"
      ],
      "metadata": {
        "id": "10x0Qoz4Qh6x"
      },
      "execution_count": null,
      "outputs": []
    },
    {
      "cell_type": "code",
      "source": [
        "manual_hashed_trained_data[\"clarity\"].value_counts().plot(kind=\"bar\")\n",
        "plt.show()"
      ],
      "metadata": {
        "colab": {
          "base_uri": "https://localhost:8080/",
          "height": 443
        },
        "id": "E-I9v9FCQZya",
        "outputId": "fb30653a-deab-41c9-fcdb-8ac46ccba05b"
      },
      "execution_count": null,
      "outputs": [
        {
          "output_type": "display_data",
          "data": {
            "text/plain": [
              "<Figure size 640x480 with 1 Axes>"
            ],
            "image/png": "[encoded data removed]"
          },
          "metadata": {}
        }
      ]
    },
    {
      "cell_type": "code",
      "source": [
        "manual_hashed_trained_data[\"cut\"].value_counts().plot(kind=\"bar\")\n",
        "plt.show()"
      ],
      "metadata": {
        "colab": {
          "base_uri": "https://localhost:8080/",
          "height": 488
        },
        "id": "mXzM-IIWQdsg",
        "outputId": "f4cc5540-7b86-474a-e5f5-e1df9100a153"
      },
      "execution_count": null,
      "outputs": [
        {
          "output_type": "display_data",
          "data": {
            "text/plain": [
              "<Figure size 640x480 with 1 Axes>"
            ],
            "image/png": "[encoded data removed]"
          },
          "metadata": {}
        }
      ]
    },
    {
      "cell_type": "code",
      "source": [
        "from sklearn.feature_extraction import FeatureHasher\n",
        "def apply_feature_hashing(df):\n",
        "    \n",
        "    cut_hasher = FeatureHasher(n_features=3)\n",
        "    cut_hashed = cut_hasher.transform(df['cut'].apply(lambda x: str(x)).to_frame())\n",
        "    cut_hashed_df = pd.DataFrame(cut_hashed.toarray())\n",
        "\n",
        "    \n",
        "    clarity_hasher = FeatureHasher(n_features=5, input_type='object')\n",
        "    clarity_hashed = clarity_hasher.transform(df['clarity'].apply(lambda x: str(x)).to_frame())\n",
        "    clarity_hashed_df = pd.DataFrame(clarity_hashed.toarray())\n",
        "\n",
        "    \n",
        "    hashed_df = pd.concat([df.drop(columns=['cut', 'clarity']), cut_hashed_df, clarity_hashed_df], axis=1)\n",
        "    \n",
        "    return hashed_df"
      ],
      "metadata": {
        "id": "hJODW7jYKOLh"
      },
      "execution_count": null,
      "outputs": []
    },
    {
      "cell_type": "code",
      "execution_count": null,
      "metadata": {
        "id": "aq0xokapzf8y"
      },
      "outputs": [],
      "source": [
        "def preprocess(df):\n",
        "\n",
        "  df['size'] = df['x'] * df['y'] * df['z']\n",
        "  #df['depth'] = (2 * df['z'])/(df['x']+df['y'])\n",
        "  #df['table'] = df['table']/100\n",
        "  df.drop(['x','y','z','Id'],axis=1,inplace=True)\n",
        "\n",
        "  return df "
      ]
    },
    {
      "cell_type": "markdown",
      "source": [
        "##Handle Categorical Features"
      ],
      "metadata": {
        "id": "B5SaMtOqR7PQ"
      }
    },
    {
      "cell_type": "code",
      "source": [
        "cat_attribs = ['cut', 'color', 'clarity']\n",
        "num_attribs = ['carat', 'depth', 'table','size']"
      ],
      "metadata": {
        "id": "ccKAvcMQVSlg"
      },
      "execution_count": null,
      "outputs": []
    },
    {
      "cell_type": "markdown",
      "source": [
        "###Manual Handling"
      ],
      "metadata": {
        "id": "VpvfHvsQSGCA"
      }
    },
    {
      "cell_type": "code",
      "execution_count": null,
      "metadata": {
        "id": "sAvksanN0blS"
      },
      "outputs": [],
      "source": [
        "def handling_categorical_data_manual(df):\n",
        "  color_code = {\n",
        "        'D': 7,\n",
        "        'E': 6,\n",
        "        'F': 5,\n",
        "        'G': 4,\n",
        "        'H': 3,\n",
        "        'I': 2,\n",
        "        'J': 1\n",
        "    }\n",
        "  cut_code = {\n",
        "    'Other':1,\n",
        "    'Very Good':2,\n",
        "    'Premium':3,\n",
        "    'Ideal':4,\n",
        "  }\n",
        "  clarity_code = {\n",
        "    'SI2':1,\n",
        "    'SI1':2,\n",
        "    'VS2':3,\n",
        "    'VS1':4,\n",
        "    'IF':5,\n",
        "  } \n",
        "\n",
        "  df['color'] = df['color'].map(color_code)\n",
        "  df['clarity'] = df['clarity'].map(clarity_code)\n",
        "  df['cut'] = df['cut'].map(cut_code)\n",
        "  \n",
        "  return df"
      ]
    },
    {
      "cell_type": "code",
      "source": [
        "preprocessor_Robust_Manual = ColumnTransformer(\n",
        "  transformers=[\n",
        "        ('num', RobustScaler(), num_attribs),\n",
        "    ])"
      ],
      "metadata": {
        "id": "zeITW9d2WQQ4"
      },
      "execution_count": null,
      "outputs": []
    },
    {
      "cell_type": "markdown",
      "source": [
        "###One Hot Encoder"
      ],
      "metadata": {
        "id": "icMcGxqiSwiw"
      }
    },
    {
      "cell_type": "code",
      "source": [
        "preprocessor_Robust_OHE = ColumnTransformer(\n",
        "  transformers=[\n",
        "        ('num', RobustScaler(), num_attribs),\n",
        "        ('cat', OneHotEncoder(), cat_attribs)\n",
        "    ])\n",
        "  "
      ],
      "metadata": {
        "id": "RC-PW0s9S5hQ"
      },
      "execution_count": null,
      "outputs": []
    },
    {
      "cell_type": "markdown",
      "source": [
        "###Ordinal Encoder"
      ],
      "metadata": {
        "id": "m1TPC-pGTc9n"
      }
    },
    {
      "cell_type": "code",
      "source": [
        "preprocessor_Robust_Ordinal = ColumnTransformer(\n",
        "  transformers=[\n",
        "        ('num', RobustScaler(), num_attribs),\n",
        "        ('cat', OrdinalEncoder(), cat_attribs)\n",
        "    ])\n",
        "  "
      ],
      "metadata": {
        "id": "YCORF5M-Tf3B"
      },
      "execution_count": null,
      "outputs": []
    },
    {
      "cell_type": "markdown",
      "metadata": {
        "id": "KbM6pvcY0ev5"
      },
      "source": [
        "#Creating Piplines & Training the Models"
      ]
    },
    {
      "cell_type": "code",
      "source": [
        "manual_hashed_trained_data = preprocess(manual_hashed_trained_data)\n",
        "normal_trained_data = preprocess(normal_trained_data)"
      ],
      "metadata": {
        "id": "fuBDCrYoWiTJ"
      },
      "execution_count": null,
      "outputs": []
    },
    {
      "cell_type": "code",
      "source": [
        "manual_hashed_trained_data.head()"
      ],
      "metadata": {
        "colab": {
          "base_uri": "https://localhost:8080/",
          "height": 206
        },
        "id": "Wz7h3WTYXzEI",
        "outputId": "5fe9c40d-23b4-4cb9-a46d-4bc94f336544"
      },
      "execution_count": null,
      "outputs": [
        {
          "output_type": "execute_result",
          "data": {
            "text/plain": [
              "      carat      cut color clarity  depth  table  price        size\n",
              "0  0.058269    Ideal     I     SI2   61.8   57.0   4270  176.483340\n",
              "1  0.412110  Premium     G      IF   60.9   58.0  15164  246.965796\n",
              "2 -1.139434    Ideal     F     VS2   61.3   56.0    828   52.943373\n",
              "3 -0.634878    Ideal     G     VS2   61.2   56.0   1577   86.422842\n",
              "4 -0.356675  Premium     H      IF   61.0   57.0   2596  115.315200"
            ],
            "text/html": [
              "\n",
              "  <div id=\"df-b548ec49-c734-46ca-a4dd-781965370d61\">\n",
              "    <div class=\"colab-df-container\">\n",
              "      <div>\n",
              "<style scoped>\n",
              "    .dataframe tbody tr th:only-of-type {\n",
              "        vertical-align: middle;\n",
              "    }\n",
              "\n",
              "    .dataframe tbody tr th {\n",
              "        vertical-align: top;\n",
              "    }\n",
              "\n",
              "    .dataframe thead th {\n",
              "        text-align: right;\n",
              "    }\n",
              "</style>\n",
              "<table border=\"1\" class=\"dataframe\">\n",
              "  <thead>\n",
              "    <tr style=\"text-align: right;\">\n",
              "      <th></th>\n",
              "      <th>carat</th>\n",
              "      <th>cut</th>\n",
              "      <th>color</th>\n",
              "      <th>clarity</th>\n",
              "      <th>depth</th>\n",
              "      <th>table</th>\n",
              "      <th>price</th>\n",
              "      <th>size</th>\n",
              "    </tr>\n",
              "  </thead>\n",
              "  <tbody>\n",
              "    <tr>\n",
              "      <th>0</th>\n",
              "      <td>0.058269</td>\n",
              "      <td>Ideal</td>\n",
              "      <td>I</td>\n",
              "      <td>SI2</td>\n",
              "      <td>61.8</td>\n",
              "      <td>57.0</td>\n",
              "      <td>4270</td>\n",
              "      <td>176.483340</td>\n",
              "    </tr>\n",
              "    <tr>\n",
              "      <th>1</th>\n",
              "      <td>0.412110</td>\n",
              "      <td>Premium</td>\n",
              "      <td>G</td>\n",
              "      <td>IF</td>\n",
              "      <td>60.9</td>\n",
              "      <td>58.0</td>\n",
              "      <td>15164</td>\n",
              "      <td>246.965796</td>\n",
              "    </tr>\n",
              "    <tr>\n",
              "      <th>2</th>\n",
              "      <td>-1.139434</td>\n",
              "      <td>Ideal</td>\n",
              "      <td>F</td>\n",
              "      <td>VS2</td>\n",
              "      <td>61.3</td>\n",
              "      <td>56.0</td>\n",
              "      <td>828</td>\n",
              "      <td>52.943373</td>\n",
              "    </tr>\n",
              "    <tr>\n",
              "      <th>3</th>\n",
              "      <td>-0.634878</td>\n",
              "      <td>Ideal</td>\n",
              "      <td>G</td>\n",
              "      <td>VS2</td>\n",
              "      <td>61.2</td>\n",
              "      <td>56.0</td>\n",
              "      <td>1577</td>\n",
              "      <td>86.422842</td>\n",
              "    </tr>\n",
              "    <tr>\n",
              "      <th>4</th>\n",
              "      <td>-0.356675</td>\n",
              "      <td>Premium</td>\n",
              "      <td>H</td>\n",
              "      <td>IF</td>\n",
              "      <td>61.0</td>\n",
              "      <td>57.0</td>\n",
              "      <td>2596</td>\n",
              "      <td>115.315200</td>\n",
              "    </tr>\n",
              "  </tbody>\n",
              "</table>\n",
              "</div>\n",
              "      <button class=\"colab-df-convert\" onclick=\"convertToInteractive('df-b548ec49-c734-46ca-a4dd-781965370d61')\"\n",
              "              title=\"Convert this dataframe to an interactive table.\"\n",
              "              style=\"display:none;\">\n",
              "        \n",
              "  <svg xmlns=\"http://www.w3.org/2000/svg\" height=\"24px\"viewBox=\"0 0 24 24\"\n",
              "       width=\"24px\">\n",
              "    <path d=\"M0 0h24v24H0V0z\" fill=\"none\"/>\n",
              "    <path d=\"M18.56 5.44l.94 2.06.94-2.06 2.06-.94-2.06-.94-.94-2.06-.94 2.06-2.06.94zm-11 1L8.5 8.5l.94-2.06 2.06-.94-2.06-.94L8.5 2.5l-.94 2.06-2.06.94zm10 10l.94 2.06.94-2.06 2.06-.94-2.06-.94-.94-2.06-.94 2.06-2.06.94z\"/><path d=\"M17.41 7.96l-1.37-1.37c-.4-.4-.92-.59-1.43-.59-.52 0-1.04.2-1.43.59L10.3 9.45l-7.72 7.72c-.78.78-.78 2.05 0 2.83L4 21.41c.39.39.9.59 1.41.59.51 0 1.02-.2 1.41-.59l7.78-7.78 2.81-2.81c.8-.78.8-2.07 0-2.86zM5.41 20L4 18.59l7.72-7.72 1.47 1.35L5.41 20z\"/>\n",
              "  </svg>\n",
              "      </button>\n",
              "      \n",
              "  <style>\n",
              "    .colab-df-container {\n",
              "      display:flex;\n",
              "      flex-wrap:wrap;\n",
              "      gap: 12px;\n",
              "    }\n",
              "\n",
              "    .colab-df-convert {\n",
              "      background-color: #E8F0FE;\n",
              "      border: none;\n",
              "      border-radius: 50%;\n",
              "      cursor: pointer;\n",
              "      display: none;\n",
              "      fill: #1967D2;\n",
              "      height: 32px;\n",
              "      padding: 0 0 0 0;\n",
              "      width: 32px;\n",
              "    }\n",
              "\n",
              "    .colab-df-convert:hover {\n",
              "      background-color: #E2EBFA;\n",
              "      box-shadow: 0px 1px 2px rgba(60, 64, 67, 0.3), 0px 1px 3px 1px rgba(60, 64, 67, 0.15);\n",
              "      fill: #174EA6;\n",
              "    }\n",
              "\n",
              "    [theme=dark] .colab-df-convert {\n",
              "      background-color: #3B4455;\n",
              "      fill: #D2E3FC;\n",
              "    }\n",
              "\n",
              "    [theme=dark] .colab-df-convert:hover {\n",
              "      background-color: #434B5C;\n",
              "      box-shadow: 0px 1px 3px 1px rgba(0, 0, 0, 0.15);\n",
              "      filter: drop-shadow(0px 1px 2px rgba(0, 0, 0, 0.3));\n",
              "      fill: #FFFFFF;\n",
              "    }\n",
              "  </style>\n",
              "\n",
              "      <script>\n",
              "        const buttonEl =\n",
              "          document.querySelector('#df-b548ec49-c734-46ca-a4dd-781965370d61 button.colab-df-convert');\n",
              "        buttonEl.style.display =\n",
              "          google.colab.kernel.accessAllowed ? 'block' : 'none';\n",
              "\n",
              "        async function convertToInteractive(key) {\n",
              "          const element = document.querySelector('#df-b548ec49-c734-46ca-a4dd-781965370d61');\n",
              "          const dataTable =\n",
              "            await google.colab.kernel.invokeFunction('convertToInteractive',\n",
              "                                                     [key], {});\n",
              "          if (!dataTable) return;\n",
              "\n",
              "          const docLinkHtml = 'Like what you see? Visit the ' +\n",
              "            '<a target=\"_blank\" href=https://colab.research.google.com/notebooks/data_table.ipynb>data table notebook</a>'\n",
              "            + ' to learn more about interactive tables.';\n",
              "          element.innerHTML = '';\n",
              "          dataTable['output_type'] = 'display_data';\n",
              "          await google.colab.output.renderOutput(dataTable, element);\n",
              "          const docLink = document.createElement('div');\n",
              "          docLink.innerHTML = docLinkHtml;\n",
              "          element.appendChild(docLink);\n",
              "        }\n",
              "      </script>\n",
              "    </div>\n",
              "  </div>\n",
              "  "
            ]
          },
          "metadata": {},
          "execution_count": 135
        }
      ]
    },
    {
      "cell_type": "markdown",
      "source": [
        "## ONE HOT Encoder Approach with Normal Trained Data"
      ],
      "metadata": {
        "id": "pU8TyQMoXO7J"
      }
    },
    {
      "cell_type": "code",
      "source": [
        "X = normal_trained_data.drop(['price'],axis=1).copy()\n",
        "y = normal_trained_data['price'].copy()"
      ],
      "metadata": {
        "id": "Jnl6U5pKYyTL"
      },
      "execution_count": null,
      "outputs": []
    },
    {
      "cell_type": "code",
      "execution_count": null,
      "metadata": {
        "id": "xmV6QVwyCx0R"
      },
      "outputs": [],
      "source": [
        "X = preprocessor_Robust_OHE.fit_transform(X)"
      ]
    },
    {
      "cell_type": "code",
      "execution_count": null,
      "metadata": {
        "id": "iJcr8jQtCSfs"
      },
      "outputs": [],
      "source": [
        "X_train, X_test, y_train, y_test = train_test_split(X, y, test_size=0.2, random_state=42)"
      ]
    },
    {
      "cell_type": "code",
      "source": [
        "y_train = np.log(y_train)"
      ],
      "metadata": {
        "id": "TsGrAv0INZ3g"
      },
      "execution_count": null,
      "outputs": []
    },
    {
      "cell_type": "markdown",
      "metadata": {
        "id": "V89pANS-CbOp"
      },
      "source": [
        "###Linear Regression"
      ]
    },
    {
      "cell_type": "code",
      "execution_count": null,
      "metadata": {
        "colab": {
          "base_uri": "https://localhost:8080/"
        },
        "id": "o1JJ88OeCLna",
        "outputId": "d1ec49cf-82a5-46b8-a059-66b455eb70e5"
      },
      "outputs": [
        {
          "output_type": "stream",
          "name": "stdout",
          "text": [
            "RMSE: 914.0719158087738\n"
          ]
        }
      ],
      "source": [
        "lin_reg = LinearRegression()\n",
        "lin_reg.fit(X_train,y_train)\n",
        "\n",
        "y_pred = lin_reg.predict(X_test)\n",
        "\n",
        "y_pred = np.exp(y_pred)\n",
        "rmse = mean_squared_error(y_test, y_pred, squared=False)\n",
        "print('RMSE:', rmse)"
      ]
    },
    {
      "cell_type": "markdown",
      "metadata": {
        "id": "zCW3vPjtD7MJ"
      },
      "source": [
        "###SVM"
      ]
    },
    {
      "cell_type": "code",
      "execution_count": null,
      "metadata": {
        "colab": {
          "base_uri": "https://localhost:8080/"
        },
        "id": "iTevtqXzDsNE",
        "outputId": "59c1db68-135c-4f6a-c163-df15360554e9"
      },
      "outputs": [
        {
          "output_type": "stream",
          "name": "stdout",
          "text": [
            "RMSE: 723.2381613147188\n"
          ]
        }
      ],
      "source": [
        "from sklearn.svm import SVR\n",
        "svm = SVR()\n",
        "svm.fit(X_train,y_train)\n",
        "\n",
        "y_pred = svm.predict(X_test)\n",
        "y_pred = np.exp(y_pred)\n",
        "rmse = mean_squared_error(y_test, y_pred, squared=False)\n",
        "print('RMSE:', rmse)"
      ]
    },
    {
      "cell_type": "markdown",
      "source": [
        "###Decision Tree "
      ],
      "metadata": {
        "id": "sBNG6bSlRNBJ"
      }
    },
    {
      "cell_type": "code",
      "source": [
        "d_tree = DecisionTreeRegressor(max_depth=10, min_samples_split=5, min_samples_leaf=5)\n",
        "d_tree.fit(X_train,y_train)\n",
        "\n",
        "y_pred = d_tree.predict(X_test)\n",
        "y_pred = np.exp(y_pred)\n",
        "rmse = mean_squared_error(y_test, y_pred, squared=False)\n",
        "print('RMSE:', rmse)"
      ],
      "metadata": {
        "colab": {
          "base_uri": "https://localhost:8080/"
        },
        "id": "eNkEwK-LRVCf",
        "outputId": "6b037822-8ef4-4a5e-d0fd-610b236c3e78"
      },
      "execution_count": null,
      "outputs": [
        {
          "output_type": "stream",
          "name": "stdout",
          "text": [
            "RMSE: 773.5914543614367\n"
          ]
        }
      ]
    },
    {
      "cell_type": "markdown",
      "metadata": {
        "id": "rfoSfIPMF84p"
      },
      "source": [
        "###Random Forest"
      ]
    },
    {
      "cell_type": "code",
      "execution_count": null,
      "metadata": {
        "colab": {
          "base_uri": "https://localhost:8080/"
        },
        "id": "dAAAubnBEUNe",
        "outputId": "c5177e99-a82a-41b9-f06e-8ac2414600b2"
      },
      "outputs": [
        {
          "output_type": "stream",
          "name": "stdout",
          "text": [
            "RMSE: 683.1804138681912\n"
          ]
        }
      ],
      "source": [
        "rf = RandomForestRegressor(n_estimators=100, max_depth=20, min_samples_split=15, min_samples_leaf=15, random_state=42)\n",
        "rf.fit(X_train, y_train)\n",
        "\n",
        "\n",
        "y_pred = rf.predict(X_test)\n",
        "\n",
        "\n",
        "y_pred = np.exp(y_pred)\n",
        "\n",
        "\n",
        "rmse = mean_squared_error(y_test, y_pred, squared=False)\n",
        "print('RMSE:', rmse)"
      ]
    },
    {
      "cell_type": "markdown",
      "source": [
        "###XGBOOST"
      ],
      "metadata": {
        "id": "uJ5PeUA4QwZJ"
      }
    },
    {
      "cell_type": "code",
      "source": [
        "xgb_model = xgb.XGBRegressor()\n",
        "xgb_model.fit(X_train, y_train)\n",
        "\n",
        "\n",
        "y_pred = xgb_model.predict(X_test)\n",
        "\n",
        "\n",
        "y_pred = np.exp(y_pred)\n",
        "\n",
        "\n",
        "rmse = mean_squared_error(y_test, y_pred, squared=False)\n",
        "print('RMSE:', rmse)"
      ],
      "metadata": {
        "id": "tnQ-Nvw0QCN4",
        "colab": {
          "base_uri": "https://localhost:8080/"
        },
        "outputId": "99a2bd3d-9ccc-4a46-da65-f75f7f8b354b"
      },
      "execution_count": null,
      "outputs": [
        {
          "output_type": "stream",
          "name": "stdout",
          "text": [
            "RMSE: 683.7155169630051\n"
          ]
        }
      ]
    },
    {
      "cell_type": "markdown",
      "source": [
        "## ONE HOT Encoder Approach with Manual Hashed Trained Data"
      ],
      "metadata": {
        "id": "WyfWX1hFWpx5"
      }
    },
    {
      "cell_type": "code",
      "source": [
        "X = manual_hashed_trained_data.drop(['price'],axis=1).copy()\n",
        "y = manual_hashed_trained_data['price'].copy()"
      ],
      "metadata": {
        "id": "PqWbDOLbW1Uw"
      },
      "execution_count": null,
      "outputs": []
    },
    {
      "cell_type": "code",
      "execution_count": null,
      "metadata": {
        "id": "w4pOent-Wpx6"
      },
      "outputs": [],
      "source": [
        "X = preprocessor_Robust_OHE.fit_transform(X)"
      ]
    },
    {
      "cell_type": "code",
      "execution_count": null,
      "metadata": {
        "id": "v5b5lQHiWpx6"
      },
      "outputs": [],
      "source": [
        "X_train, X_test, y_train, y_test = train_test_split(X, y, test_size=0.2, random_state=42)"
      ]
    },
    {
      "cell_type": "code",
      "source": [
        "y_train = np.log(y_train)"
      ],
      "metadata": {
        "id": "DLu20HNoWpx6"
      },
      "execution_count": null,
      "outputs": []
    },
    {
      "cell_type": "markdown",
      "metadata": {
        "id": "glvK8CsJWpx6"
      },
      "source": [
        "###Linear Regression"
      ]
    },
    {
      "cell_type": "code",
      "execution_count": null,
      "metadata": {
        "colab": {
          "base_uri": "https://localhost:8080/"
        },
        "outputId": "5601c321-27d0-408a-9992-faa106c5dfbd",
        "id": "gM5OM1YFWpx7"
      },
      "outputs": [
        {
          "output_type": "stream",
          "name": "stdout",
          "text": [
            "RMSE: 914.0719158087738\n"
          ]
        }
      ],
      "source": [
        "lin_reg = LinearRegression()\n",
        "lin_reg.fit(X_train,y_train)\n",
        "\n",
        "y_pred = lin_reg.predict(X_test)\n",
        "\n",
        "y_pred = np.exp(y_pred)\n",
        "rmse = mean_squared_error(y_test, y_pred, squared=False)\n",
        "print('RMSE:', rmse)"
      ]
    },
    {
      "cell_type": "markdown",
      "metadata": {
        "id": "USnxXAFHWpx7"
      },
      "source": [
        "###SVM"
      ]
    },
    {
      "cell_type": "code",
      "execution_count": null,
      "metadata": {
        "colab": {
          "base_uri": "https://localhost:8080/"
        },
        "outputId": "f62ce14c-5199-4e39-fc06-2461e1299607",
        "id": "e7vM-1XqWpx7"
      },
      "outputs": [
        {
          "output_type": "stream",
          "name": "stdout",
          "text": [
            "RMSE: 723.2381613147188\n"
          ]
        }
      ],
      "source": [
        "from sklearn.svm import SVR\n",
        "svm = SVR()\n",
        "svm.fit(X_train,y_train)\n",
        "\n",
        "y_pred = svm.predict(X_test)\n",
        "y_pred = np.exp(y_pred)\n",
        "rmse = mean_squared_error(y_test, y_pred, squared=False)\n",
        "print('RMSE:', rmse)"
      ]
    },
    {
      "cell_type": "markdown",
      "source": [
        "###Decision Tree "
      ],
      "metadata": {
        "id": "IYw51xOeWpx7"
      }
    },
    {
      "cell_type": "code",
      "source": [
        "d_tree = DecisionTreeRegressor(max_depth=10, min_samples_split=5, min_samples_leaf=5)\n",
        "d_tree.fit(X_train,y_train)\n",
        "\n",
        "y_pred = d_tree.predict(X_test)\n",
        "y_pred = np.exp(y_pred)\n",
        "rmse = mean_squared_error(y_test, y_pred, squared=False)\n",
        "print('RMSE:', rmse)"
      ],
      "metadata": {
        "colab": {
          "base_uri": "https://localhost:8080/"
        },
        "outputId": "2c2a95af-bd87-4af9-dd89-674bcd54f826",
        "id": "ACH3te6yWpx7"
      },
      "execution_count": null,
      "outputs": [
        {
          "output_type": "stream",
          "name": "stdout",
          "text": [
            "RMSE: 773.5652328784595\n"
          ]
        }
      ]
    },
    {
      "cell_type": "markdown",
      "metadata": {
        "id": "-pr9bTMXWpx8"
      },
      "source": [
        "###Random Forest"
      ]
    },
    {
      "cell_type": "code",
      "execution_count": null,
      "metadata": {
        "colab": {
          "base_uri": "https://localhost:8080/"
        },
        "outputId": "e7eae38e-2942-46f8-cd0d-803052122751",
        "id": "PT_qoUH9Wpx8"
      },
      "outputs": [
        {
          "output_type": "stream",
          "name": "stdout",
          "text": [
            "RMSE: 683.1804138681912\n"
          ]
        }
      ],
      "source": [
        "rf = RandomForestRegressor(n_estimators=100, max_depth=20, min_samples_split=15, min_samples_leaf=15, random_state=42)\n",
        "rf.fit(X_train, y_train)\n",
        "\n",
        "\n",
        "y_pred = rf.predict(X_test)\n",
        "\n",
        "\n",
        "y_pred = np.exp(y_pred)\n",
        "\n",
        "\n",
        "rmse = mean_squared_error(y_test, y_pred, squared=False)\n",
        "print('RMSE:', rmse)"
      ]
    },
    {
      "cell_type": "markdown",
      "source": [
        "###XGBOOST"
      ],
      "metadata": {
        "id": "CUFTl09EWpx8"
      }
    },
    {
      "cell_type": "code",
      "source": [
        "xgb_model = xgb.XGBRegressor()\n",
        "xgb_model.fit(X_train, y_train)\n",
        "\n",
        "\n",
        "y_pred = xgb_model.predict(X_test)\n",
        "\n",
        "\n",
        "y_pred = np.exp(y_pred)\n",
        "\n",
        "\n",
        "rmse = mean_squared_error(y_test, y_pred, squared=False)\n",
        "print('RMSE:', rmse)"
      ],
      "metadata": {
        "colab": {
          "base_uri": "https://localhost:8080/"
        },
        "outputId": "09b25d8f-2b91-4845-be78-d986702d3bec",
        "id": "SLD4cr2yWpx8"
      },
      "execution_count": null,
      "outputs": [
        {
          "output_type": "stream",
          "name": "stdout",
          "text": [
            "RMSE: 683.7155169630051\n"
          ]
        }
      ]
    },
    {
      "cell_type": "markdown",
      "source": [
        "##Ordinal Encoder Approach with Normal Trained Data\n",
        "\n",
        "\n",
        "\n",
        "\n",
        "\n",
        "\n"
      ],
      "metadata": {
        "id": "PJFndt5fY1ea"
      }
    },
    {
      "cell_type": "code",
      "source": [
        "X = normal_trained_data.drop(['price'],axis=1).copy()\n",
        "y = normal_trained_data['price'].copy()"
      ],
      "metadata": {
        "id": "7pip5YkXaJOI"
      },
      "execution_count": null,
      "outputs": []
    },
    {
      "cell_type": "code",
      "source": [
        "X = preprocessor_Robust_Ordinal.fit_transform(X)"
      ],
      "metadata": {
        "id": "PF4H6QdpReX4"
      },
      "execution_count": null,
      "outputs": []
    },
    {
      "cell_type": "code",
      "source": [
        "X_train, X_test, y_train, y_test = train_test_split(X, y, test_size=0.2, random_state=42)"
      ],
      "metadata": {
        "id": "EZ4Z-WxhZ5qR"
      },
      "execution_count": null,
      "outputs": []
    },
    {
      "cell_type": "code",
      "source": [
        "y_train = np.log(y_train)"
      ],
      "metadata": {
        "id": "bPiLTwFUZ6ew"
      },
      "execution_count": null,
      "outputs": []
    },
    {
      "cell_type": "markdown",
      "source": [
        "###XGBOOST"
      ],
      "metadata": {
        "id": "C6HcyqdzaMeY"
      }
    },
    {
      "cell_type": "code",
      "source": [
        "xgb_model = xgb.XGBRegressor()\n",
        "xgb_model.fit(X_train, y_train)\n",
        "\n",
        "\n",
        "y_pred = xgb_model.predict(X_test)\n",
        "\n",
        "\n",
        "y_pred = np.exp(y_pred)\n",
        "\n",
        "\n",
        "rmse = mean_squared_error(y_test, y_pred, squared=False)\n",
        "print('RMSE:', rmse)"
      ],
      "metadata": {
        "colab": {
          "base_uri": "https://localhost:8080/"
        },
        "id": "n58XbifDaL4Y",
        "outputId": "502a5c6a-946e-4e8e-9b23-9ac1a2640fd4"
      },
      "execution_count": null,
      "outputs": [
        {
          "output_type": "stream",
          "name": "stdout",
          "text": [
            "RMSE: 673.061575554344\n"
          ]
        }
      ]
    },
    {
      "cell_type": "markdown",
      "source": [
        "###Random Forest"
      ],
      "metadata": {
        "id": "NxDcjosWbTRB"
      }
    },
    {
      "cell_type": "code",
      "source": [
        "rf = RandomForestRegressor(n_estimators=100, max_depth=20, min_samples_split=15, min_samples_leaf=15, random_state=42)\n",
        "rf.fit(X_train, y_train)\n",
        "\n",
        "\n",
        "y_pred = rf.predict(X_test)\n",
        "\n",
        "\n",
        "y_pred = np.exp(y_pred)\n",
        "\n",
        "\n",
        "rmse = mean_squared_error(y_test, y_pred, squared=False)\n",
        "print('RMSE:', rmse)"
      ],
      "metadata": {
        "colab": {
          "base_uri": "https://localhost:8080/"
        },
        "id": "Bz879nwfbWRi",
        "outputId": "b5abd05e-f3b9-416f-ae22-41544a927acd"
      },
      "execution_count": null,
      "outputs": [
        {
          "output_type": "stream",
          "name": "stdout",
          "text": [
            "RMSE: 683.6648086643944\n"
          ]
        }
      ]
    },
    {
      "cell_type": "markdown",
      "source": [
        "###Cat Regressor "
      ],
      "metadata": {
        "id": "LBzg9F0Obw-i"
      }
    },
    {
      "cell_type": "code",
      "source": [
        "!pip install catboost"
      ],
      "metadata": {
        "colab": {
          "base_uri": "https://localhost:8080/"
        },
        "id": "Sy6fFjc8cGrg",
        "outputId": "9ee9c532-6aa7-4385-df98-3f75e37bed5a"
      },
      "execution_count": null,
      "outputs": [
        {
          "output_type": "stream",
          "name": "stdout",
          "text": [
            "Looking in indexes: https://pypi.org/simple, https://us-python.pkg.dev/colab-wheels/public/simple/\n",
            "Requirement already satisfied: catboost in /usr/local/lib/python3.10/dist-packages (1.2)\n",
            "Requirement already satisfied: graphviz in /usr/local/lib/python3.10/dist-packages (from catboost) (0.20.1)\n",
            "Requirement already satisfied: matplotlib in /usr/local/lib/python3.10/dist-packages (from catboost) (3.7.1)\n",
            "Requirement already satisfied: numpy>=1.16.0 in /usr/local/lib/python3.10/dist-packages (from catboost) (1.22.4)\n",
            "Requirement already satisfied: pandas>=0.24 in /usr/local/lib/python3.10/dist-packages (from catboost) (1.5.3)\n",
            "Requirement already satisfied: scipy in /usr/local/lib/python3.10/dist-packages (from catboost) (1.10.1)\n",
            "Requirement already satisfied: plotly in /usr/local/lib/python3.10/dist-packages (from catboost) (5.13.1)\n",
            "Requirement already satisfied: six in /usr/local/lib/python3.10/dist-packages (from catboost) (1.16.0)\n",
            "Requirement already satisfied: python-dateutil>=2.8.1 in /usr/local/lib/python3.10/dist-packages (from pandas>=0.24->catboost) (2.8.2)\n",
            "Requirement already satisfied: pytz>=2020.1 in /usr/local/lib/python3.10/dist-packages (from pandas>=0.24->catboost) (2022.7.1)\n",
            "Requirement already satisfied: contourpy>=1.0.1 in /usr/local/lib/python3.10/dist-packages (from matplotlib->catboost) (1.0.7)\n",
            "Requirement already satisfied: cycler>=0.10 in /usr/local/lib/python3.10/dist-packages (from matplotlib->catboost) (0.11.0)\n",
            "Requirement already satisfied: fonttools>=4.22.0 in /usr/local/lib/python3.10/dist-packages (from matplotlib->catboost) (4.39.3)\n",
            "Requirement already satisfied: kiwisolver>=1.0.1 in /usr/local/lib/python3.10/dist-packages (from matplotlib->catboost) (1.4.4)\n",
            "Requirement already satisfied: packaging>=20.0 in /usr/local/lib/python3.10/dist-packages (from matplotlib->catboost) (23.1)\n",
            "Requirement already satisfied: pillow>=6.2.0 in /usr/local/lib/python3.10/dist-packages (from matplotlib->catboost) (8.4.0)\n",
            "Requirement already satisfied: pyparsing>=2.3.1 in /usr/local/lib/python3.10/dist-packages (from matplotlib->catboost) (3.0.9)\n",
            "Requirement already satisfied: tenacity>=6.2.0 in /usr/local/lib/python3.10/dist-packages (from plotly->catboost) (8.2.2)\n"
          ]
        }
      ]
    },
    {
      "cell_type": "code",
      "source": [
        "from catboost import CatBoostRegressor"
      ],
      "metadata": {
        "id": "GvygeGtqcnj4"
      },
      "execution_count": null,
      "outputs": []
    },
    {
      "cell_type": "code",
      "source": [
        "\n",
        "cat_reg = CatBoostRegressor()\n",
        "cat_reg.fit(X_train,y_train)\n",
        "\n"
      ],
      "metadata": {
        "id": "FXSmlX-Sc9mY",
        "colab": {
          "base_uri": "https://localhost:8080/"
        },
        "outputId": "ef099640-9879-433e-fdff-58ac289fdc4e"
      },
      "execution_count": null,
      "outputs": [
        {
          "output_type": "stream",
          "name": "stdout",
          "text": [
            "Learning rate set to 0.071635\n",
            "0:\tlearn: 0.9475895\ttotal: 9.9ms\tremaining: 9.89s\n",
            "1:\tlearn: 0.8870202\ttotal: 15.8ms\tremaining: 7.89s\n",
            "2:\tlearn: 0.8301381\ttotal: 21.5ms\tremaining: 7.16s\n",
            "3:\tlearn: 0.7777004\ttotal: 27.2ms\tremaining: 6.78s\n",
            "4:\tlearn: 0.7283833\ttotal: 33.2ms\tremaining: 6.6s\n",
            "5:\tlearn: 0.6825317\ttotal: 38.9ms\tremaining: 6.45s\n",
            "6:\tlearn: 0.6408894\ttotal: 44.9ms\tremaining: 6.37s\n",
            "7:\tlearn: 0.6021880\ttotal: 50.7ms\tremaining: 6.28s\n",
            "8:\tlearn: 0.5663791\ttotal: 56.3ms\tremaining: 6.2s\n",
            "9:\tlearn: 0.5332935\ttotal: 62.1ms\tremaining: 6.15s\n",
            "10:\tlearn: 0.5014663\ttotal: 67.8ms\tremaining: 6.09s\n",
            "11:\tlearn: 0.4728491\ttotal: 73.3ms\tremaining: 6.04s\n",
            "12:\tlearn: 0.4457583\ttotal: 78.7ms\tremaining: 5.97s\n",
            "13:\tlearn: 0.4205484\ttotal: 84.7ms\tremaining: 5.96s\n",
            "14:\tlearn: 0.3977816\ttotal: 92.9ms\tremaining: 6.1s\n",
            "15:\tlearn: 0.3772129\ttotal: 98.6ms\tremaining: 6.06s\n",
            "16:\tlearn: 0.3583157\ttotal: 104ms\tremaining: 6.03s\n",
            "17:\tlearn: 0.3411254\ttotal: 110ms\tremaining: 6s\n",
            "18:\tlearn: 0.3239207\ttotal: 115ms\tremaining: 5.96s\n",
            "19:\tlearn: 0.3081991\ttotal: 121ms\tremaining: 5.93s\n",
            "20:\tlearn: 0.2943075\ttotal: 126ms\tremaining: 5.89s\n",
            "21:\tlearn: 0.2817850\ttotal: 132ms\tremaining: 5.87s\n",
            "22:\tlearn: 0.2705825\ttotal: 138ms\tremaining: 5.85s\n",
            "23:\tlearn: 0.2595378\ttotal: 143ms\tremaining: 5.83s\n",
            "24:\tlearn: 0.2491134\ttotal: 149ms\tremaining: 5.8s\n",
            "25:\tlearn: 0.2398512\ttotal: 154ms\tremaining: 5.77s\n",
            "26:\tlearn: 0.2304339\ttotal: 160ms\tremaining: 5.75s\n",
            "27:\tlearn: 0.2218998\ttotal: 165ms\tremaining: 5.74s\n",
            "28:\tlearn: 0.2142068\ttotal: 171ms\tremaining: 5.71s\n",
            "29:\tlearn: 0.2072873\ttotal: 176ms\tremaining: 5.7s\n",
            "30:\tlearn: 0.2014349\ttotal: 182ms\tremaining: 5.67s\n",
            "31:\tlearn: 0.1955107\ttotal: 187ms\tremaining: 5.66s\n",
            "32:\tlearn: 0.1904050\ttotal: 198ms\tremaining: 5.81s\n",
            "33:\tlearn: 0.1857497\ttotal: 208ms\tremaining: 5.91s\n",
            "34:\tlearn: 0.1815354\ttotal: 224ms\tremaining: 6.17s\n",
            "35:\tlearn: 0.1778569\ttotal: 230ms\tremaining: 6.15s\n",
            "36:\tlearn: 0.1734513\ttotal: 235ms\tremaining: 6.12s\n",
            "37:\tlearn: 0.1701384\ttotal: 241ms\tremaining: 6.09s\n",
            "38:\tlearn: 0.1668449\ttotal: 246ms\tremaining: 6.07s\n",
            "39:\tlearn: 0.1639488\ttotal: 252ms\tremaining: 6.05s\n",
            "40:\tlearn: 0.1612457\ttotal: 258ms\tremaining: 6.04s\n",
            "41:\tlearn: 0.1589388\ttotal: 264ms\tremaining: 6.02s\n",
            "42:\tlearn: 0.1561164\ttotal: 270ms\tremaining: 6s\n",
            "43:\tlearn: 0.1534948\ttotal: 275ms\tremaining: 5.98s\n",
            "44:\tlearn: 0.1512435\ttotal: 281ms\tremaining: 5.97s\n",
            "45:\tlearn: 0.1495515\ttotal: 287ms\tremaining: 5.95s\n",
            "46:\tlearn: 0.1475127\ttotal: 293ms\tremaining: 5.94s\n",
            "47:\tlearn: 0.1457371\ttotal: 299ms\tremaining: 5.92s\n",
            "48:\tlearn: 0.1442563\ttotal: 304ms\tremaining: 5.9s\n",
            "49:\tlearn: 0.1429982\ttotal: 309ms\tremaining: 5.88s\n",
            "50:\tlearn: 0.1418615\ttotal: 314ms\tremaining: 5.85s\n",
            "51:\tlearn: 0.1405194\ttotal: 320ms\tremaining: 5.83s\n",
            "52:\tlearn: 0.1395417\ttotal: 325ms\tremaining: 5.81s\n",
            "53:\tlearn: 0.1385384\ttotal: 331ms\tremaining: 5.79s\n",
            "54:\tlearn: 0.1373227\ttotal: 336ms\tremaining: 5.78s\n",
            "55:\tlearn: 0.1364932\ttotal: 342ms\tremaining: 5.76s\n",
            "56:\tlearn: 0.1357220\ttotal: 348ms\tremaining: 5.75s\n",
            "57:\tlearn: 0.1347001\ttotal: 353ms\tremaining: 5.73s\n",
            "58:\tlearn: 0.1338889\ttotal: 360ms\tremaining: 5.75s\n",
            "59:\tlearn: 0.1329844\ttotal: 369ms\tremaining: 5.79s\n",
            "60:\tlearn: 0.1323779\ttotal: 377ms\tremaining: 5.81s\n",
            "61:\tlearn: 0.1317109\ttotal: 383ms\tremaining: 5.79s\n",
            "62:\tlearn: 0.1310522\ttotal: 388ms\tremaining: 5.78s\n",
            "63:\tlearn: 0.1304149\ttotal: 397ms\tremaining: 5.81s\n",
            "64:\tlearn: 0.1299472\ttotal: 402ms\tremaining: 5.79s\n",
            "65:\tlearn: 0.1293630\ttotal: 408ms\tremaining: 5.77s\n",
            "66:\tlearn: 0.1287257\ttotal: 413ms\tremaining: 5.75s\n",
            "67:\tlearn: 0.1281986\ttotal: 418ms\tremaining: 5.73s\n",
            "68:\tlearn: 0.1277381\ttotal: 423ms\tremaining: 5.71s\n",
            "69:\tlearn: 0.1271915\ttotal: 428ms\tremaining: 5.69s\n",
            "70:\tlearn: 0.1267190\ttotal: 434ms\tremaining: 5.67s\n",
            "71:\tlearn: 0.1263293\ttotal: 439ms\tremaining: 5.66s\n",
            "72:\tlearn: 0.1260568\ttotal: 444ms\tremaining: 5.64s\n",
            "73:\tlearn: 0.1257265\ttotal: 449ms\tremaining: 5.62s\n",
            "74:\tlearn: 0.1254375\ttotal: 454ms\tremaining: 5.6s\n",
            "75:\tlearn: 0.1249973\ttotal: 460ms\tremaining: 5.59s\n",
            "76:\tlearn: 0.1247121\ttotal: 465ms\tremaining: 5.57s\n",
            "77:\tlearn: 0.1242934\ttotal: 473ms\tremaining: 5.59s\n",
            "78:\tlearn: 0.1239223\ttotal: 483ms\tremaining: 5.63s\n",
            "79:\tlearn: 0.1236722\ttotal: 491ms\tremaining: 5.64s\n",
            "80:\tlearn: 0.1234289\ttotal: 496ms\tremaining: 5.63s\n",
            "81:\tlearn: 0.1232275\ttotal: 501ms\tremaining: 5.61s\n",
            "82:\tlearn: 0.1230143\ttotal: 506ms\tremaining: 5.59s\n",
            "83:\tlearn: 0.1228440\ttotal: 511ms\tremaining: 5.58s\n",
            "84:\tlearn: 0.1226623\ttotal: 516ms\tremaining: 5.55s\n",
            "85:\tlearn: 0.1223525\ttotal: 522ms\tremaining: 5.54s\n",
            "86:\tlearn: 0.1221065\ttotal: 527ms\tremaining: 5.53s\n",
            "87:\tlearn: 0.1219231\ttotal: 532ms\tremaining: 5.51s\n",
            "88:\tlearn: 0.1216844\ttotal: 538ms\tremaining: 5.5s\n",
            "89:\tlearn: 0.1214752\ttotal: 543ms\tremaining: 5.49s\n",
            "90:\tlearn: 0.1212814\ttotal: 548ms\tremaining: 5.47s\n",
            "91:\tlearn: 0.1211284\ttotal: 553ms\tremaining: 5.46s\n",
            "92:\tlearn: 0.1208748\ttotal: 558ms\tremaining: 5.45s\n",
            "93:\tlearn: 0.1207465\ttotal: 563ms\tremaining: 5.43s\n",
            "94:\tlearn: 0.1205515\ttotal: 569ms\tremaining: 5.42s\n",
            "95:\tlearn: 0.1203491\ttotal: 575ms\tremaining: 5.41s\n",
            "96:\tlearn: 0.1202128\ttotal: 580ms\tremaining: 5.4s\n",
            "97:\tlearn: 0.1200717\ttotal: 616ms\tremaining: 5.67s\n",
            "98:\tlearn: 0.1199775\ttotal: 630ms\tremaining: 5.73s\n",
            "99:\tlearn: 0.1198894\ttotal: 646ms\tremaining: 5.82s\n",
            "100:\tlearn: 0.1197763\ttotal: 659ms\tremaining: 5.86s\n",
            "101:\tlearn: 0.1196698\ttotal: 672ms\tremaining: 5.92s\n",
            "102:\tlearn: 0.1194523\ttotal: 687ms\tremaining: 5.99s\n",
            "103:\tlearn: 0.1193371\ttotal: 704ms\tremaining: 6.06s\n",
            "104:\tlearn: 0.1192376\ttotal: 718ms\tremaining: 6.12s\n",
            "105:\tlearn: 0.1191511\ttotal: 737ms\tremaining: 6.22s\n",
            "106:\tlearn: 0.1189676\ttotal: 753ms\tremaining: 6.28s\n",
            "107:\tlearn: 0.1188870\ttotal: 766ms\tremaining: 6.33s\n",
            "108:\tlearn: 0.1187868\ttotal: 782ms\tremaining: 6.39s\n",
            "109:\tlearn: 0.1186383\ttotal: 796ms\tremaining: 6.44s\n",
            "110:\tlearn: 0.1184942\ttotal: 807ms\tremaining: 6.46s\n",
            "111:\tlearn: 0.1184089\ttotal: 815ms\tremaining: 6.46s\n",
            "112:\tlearn: 0.1183334\ttotal: 824ms\tremaining: 6.47s\n",
            "113:\tlearn: 0.1182161\ttotal: 832ms\tremaining: 6.46s\n",
            "114:\tlearn: 0.1180649\ttotal: 839ms\tremaining: 6.46s\n",
            "115:\tlearn: 0.1179890\ttotal: 845ms\tremaining: 6.44s\n",
            "116:\tlearn: 0.1179083\ttotal: 852ms\tremaining: 6.43s\n",
            "117:\tlearn: 0.1177670\ttotal: 860ms\tremaining: 6.43s\n",
            "118:\tlearn: 0.1176822\ttotal: 866ms\tremaining: 6.41s\n",
            "119:\tlearn: 0.1176052\ttotal: 876ms\tremaining: 6.42s\n",
            "120:\tlearn: 0.1175303\ttotal: 884ms\tremaining: 6.42s\n",
            "121:\tlearn: 0.1174717\ttotal: 905ms\tremaining: 6.51s\n",
            "122:\tlearn: 0.1173684\ttotal: 932ms\tremaining: 6.64s\n",
            "123:\tlearn: 0.1171986\ttotal: 946ms\tremaining: 6.68s\n",
            "124:\tlearn: 0.1170786\ttotal: 963ms\tremaining: 6.74s\n",
            "125:\tlearn: 0.1170214\ttotal: 979ms\tremaining: 6.79s\n",
            "126:\tlearn: 0.1168764\ttotal: 993ms\tremaining: 6.83s\n",
            "127:\tlearn: 0.1168226\ttotal: 1.04s\tremaining: 7.06s\n",
            "128:\tlearn: 0.1167687\ttotal: 1.07s\tremaining: 7.26s\n",
            "129:\tlearn: 0.1166972\ttotal: 1.11s\tremaining: 7.42s\n",
            "130:\tlearn: 0.1166236\ttotal: 1.13s\tremaining: 7.51s\n",
            "131:\tlearn: 0.1165868\ttotal: 1.15s\tremaining: 7.55s\n",
            "132:\tlearn: 0.1165225\ttotal: 1.18s\tremaining: 7.69s\n",
            "133:\tlearn: 0.1164718\ttotal: 1.2s\tremaining: 7.78s\n",
            "134:\tlearn: 0.1162938\ttotal: 1.23s\tremaining: 7.87s\n",
            "135:\tlearn: 0.1162507\ttotal: 1.25s\tremaining: 7.96s\n",
            "136:\tlearn: 0.1161826\ttotal: 1.28s\tremaining: 8.05s\n",
            "137:\tlearn: 0.1161359\ttotal: 1.3s\tremaining: 8.1s\n",
            "138:\tlearn: 0.1160478\ttotal: 1.31s\tremaining: 8.15s\n",
            "139:\tlearn: 0.1160095\ttotal: 1.33s\tremaining: 8.16s\n",
            "140:\tlearn: 0.1159797\ttotal: 1.34s\tremaining: 8.2s\n",
            "141:\tlearn: 0.1158979\ttotal: 1.36s\tremaining: 8.23s\n",
            "142:\tlearn: 0.1158582\ttotal: 1.38s\tremaining: 8.29s\n",
            "143:\tlearn: 0.1158012\ttotal: 1.4s\tremaining: 8.34s\n",
            "144:\tlearn: 0.1157215\ttotal: 1.42s\tremaining: 8.35s\n",
            "145:\tlearn: 0.1156719\ttotal: 1.44s\tremaining: 8.43s\n",
            "146:\tlearn: 0.1156029\ttotal: 1.46s\tremaining: 8.45s\n",
            "147:\tlearn: 0.1155400\ttotal: 1.48s\tremaining: 8.5s\n",
            "148:\tlearn: 0.1154810\ttotal: 1.5s\tremaining: 8.56s\n",
            "149:\tlearn: 0.1154467\ttotal: 1.52s\tremaining: 8.59s\n",
            "150:\tlearn: 0.1153755\ttotal: 1.54s\tremaining: 8.69s\n",
            "151:\tlearn: 0.1153463\ttotal: 1.56s\tremaining: 8.73s\n",
            "152:\tlearn: 0.1152562\ttotal: 1.59s\tremaining: 8.79s\n",
            "153:\tlearn: 0.1151994\ttotal: 1.61s\tremaining: 8.85s\n",
            "154:\tlearn: 0.1151418\ttotal: 1.64s\tremaining: 8.92s\n",
            "155:\tlearn: 0.1151007\ttotal: 1.66s\tremaining: 8.96s\n",
            "156:\tlearn: 0.1150503\ttotal: 1.68s\tremaining: 9.02s\n",
            "157:\tlearn: 0.1149938\ttotal: 1.7s\tremaining: 9.08s\n",
            "158:\tlearn: 0.1149536\ttotal: 1.73s\tremaining: 9.13s\n",
            "159:\tlearn: 0.1149292\ttotal: 1.75s\tremaining: 9.18s\n",
            "160:\tlearn: 0.1148459\ttotal: 1.78s\tremaining: 9.27s\n",
            "161:\tlearn: 0.1147723\ttotal: 1.8s\tremaining: 9.32s\n",
            "162:\tlearn: 0.1147348\ttotal: 1.82s\tremaining: 9.37s\n",
            "163:\tlearn: 0.1146153\ttotal: 1.85s\tremaining: 9.41s\n",
            "164:\tlearn: 0.1145716\ttotal: 1.86s\tremaining: 9.43s\n",
            "165:\tlearn: 0.1145424\ttotal: 1.88s\tremaining: 9.43s\n",
            "166:\tlearn: 0.1144991\ttotal: 1.89s\tremaining: 9.42s\n",
            "167:\tlearn: 0.1144117\ttotal: 1.9s\tremaining: 9.39s\n",
            "168:\tlearn: 0.1143600\ttotal: 1.9s\tremaining: 9.37s\n",
            "169:\tlearn: 0.1143015\ttotal: 1.91s\tremaining: 9.34s\n",
            "170:\tlearn: 0.1142465\ttotal: 1.93s\tremaining: 9.34s\n",
            "171:\tlearn: 0.1141945\ttotal: 1.93s\tremaining: 9.31s\n",
            "172:\tlearn: 0.1141283\ttotal: 1.94s\tremaining: 9.28s\n",
            "173:\tlearn: 0.1140877\ttotal: 1.95s\tremaining: 9.25s\n",
            "174:\tlearn: 0.1140411\ttotal: 1.96s\tremaining: 9.23s\n",
            "175:\tlearn: 0.1140024\ttotal: 1.97s\tremaining: 9.21s\n",
            "176:\tlearn: 0.1139364\ttotal: 1.97s\tremaining: 9.18s\n",
            "177:\tlearn: 0.1139083\ttotal: 1.99s\tremaining: 9.2s\n",
            "178:\tlearn: 0.1138642\ttotal: 2s\tremaining: 9.19s\n",
            "179:\tlearn: 0.1137947\ttotal: 2.01s\tremaining: 9.17s\n",
            "180:\tlearn: 0.1137455\ttotal: 2.02s\tremaining: 9.14s\n",
            "181:\tlearn: 0.1136996\ttotal: 2.04s\tremaining: 9.15s\n",
            "182:\tlearn: 0.1136584\ttotal: 2.05s\tremaining: 9.16s\n",
            "183:\tlearn: 0.1136183\ttotal: 2.07s\tremaining: 9.17s\n",
            "184:\tlearn: 0.1135972\ttotal: 2.08s\tremaining: 9.18s\n",
            "185:\tlearn: 0.1135592\ttotal: 2.11s\tremaining: 9.25s\n",
            "186:\tlearn: 0.1135138\ttotal: 2.13s\tremaining: 9.28s\n",
            "187:\tlearn: 0.1134850\ttotal: 2.15s\tremaining: 9.29s\n",
            "188:\tlearn: 0.1134492\ttotal: 2.17s\tremaining: 9.3s\n",
            "189:\tlearn: 0.1134080\ttotal: 2.19s\tremaining: 9.32s\n",
            "190:\tlearn: 0.1133658\ttotal: 2.21s\tremaining: 9.35s\n",
            "191:\tlearn: 0.1133427\ttotal: 2.23s\tremaining: 9.41s\n",
            "192:\tlearn: 0.1132963\ttotal: 2.26s\tremaining: 9.45s\n",
            "193:\tlearn: 0.1132708\ttotal: 2.27s\tremaining: 9.45s\n",
            "194:\tlearn: 0.1132415\ttotal: 2.29s\tremaining: 9.46s\n",
            "195:\tlearn: 0.1132220\ttotal: 2.31s\tremaining: 9.46s\n",
            "196:\tlearn: 0.1131807\ttotal: 2.32s\tremaining: 9.44s\n",
            "197:\tlearn: 0.1131486\ttotal: 2.33s\tremaining: 9.46s\n",
            "198:\tlearn: 0.1131282\ttotal: 2.35s\tremaining: 9.45s\n",
            "199:\tlearn: 0.1130909\ttotal: 2.36s\tremaining: 9.45s\n",
            "200:\tlearn: 0.1130332\ttotal: 2.38s\tremaining: 9.46s\n",
            "201:\tlearn: 0.1130058\ttotal: 2.39s\tremaining: 9.46s\n",
            "202:\tlearn: 0.1129802\ttotal: 2.41s\tremaining: 9.46s\n",
            "203:\tlearn: 0.1129535\ttotal: 2.42s\tremaining: 9.42s\n",
            "204:\tlearn: 0.1129298\ttotal: 2.42s\tremaining: 9.39s\n",
            "205:\tlearn: 0.1128569\ttotal: 2.43s\tremaining: 9.36s\n",
            "206:\tlearn: 0.1128000\ttotal: 2.43s\tremaining: 9.32s\n",
            "207:\tlearn: 0.1127429\ttotal: 2.44s\tremaining: 9.29s\n",
            "208:\tlearn: 0.1126788\ttotal: 2.44s\tremaining: 9.26s\n",
            "209:\tlearn: 0.1126534\ttotal: 2.45s\tremaining: 9.22s\n",
            "210:\tlearn: 0.1126084\ttotal: 2.46s\tremaining: 9.19s\n",
            "211:\tlearn: 0.1125877\ttotal: 2.46s\tremaining: 9.15s\n",
            "212:\tlearn: 0.1125635\ttotal: 2.47s\tremaining: 9.11s\n",
            "213:\tlearn: 0.1125418\ttotal: 2.47s\tremaining: 9.08s\n",
            "214:\tlearn: 0.1125101\ttotal: 2.48s\tremaining: 9.04s\n",
            "215:\tlearn: 0.1124820\ttotal: 2.48s\tremaining: 9.01s\n",
            "216:\tlearn: 0.1124396\ttotal: 2.49s\tremaining: 8.97s\n",
            "217:\tlearn: 0.1123991\ttotal: 2.49s\tremaining: 8.94s\n",
            "218:\tlearn: 0.1123501\ttotal: 2.5s\tremaining: 8.91s\n",
            "219:\tlearn: 0.1123351\ttotal: 2.5s\tremaining: 8.87s\n",
            "220:\tlearn: 0.1122944\ttotal: 2.51s\tremaining: 8.84s\n",
            "221:\tlearn: 0.1122474\ttotal: 2.51s\tremaining: 8.81s\n",
            "222:\tlearn: 0.1122263\ttotal: 2.52s\tremaining: 8.78s\n",
            "223:\tlearn: 0.1121769\ttotal: 2.53s\tremaining: 8.76s\n",
            "224:\tlearn: 0.1121690\ttotal: 2.54s\tremaining: 8.75s\n",
            "225:\tlearn: 0.1121306\ttotal: 2.54s\tremaining: 8.71s\n",
            "226:\tlearn: 0.1120974\ttotal: 2.55s\tremaining: 8.68s\n",
            "227:\tlearn: 0.1120813\ttotal: 2.56s\tremaining: 8.65s\n",
            "228:\tlearn: 0.1120655\ttotal: 2.56s\tremaining: 8.62s\n",
            "229:\tlearn: 0.1120446\ttotal: 2.57s\tremaining: 8.59s\n",
            "230:\tlearn: 0.1120153\ttotal: 2.57s\tremaining: 8.57s\n",
            "231:\tlearn: 0.1119424\ttotal: 2.58s\tremaining: 8.55s\n",
            "232:\tlearn: 0.1119271\ttotal: 2.59s\tremaining: 8.52s\n",
            "233:\tlearn: 0.1118840\ttotal: 2.6s\tremaining: 8.5s\n",
            "234:\tlearn: 0.1118718\ttotal: 2.61s\tremaining: 8.49s\n",
            "235:\tlearn: 0.1118535\ttotal: 2.61s\tremaining: 8.46s\n",
            "236:\tlearn: 0.1117993\ttotal: 2.62s\tremaining: 8.43s\n",
            "237:\tlearn: 0.1117426\ttotal: 2.62s\tremaining: 8.4s\n",
            "238:\tlearn: 0.1117323\ttotal: 2.63s\tremaining: 8.37s\n",
            "239:\tlearn: 0.1117047\ttotal: 2.63s\tremaining: 8.34s\n",
            "240:\tlearn: 0.1116732\ttotal: 2.64s\tremaining: 8.31s\n",
            "241:\tlearn: 0.1116353\ttotal: 2.64s\tremaining: 8.28s\n",
            "242:\tlearn: 0.1116203\ttotal: 2.65s\tremaining: 8.25s\n",
            "243:\tlearn: 0.1115845\ttotal: 2.65s\tremaining: 8.22s\n",
            "244:\tlearn: 0.1115636\ttotal: 2.66s\tremaining: 8.2s\n",
            "245:\tlearn: 0.1115219\ttotal: 2.67s\tremaining: 8.17s\n",
            "246:\tlearn: 0.1115085\ttotal: 2.67s\tremaining: 8.14s\n",
            "247:\tlearn: 0.1115023\ttotal: 2.67s\tremaining: 8.11s\n",
            "248:\tlearn: 0.1114764\ttotal: 2.68s\tremaining: 8.09s\n",
            "249:\tlearn: 0.1114561\ttotal: 2.69s\tremaining: 8.06s\n",
            "250:\tlearn: 0.1114303\ttotal: 2.69s\tremaining: 8.03s\n",
            "251:\tlearn: 0.1114102\ttotal: 2.69s\tremaining: 8s\n",
            "252:\tlearn: 0.1113709\ttotal: 2.7s\tremaining: 7.97s\n",
            "253:\tlearn: 0.1113381\ttotal: 2.71s\tremaining: 7.95s\n",
            "254:\tlearn: 0.1113051\ttotal: 2.71s\tremaining: 7.92s\n",
            "255:\tlearn: 0.1112929\ttotal: 2.72s\tremaining: 7.9s\n",
            "256:\tlearn: 0.1112270\ttotal: 2.72s\tremaining: 7.87s\n",
            "257:\tlearn: 0.1112080\ttotal: 2.73s\tremaining: 7.84s\n",
            "258:\tlearn: 0.1111658\ttotal: 2.73s\tremaining: 7.82s\n",
            "259:\tlearn: 0.1111238\ttotal: 2.74s\tremaining: 7.8s\n",
            "260:\tlearn: 0.1111015\ttotal: 2.74s\tremaining: 7.77s\n",
            "261:\tlearn: 0.1110536\ttotal: 2.75s\tremaining: 7.75s\n",
            "262:\tlearn: 0.1110414\ttotal: 2.76s\tremaining: 7.72s\n",
            "263:\tlearn: 0.1110346\ttotal: 2.76s\tremaining: 7.7s\n",
            "264:\tlearn: 0.1110284\ttotal: 2.77s\tremaining: 7.69s\n",
            "265:\tlearn: 0.1110134\ttotal: 2.78s\tremaining: 7.67s\n",
            "266:\tlearn: 0.1110126\ttotal: 2.78s\tremaining: 7.64s\n",
            "267:\tlearn: 0.1109781\ttotal: 2.79s\tremaining: 7.62s\n",
            "268:\tlearn: 0.1109692\ttotal: 2.79s\tremaining: 7.6s\n",
            "269:\tlearn: 0.1109508\ttotal: 2.8s\tremaining: 7.57s\n",
            "270:\tlearn: 0.1109452\ttotal: 2.81s\tremaining: 7.55s\n",
            "271:\tlearn: 0.1109410\ttotal: 2.81s\tremaining: 7.52s\n",
            "272:\tlearn: 0.1109119\ttotal: 2.82s\tremaining: 7.5s\n",
            "273:\tlearn: 0.1109058\ttotal: 2.82s\tremaining: 7.48s\n",
            "274:\tlearn: 0.1108864\ttotal: 2.83s\tremaining: 7.46s\n",
            "275:\tlearn: 0.1108639\ttotal: 2.83s\tremaining: 7.43s\n",
            "276:\tlearn: 0.1108406\ttotal: 2.84s\tremaining: 7.41s\n",
            "277:\tlearn: 0.1108209\ttotal: 2.85s\tremaining: 7.39s\n",
            "278:\tlearn: 0.1108026\ttotal: 2.85s\tremaining: 7.37s\n",
            "279:\tlearn: 0.1107905\ttotal: 2.85s\tremaining: 7.34s\n",
            "280:\tlearn: 0.1107731\ttotal: 2.86s\tremaining: 7.32s\n",
            "281:\tlearn: 0.1107366\ttotal: 2.87s\tremaining: 7.3s\n",
            "282:\tlearn: 0.1107102\ttotal: 2.87s\tremaining: 7.28s\n",
            "283:\tlearn: 0.1106908\ttotal: 2.88s\tremaining: 7.27s\n",
            "284:\tlearn: 0.1106808\ttotal: 2.89s\tremaining: 7.26s\n",
            "285:\tlearn: 0.1106649\ttotal: 2.9s\tremaining: 7.24s\n",
            "286:\tlearn: 0.1106351\ttotal: 2.9s\tremaining: 7.22s\n",
            "287:\tlearn: 0.1106101\ttotal: 2.91s\tremaining: 7.2s\n",
            "288:\tlearn: 0.1106066\ttotal: 2.91s\tremaining: 7.17s\n",
            "289:\tlearn: 0.1105834\ttotal: 2.92s\tremaining: 7.15s\n",
            "290:\tlearn: 0.1105784\ttotal: 2.92s\tremaining: 7.13s\n",
            "291:\tlearn: 0.1105716\ttotal: 2.93s\tremaining: 7.11s\n",
            "292:\tlearn: 0.1105425\ttotal: 2.94s\tremaining: 7.09s\n",
            "293:\tlearn: 0.1105411\ttotal: 2.94s\tremaining: 7.06s\n",
            "294:\tlearn: 0.1105346\ttotal: 2.95s\tremaining: 7.04s\n",
            "295:\tlearn: 0.1105158\ttotal: 2.95s\tremaining: 7.02s\n",
            "296:\tlearn: 0.1105101\ttotal: 2.96s\tremaining: 7s\n",
            "297:\tlearn: 0.1104627\ttotal: 2.96s\tremaining: 6.98s\n",
            "298:\tlearn: 0.1104259\ttotal: 2.97s\tremaining: 6.97s\n",
            "299:\tlearn: 0.1104012\ttotal: 2.98s\tremaining: 6.95s\n",
            "300:\tlearn: 0.1103822\ttotal: 2.98s\tremaining: 6.93s\n",
            "301:\tlearn: 0.1103514\ttotal: 2.99s\tremaining: 6.92s\n",
            "302:\tlearn: 0.1103176\ttotal: 3s\tremaining: 6.91s\n",
            "303:\tlearn: 0.1103084\ttotal: 3.01s\tremaining: 6.89s\n",
            "304:\tlearn: 0.1102988\ttotal: 3.02s\tremaining: 6.87s\n",
            "305:\tlearn: 0.1102915\ttotal: 3.02s\tremaining: 6.85s\n",
            "306:\tlearn: 0.1102862\ttotal: 3.03s\tremaining: 6.83s\n",
            "307:\tlearn: 0.1102701\ttotal: 3.03s\tremaining: 6.82s\n",
            "308:\tlearn: 0.1102498\ttotal: 3.04s\tremaining: 6.8s\n",
            "309:\tlearn: 0.1102371\ttotal: 3.04s\tremaining: 6.78s\n",
            "310:\tlearn: 0.1102059\ttotal: 3.05s\tremaining: 6.76s\n",
            "311:\tlearn: 0.1102008\ttotal: 3.06s\tremaining: 6.74s\n",
            "312:\tlearn: 0.1101968\ttotal: 3.06s\tremaining: 6.72s\n",
            "313:\tlearn: 0.1101718\ttotal: 3.07s\tremaining: 6.71s\n",
            "314:\tlearn: 0.1101196\ttotal: 3.08s\tremaining: 6.69s\n",
            "315:\tlearn: 0.1100736\ttotal: 3.08s\tremaining: 6.67s\n",
            "316:\tlearn: 0.1100572\ttotal: 3.09s\tremaining: 6.66s\n",
            "317:\tlearn: 0.1100568\ttotal: 3.09s\tremaining: 6.63s\n",
            "318:\tlearn: 0.1100324\ttotal: 3.1s\tremaining: 6.62s\n",
            "319:\tlearn: 0.1099819\ttotal: 3.12s\tremaining: 6.62s\n",
            "320:\tlearn: 0.1099626\ttotal: 3.13s\tremaining: 6.63s\n",
            "321:\tlearn: 0.1099358\ttotal: 3.15s\tremaining: 6.63s\n",
            "322:\tlearn: 0.1099348\ttotal: 3.17s\tremaining: 6.64s\n",
            "323:\tlearn: 0.1099117\ttotal: 3.19s\tremaining: 6.65s\n",
            "324:\tlearn: 0.1099053\ttotal: 3.2s\tremaining: 6.65s\n",
            "325:\tlearn: 0.1098729\ttotal: 3.21s\tremaining: 6.65s\n",
            "326:\tlearn: 0.1098511\ttotal: 3.22s\tremaining: 6.63s\n",
            "327:\tlearn: 0.1098177\ttotal: 3.23s\tremaining: 6.61s\n",
            "328:\tlearn: 0.1098168\ttotal: 3.23s\tremaining: 6.59s\n",
            "329:\tlearn: 0.1098055\ttotal: 3.24s\tremaining: 6.58s\n",
            "330:\tlearn: 0.1097760\ttotal: 3.25s\tremaining: 6.58s\n",
            "331:\tlearn: 0.1097688\ttotal: 3.27s\tremaining: 6.58s\n",
            "332:\tlearn: 0.1097437\ttotal: 3.29s\tremaining: 6.59s\n",
            "333:\tlearn: 0.1097385\ttotal: 3.3s\tremaining: 6.58s\n",
            "334:\tlearn: 0.1097375\ttotal: 3.31s\tremaining: 6.58s\n",
            "335:\tlearn: 0.1096937\ttotal: 3.33s\tremaining: 6.58s\n",
            "336:\tlearn: 0.1096799\ttotal: 3.34s\tremaining: 6.58s\n",
            "337:\tlearn: 0.1096522\ttotal: 3.36s\tremaining: 6.58s\n",
            "338:\tlearn: 0.1096213\ttotal: 3.39s\tremaining: 6.6s\n",
            "339:\tlearn: 0.1096157\ttotal: 3.4s\tremaining: 6.6s\n",
            "340:\tlearn: 0.1096110\ttotal: 3.41s\tremaining: 6.59s\n",
            "341:\tlearn: 0.1096061\ttotal: 3.42s\tremaining: 6.59s\n",
            "342:\tlearn: 0.1096025\ttotal: 3.44s\tremaining: 6.58s\n",
            "343:\tlearn: 0.1095484\ttotal: 3.45s\tremaining: 6.58s\n",
            "344:\tlearn: 0.1095240\ttotal: 3.47s\tremaining: 6.58s\n",
            "345:\tlearn: 0.1095033\ttotal: 3.48s\tremaining: 6.58s\n",
            "346:\tlearn: 0.1094807\ttotal: 3.5s\tremaining: 6.58s\n",
            "347:\tlearn: 0.1094521\ttotal: 3.51s\tremaining: 6.58s\n",
            "348:\tlearn: 0.1094344\ttotal: 3.53s\tremaining: 6.58s\n",
            "349:\tlearn: 0.1094145\ttotal: 3.54s\tremaining: 6.58s\n",
            "350:\tlearn: 0.1093997\ttotal: 3.56s\tremaining: 6.58s\n",
            "351:\tlearn: 0.1093634\ttotal: 3.58s\tremaining: 6.6s\n",
            "352:\tlearn: 0.1093523\ttotal: 3.6s\tremaining: 6.61s\n",
            "353:\tlearn: 0.1093417\ttotal: 3.62s\tremaining: 6.6s\n",
            "354:\tlearn: 0.1093258\ttotal: 3.63s\tremaining: 6.6s\n",
            "355:\tlearn: 0.1093253\ttotal: 3.65s\tremaining: 6.6s\n",
            "356:\tlearn: 0.1093078\ttotal: 3.66s\tremaining: 6.59s\n",
            "357:\tlearn: 0.1092893\ttotal: 3.67s\tremaining: 6.59s\n",
            "358:\tlearn: 0.1092710\ttotal: 3.69s\tremaining: 6.58s\n",
            "359:\tlearn: 0.1092539\ttotal: 3.7s\tremaining: 6.58s\n",
            "360:\tlearn: 0.1092324\ttotal: 3.72s\tremaining: 6.58s\n",
            "361:\tlearn: 0.1092109\ttotal: 3.73s\tremaining: 6.58s\n",
            "362:\tlearn: 0.1092106\ttotal: 3.74s\tremaining: 6.56s\n",
            "363:\tlearn: 0.1091940\ttotal: 3.76s\tremaining: 6.56s\n",
            "364:\tlearn: 0.1091891\ttotal: 3.77s\tremaining: 6.56s\n",
            "365:\tlearn: 0.1091873\ttotal: 3.79s\tremaining: 6.56s\n",
            "366:\tlearn: 0.1091562\ttotal: 3.8s\tremaining: 6.56s\n",
            "367:\tlearn: 0.1091313\ttotal: 3.82s\tremaining: 6.55s\n",
            "368:\tlearn: 0.1091128\ttotal: 3.83s\tremaining: 6.55s\n",
            "369:\tlearn: 0.1091099\ttotal: 3.84s\tremaining: 6.54s\n",
            "370:\tlearn: 0.1090764\ttotal: 3.86s\tremaining: 6.54s\n",
            "371:\tlearn: 0.1090701\ttotal: 3.87s\tremaining: 6.54s\n",
            "372:\tlearn: 0.1090353\ttotal: 3.89s\tremaining: 6.53s\n",
            "373:\tlearn: 0.1090113\ttotal: 3.9s\tremaining: 6.53s\n",
            "374:\tlearn: 0.1089825\ttotal: 3.91s\tremaining: 6.52s\n",
            "375:\tlearn: 0.1089759\ttotal: 3.92s\tremaining: 6.5s\n",
            "376:\tlearn: 0.1089609\ttotal: 3.93s\tremaining: 6.49s\n",
            "377:\tlearn: 0.1089494\ttotal: 3.94s\tremaining: 6.48s\n",
            "378:\tlearn: 0.1089349\ttotal: 3.95s\tremaining: 6.47s\n",
            "379:\tlearn: 0.1089273\ttotal: 3.96s\tremaining: 6.47s\n",
            "380:\tlearn: 0.1089144\ttotal: 3.98s\tremaining: 6.47s\n",
            "381:\tlearn: 0.1089102\ttotal: 4s\tremaining: 6.47s\n",
            "382:\tlearn: 0.1088960\ttotal: 4.02s\tremaining: 6.47s\n",
            "383:\tlearn: 0.1088702\ttotal: 4.03s\tremaining: 6.47s\n",
            "384:\tlearn: 0.1088506\ttotal: 4.06s\tremaining: 6.49s\n",
            "385:\tlearn: 0.1088328\ttotal: 4.09s\tremaining: 6.5s\n",
            "386:\tlearn: 0.1088143\ttotal: 4.11s\tremaining: 6.52s\n",
            "387:\tlearn: 0.1088016\ttotal: 4.14s\tremaining: 6.53s\n",
            "388:\tlearn: 0.1087901\ttotal: 4.16s\tremaining: 6.53s\n",
            "389:\tlearn: 0.1087713\ttotal: 4.18s\tremaining: 6.54s\n",
            "390:\tlearn: 0.1087631\ttotal: 4.21s\tremaining: 6.57s\n",
            "391:\tlearn: 0.1087293\ttotal: 4.24s\tremaining: 6.58s\n",
            "392:\tlearn: 0.1087208\ttotal: 4.27s\tremaining: 6.6s\n",
            "393:\tlearn: 0.1086911\ttotal: 4.29s\tremaining: 6.6s\n",
            "394:\tlearn: 0.1086802\ttotal: 4.32s\tremaining: 6.61s\n",
            "395:\tlearn: 0.1086625\ttotal: 4.34s\tremaining: 6.61s\n",
            "396:\tlearn: 0.1086434\ttotal: 4.37s\tremaining: 6.63s\n",
            "397:\tlearn: 0.1086219\ttotal: 4.39s\tremaining: 6.64s\n",
            "398:\tlearn: 0.1086073\ttotal: 4.41s\tremaining: 6.64s\n",
            "399:\tlearn: 0.1085875\ttotal: 4.44s\tremaining: 6.66s\n",
            "400:\tlearn: 0.1085777\ttotal: 4.46s\tremaining: 6.67s\n",
            "401:\tlearn: 0.1085662\ttotal: 4.49s\tremaining: 6.67s\n",
            "402:\tlearn: 0.1085567\ttotal: 4.51s\tremaining: 6.68s\n",
            "403:\tlearn: 0.1085373\ttotal: 4.53s\tremaining: 6.68s\n",
            "404:\tlearn: 0.1085300\ttotal: 4.55s\tremaining: 6.69s\n",
            "405:\tlearn: 0.1085073\ttotal: 4.58s\tremaining: 6.7s\n",
            "406:\tlearn: 0.1085029\ttotal: 4.6s\tremaining: 6.71s\n",
            "407:\tlearn: 0.1084866\ttotal: 4.63s\tremaining: 6.71s\n",
            "408:\tlearn: 0.1084660\ttotal: 4.65s\tremaining: 6.72s\n",
            "409:\tlearn: 0.1084490\ttotal: 4.68s\tremaining: 6.73s\n",
            "410:\tlearn: 0.1084294\ttotal: 4.7s\tremaining: 6.74s\n",
            "411:\tlearn: 0.1084063\ttotal: 4.71s\tremaining: 6.73s\n",
            "412:\tlearn: 0.1083875\ttotal: 4.73s\tremaining: 6.73s\n",
            "413:\tlearn: 0.1083801\ttotal: 4.75s\tremaining: 6.72s\n",
            "414:\tlearn: 0.1083633\ttotal: 4.78s\tremaining: 6.74s\n",
            "415:\tlearn: 0.1083507\ttotal: 4.8s\tremaining: 6.74s\n",
            "416:\tlearn: 0.1083477\ttotal: 4.82s\tremaining: 6.74s\n",
            "417:\tlearn: 0.1083346\ttotal: 4.84s\tremaining: 6.74s\n",
            "418:\tlearn: 0.1083246\ttotal: 4.87s\tremaining: 6.75s\n",
            "419:\tlearn: 0.1083163\ttotal: 4.89s\tremaining: 6.75s\n",
            "420:\tlearn: 0.1082934\ttotal: 4.9s\tremaining: 6.75s\n",
            "421:\tlearn: 0.1082782\ttotal: 4.92s\tremaining: 6.74s\n",
            "422:\tlearn: 0.1082645\ttotal: 4.93s\tremaining: 6.73s\n",
            "423:\tlearn: 0.1082262\ttotal: 4.95s\tremaining: 6.72s\n",
            "424:\tlearn: 0.1082019\ttotal: 4.96s\tremaining: 6.72s\n",
            "425:\tlearn: 0.1081878\ttotal: 4.98s\tremaining: 6.71s\n",
            "426:\tlearn: 0.1081752\ttotal: 4.99s\tremaining: 6.7s\n",
            "427:\tlearn: 0.1081669\ttotal: 5s\tremaining: 6.69s\n",
            "428:\tlearn: 0.1081438\ttotal: 5.02s\tremaining: 6.68s\n",
            "429:\tlearn: 0.1081263\ttotal: 5.03s\tremaining: 6.67s\n",
            "430:\tlearn: 0.1081049\ttotal: 5.05s\tremaining: 6.66s\n",
            "431:\tlearn: 0.1080870\ttotal: 5.07s\tremaining: 6.67s\n",
            "432:\tlearn: 0.1080735\ttotal: 5.08s\tremaining: 6.66s\n",
            "433:\tlearn: 0.1080603\ttotal: 5.1s\tremaining: 6.65s\n",
            "434:\tlearn: 0.1080512\ttotal: 5.11s\tremaining: 6.63s\n",
            "435:\tlearn: 0.1080329\ttotal: 5.12s\tremaining: 6.63s\n",
            "436:\tlearn: 0.1080297\ttotal: 5.14s\tremaining: 6.62s\n",
            "437:\tlearn: 0.1080267\ttotal: 5.15s\tremaining: 6.61s\n",
            "438:\tlearn: 0.1080058\ttotal: 5.17s\tremaining: 6.6s\n",
            "439:\tlearn: 0.1080054\ttotal: 5.18s\tremaining: 6.59s\n",
            "440:\tlearn: 0.1080027\ttotal: 5.19s\tremaining: 6.58s\n",
            "441:\tlearn: 0.1079836\ttotal: 5.21s\tremaining: 6.58s\n",
            "442:\tlearn: 0.1079720\ttotal: 5.23s\tremaining: 6.57s\n",
            "443:\tlearn: 0.1079633\ttotal: 5.24s\tremaining: 6.56s\n",
            "444:\tlearn: 0.1079596\ttotal: 5.25s\tremaining: 6.55s\n",
            "445:\tlearn: 0.1079321\ttotal: 5.27s\tremaining: 6.55s\n",
            "446:\tlearn: 0.1079110\ttotal: 5.29s\tremaining: 6.54s\n",
            "447:\tlearn: 0.1078929\ttotal: 5.3s\tremaining: 6.53s\n",
            "448:\tlearn: 0.1078386\ttotal: 5.32s\tremaining: 6.53s\n",
            "449:\tlearn: 0.1078380\ttotal: 5.33s\tremaining: 6.51s\n",
            "450:\tlearn: 0.1078143\ttotal: 5.34s\tremaining: 6.5s\n",
            "451:\tlearn: 0.1078013\ttotal: 5.35s\tremaining: 6.49s\n",
            "452:\tlearn: 0.1077840\ttotal: 5.37s\tremaining: 6.48s\n",
            "453:\tlearn: 0.1077622\ttotal: 5.38s\tremaining: 6.47s\n",
            "454:\tlearn: 0.1077429\ttotal: 5.4s\tremaining: 6.46s\n",
            "455:\tlearn: 0.1077246\ttotal: 5.4s\tremaining: 6.45s\n",
            "456:\tlearn: 0.1077048\ttotal: 5.41s\tremaining: 6.43s\n",
            "457:\tlearn: 0.1076968\ttotal: 5.42s\tremaining: 6.41s\n",
            "458:\tlearn: 0.1076874\ttotal: 5.43s\tremaining: 6.39s\n",
            "459:\tlearn: 0.1076845\ttotal: 5.43s\tremaining: 6.38s\n",
            "460:\tlearn: 0.1076746\ttotal: 5.45s\tremaining: 6.37s\n",
            "461:\tlearn: 0.1076537\ttotal: 5.46s\tremaining: 6.36s\n",
            "462:\tlearn: 0.1076277\ttotal: 5.49s\tremaining: 6.36s\n",
            "463:\tlearn: 0.1076129\ttotal: 5.49s\tremaining: 6.35s\n",
            "464:\tlearn: 0.1076037\ttotal: 5.5s\tremaining: 6.33s\n",
            "465:\tlearn: 0.1075968\ttotal: 5.5s\tremaining: 6.31s\n",
            "466:\tlearn: 0.1075792\ttotal: 5.51s\tremaining: 6.29s\n",
            "467:\tlearn: 0.1075549\ttotal: 5.52s\tremaining: 6.27s\n",
            "468:\tlearn: 0.1075358\ttotal: 5.53s\tremaining: 6.26s\n",
            "469:\tlearn: 0.1075192\ttotal: 5.53s\tremaining: 6.24s\n",
            "470:\tlearn: 0.1075055\ttotal: 5.54s\tremaining: 6.22s\n",
            "471:\tlearn: 0.1074857\ttotal: 5.55s\tremaining: 6.2s\n",
            "472:\tlearn: 0.1074716\ttotal: 5.55s\tremaining: 6.19s\n",
            "473:\tlearn: 0.1074561\ttotal: 5.56s\tremaining: 6.17s\n",
            "474:\tlearn: 0.1074460\ttotal: 5.57s\tremaining: 6.15s\n",
            "475:\tlearn: 0.1074347\ttotal: 5.57s\tremaining: 6.14s\n",
            "476:\tlearn: 0.1074280\ttotal: 5.58s\tremaining: 6.12s\n",
            "477:\tlearn: 0.1074275\ttotal: 5.59s\tremaining: 6.1s\n",
            "478:\tlearn: 0.1074218\ttotal: 5.59s\tremaining: 6.08s\n",
            "479:\tlearn: 0.1074200\ttotal: 5.6s\tremaining: 6.06s\n",
            "480:\tlearn: 0.1074068\ttotal: 5.61s\tremaining: 6.05s\n",
            "481:\tlearn: 0.1073883\ttotal: 5.63s\tremaining: 6.04s\n",
            "482:\tlearn: 0.1073654\ttotal: 5.64s\tremaining: 6.04s\n",
            "483:\tlearn: 0.1073556\ttotal: 5.66s\tremaining: 6.03s\n",
            "484:\tlearn: 0.1073418\ttotal: 5.67s\tremaining: 6.02s\n",
            "485:\tlearn: 0.1073247\ttotal: 5.69s\tremaining: 6.01s\n",
            "486:\tlearn: 0.1073075\ttotal: 5.7s\tremaining: 6s\n",
            "487:\tlearn: 0.1073073\ttotal: 5.71s\tremaining: 5.99s\n",
            "488:\tlearn: 0.1073041\ttotal: 5.72s\tremaining: 5.98s\n",
            "489:\tlearn: 0.1072900\ttotal: 5.74s\tremaining: 5.97s\n",
            "490:\tlearn: 0.1072742\ttotal: 5.75s\tremaining: 5.97s\n",
            "491:\tlearn: 0.1072622\ttotal: 5.77s\tremaining: 5.96s\n",
            "492:\tlearn: 0.1072335\ttotal: 5.79s\tremaining: 5.95s\n",
            "493:\tlearn: 0.1072258\ttotal: 5.8s\tremaining: 5.94s\n",
            "494:\tlearn: 0.1071912\ttotal: 5.81s\tremaining: 5.93s\n",
            "495:\tlearn: 0.1071754\ttotal: 5.83s\tremaining: 5.92s\n",
            "496:\tlearn: 0.1071598\ttotal: 5.84s\tremaining: 5.91s\n",
            "497:\tlearn: 0.1071469\ttotal: 5.85s\tremaining: 5.89s\n",
            "498:\tlearn: 0.1071327\ttotal: 5.86s\tremaining: 5.88s\n",
            "499:\tlearn: 0.1071231\ttotal: 5.87s\tremaining: 5.87s\n",
            "500:\tlearn: 0.1071149\ttotal: 5.9s\tremaining: 5.88s\n",
            "501:\tlearn: 0.1071024\ttotal: 5.92s\tremaining: 5.87s\n",
            "502:\tlearn: 0.1071014\ttotal: 5.93s\tremaining: 5.86s\n",
            "503:\tlearn: 0.1070951\ttotal: 5.94s\tremaining: 5.85s\n",
            "504:\tlearn: 0.1070839\ttotal: 5.96s\tremaining: 5.84s\n",
            "505:\tlearn: 0.1070662\ttotal: 5.97s\tremaining: 5.83s\n",
            "506:\tlearn: 0.1070513\ttotal: 5.99s\tremaining: 5.82s\n",
            "507:\tlearn: 0.1070408\ttotal: 6s\tremaining: 5.81s\n",
            "508:\tlearn: 0.1070329\ttotal: 6.02s\tremaining: 5.8s\n",
            "509:\tlearn: 0.1070255\ttotal: 6.03s\tremaining: 5.79s\n",
            "510:\tlearn: 0.1070175\ttotal: 6.04s\tremaining: 5.78s\n",
            "511:\tlearn: 0.1070067\ttotal: 6.06s\tremaining: 5.78s\n",
            "512:\tlearn: 0.1069968\ttotal: 6.08s\tremaining: 5.77s\n",
            "513:\tlearn: 0.1069716\ttotal: 6.09s\tremaining: 5.76s\n",
            "514:\tlearn: 0.1069524\ttotal: 6.11s\tremaining: 5.75s\n",
            "515:\tlearn: 0.1069337\ttotal: 6.13s\tremaining: 5.75s\n",
            "516:\tlearn: 0.1069247\ttotal: 6.14s\tremaining: 5.74s\n",
            "517:\tlearn: 0.1069087\ttotal: 6.16s\tremaining: 5.73s\n",
            "518:\tlearn: 0.1068837\ttotal: 6.18s\tremaining: 5.72s\n",
            "519:\tlearn: 0.1068686\ttotal: 6.2s\tremaining: 5.72s\n",
            "520:\tlearn: 0.1068592\ttotal: 6.21s\tremaining: 5.71s\n",
            "521:\tlearn: 0.1068557\ttotal: 6.22s\tremaining: 5.7s\n",
            "522:\tlearn: 0.1068320\ttotal: 6.24s\tremaining: 5.69s\n",
            "523:\tlearn: 0.1068114\ttotal: 6.25s\tremaining: 5.68s\n",
            "524:\tlearn: 0.1067941\ttotal: 6.26s\tremaining: 5.66s\n",
            "525:\tlearn: 0.1067817\ttotal: 6.27s\tremaining: 5.65s\n",
            "526:\tlearn: 0.1067815\ttotal: 6.3s\tremaining: 5.65s\n",
            "527:\tlearn: 0.1067813\ttotal: 6.31s\tremaining: 5.64s\n",
            "528:\tlearn: 0.1067667\ttotal: 6.32s\tremaining: 5.63s\n",
            "529:\tlearn: 0.1067517\ttotal: 6.33s\tremaining: 5.61s\n",
            "530:\tlearn: 0.1067421\ttotal: 6.33s\tremaining: 5.59s\n",
            "531:\tlearn: 0.1067420\ttotal: 6.34s\tremaining: 5.58s\n",
            "532:\tlearn: 0.1067326\ttotal: 6.35s\tremaining: 5.56s\n",
            "533:\tlearn: 0.1067192\ttotal: 6.35s\tremaining: 5.54s\n",
            "534:\tlearn: 0.1067062\ttotal: 6.36s\tremaining: 5.53s\n",
            "535:\tlearn: 0.1066970\ttotal: 6.37s\tremaining: 5.51s\n",
            "536:\tlearn: 0.1066836\ttotal: 6.38s\tremaining: 5.5s\n",
            "537:\tlearn: 0.1066647\ttotal: 6.38s\tremaining: 5.48s\n",
            "538:\tlearn: 0.1066450\ttotal: 6.39s\tremaining: 5.47s\n",
            "539:\tlearn: 0.1066371\ttotal: 6.4s\tremaining: 5.45s\n",
            "540:\tlearn: 0.1066314\ttotal: 6.41s\tremaining: 5.43s\n",
            "541:\tlearn: 0.1066290\ttotal: 6.41s\tremaining: 5.42s\n",
            "542:\tlearn: 0.1066147\ttotal: 6.42s\tremaining: 5.4s\n",
            "543:\tlearn: 0.1065999\ttotal: 6.43s\tremaining: 5.39s\n",
            "544:\tlearn: 0.1065988\ttotal: 6.43s\tremaining: 5.37s\n",
            "545:\tlearn: 0.1065859\ttotal: 6.44s\tremaining: 5.36s\n",
            "546:\tlearn: 0.1065680\ttotal: 6.45s\tremaining: 5.34s\n",
            "547:\tlearn: 0.1065502\ttotal: 6.46s\tremaining: 5.32s\n",
            "548:\tlearn: 0.1065303\ttotal: 6.46s\tremaining: 5.31s\n",
            "549:\tlearn: 0.1065153\ttotal: 6.47s\tremaining: 5.29s\n",
            "550:\tlearn: 0.1064969\ttotal: 6.48s\tremaining: 5.28s\n",
            "551:\tlearn: 0.1064710\ttotal: 6.49s\tremaining: 5.27s\n",
            "552:\tlearn: 0.1064550\ttotal: 6.5s\tremaining: 5.25s\n",
            "553:\tlearn: 0.1064489\ttotal: 6.51s\tremaining: 5.24s\n",
            "554:\tlearn: 0.1064366\ttotal: 6.52s\tremaining: 5.22s\n",
            "555:\tlearn: 0.1064260\ttotal: 6.53s\tremaining: 5.21s\n",
            "556:\tlearn: 0.1064096\ttotal: 6.54s\tremaining: 5.2s\n",
            "557:\tlearn: 0.1063897\ttotal: 6.56s\tremaining: 5.2s\n",
            "558:\tlearn: 0.1063786\ttotal: 6.58s\tremaining: 5.19s\n",
            "559:\tlearn: 0.1063684\ttotal: 6.59s\tremaining: 5.18s\n",
            "560:\tlearn: 0.1063653\ttotal: 6.6s\tremaining: 5.17s\n",
            "561:\tlearn: 0.1063406\ttotal: 6.62s\tremaining: 5.16s\n",
            "562:\tlearn: 0.1063332\ttotal: 6.64s\tremaining: 5.15s\n",
            "563:\tlearn: 0.1063246\ttotal: 6.64s\tremaining: 5.14s\n",
            "564:\tlearn: 0.1063104\ttotal: 6.65s\tremaining: 5.12s\n",
            "565:\tlearn: 0.1063031\ttotal: 6.66s\tremaining: 5.11s\n",
            "566:\tlearn: 0.1062992\ttotal: 6.67s\tremaining: 5.09s\n",
            "567:\tlearn: 0.1062901\ttotal: 6.68s\tremaining: 5.08s\n",
            "568:\tlearn: 0.1062888\ttotal: 6.68s\tremaining: 5.06s\n",
            "569:\tlearn: 0.1062746\ttotal: 6.69s\tremaining: 5.05s\n",
            "570:\tlearn: 0.1062576\ttotal: 6.7s\tremaining: 5.03s\n",
            "571:\tlearn: 0.1062399\ttotal: 6.71s\tremaining: 5.02s\n",
            "572:\tlearn: 0.1062296\ttotal: 6.71s\tremaining: 5s\n",
            "573:\tlearn: 0.1062150\ttotal: 6.72s\tremaining: 4.99s\n",
            "574:\tlearn: 0.1062013\ttotal: 6.73s\tremaining: 4.97s\n",
            "575:\tlearn: 0.1061858\ttotal: 6.74s\tremaining: 4.96s\n",
            "576:\tlearn: 0.1061722\ttotal: 6.74s\tremaining: 4.94s\n",
            "577:\tlearn: 0.1061573\ttotal: 6.75s\tremaining: 4.93s\n",
            "578:\tlearn: 0.1061524\ttotal: 6.76s\tremaining: 4.92s\n",
            "579:\tlearn: 0.1061436\ttotal: 6.78s\tremaining: 4.91s\n",
            "580:\tlearn: 0.1061265\ttotal: 6.79s\tremaining: 4.9s\n",
            "581:\tlearn: 0.1061113\ttotal: 6.81s\tremaining: 4.89s\n",
            "582:\tlearn: 0.1061002\ttotal: 6.82s\tremaining: 4.88s\n",
            "583:\tlearn: 0.1060813\ttotal: 6.84s\tremaining: 4.87s\n",
            "584:\tlearn: 0.1060709\ttotal: 6.85s\tremaining: 4.86s\n",
            "585:\tlearn: 0.1060557\ttotal: 6.87s\tremaining: 4.85s\n",
            "586:\tlearn: 0.1060471\ttotal: 6.88s\tremaining: 4.84s\n",
            "587:\tlearn: 0.1060318\ttotal: 6.9s\tremaining: 4.83s\n",
            "588:\tlearn: 0.1060234\ttotal: 6.92s\tremaining: 4.83s\n",
            "589:\tlearn: 0.1060075\ttotal: 6.93s\tremaining: 4.82s\n",
            "590:\tlearn: 0.1060014\ttotal: 6.95s\tremaining: 4.81s\n",
            "591:\tlearn: 0.1059886\ttotal: 6.96s\tremaining: 4.79s\n",
            "592:\tlearn: 0.1059877\ttotal: 6.96s\tremaining: 4.78s\n",
            "593:\tlearn: 0.1059797\ttotal: 6.98s\tremaining: 4.77s\n",
            "594:\tlearn: 0.1059671\ttotal: 6.99s\tremaining: 4.76s\n",
            "595:\tlearn: 0.1059602\ttotal: 7.01s\tremaining: 4.75s\n",
            "596:\tlearn: 0.1059569\ttotal: 7.02s\tremaining: 4.74s\n",
            "597:\tlearn: 0.1059464\ttotal: 7.04s\tremaining: 4.73s\n",
            "598:\tlearn: 0.1059398\ttotal: 7.05s\tremaining: 4.72s\n",
            "599:\tlearn: 0.1059348\ttotal: 7.07s\tremaining: 4.71s\n",
            "600:\tlearn: 0.1059292\ttotal: 7.08s\tremaining: 4.7s\n",
            "601:\tlearn: 0.1059170\ttotal: 7.1s\tremaining: 4.69s\n",
            "602:\tlearn: 0.1059072\ttotal: 7.11s\tremaining: 4.68s\n",
            "603:\tlearn: 0.1058929\ttotal: 7.13s\tremaining: 4.67s\n",
            "604:\tlearn: 0.1058800\ttotal: 7.14s\tremaining: 4.66s\n",
            "605:\tlearn: 0.1058742\ttotal: 7.16s\tremaining: 4.65s\n",
            "606:\tlearn: 0.1058659\ttotal: 7.17s\tremaining: 4.64s\n",
            "607:\tlearn: 0.1058555\ttotal: 7.18s\tremaining: 4.63s\n",
            "608:\tlearn: 0.1058527\ttotal: 7.2s\tremaining: 4.62s\n",
            "609:\tlearn: 0.1058445\ttotal: 7.21s\tremaining: 4.61s\n",
            "610:\tlearn: 0.1058310\ttotal: 7.23s\tremaining: 4.6s\n",
            "611:\tlearn: 0.1058141\ttotal: 7.25s\tremaining: 4.59s\n",
            "612:\tlearn: 0.1058069\ttotal: 7.26s\tremaining: 4.58s\n",
            "613:\tlearn: 0.1057904\ttotal: 7.27s\tremaining: 4.57s\n",
            "614:\tlearn: 0.1057692\ttotal: 7.28s\tremaining: 4.56s\n",
            "615:\tlearn: 0.1057630\ttotal: 7.29s\tremaining: 4.54s\n",
            "616:\tlearn: 0.1057579\ttotal: 7.3s\tremaining: 4.53s\n",
            "617:\tlearn: 0.1057461\ttotal: 7.32s\tremaining: 4.52s\n",
            "618:\tlearn: 0.1057290\ttotal: 7.33s\tremaining: 4.51s\n",
            "619:\tlearn: 0.1057197\ttotal: 7.35s\tremaining: 4.51s\n",
            "620:\tlearn: 0.1057093\ttotal: 7.37s\tremaining: 4.5s\n",
            "621:\tlearn: 0.1056979\ttotal: 7.38s\tremaining: 4.49s\n",
            "622:\tlearn: 0.1056896\ttotal: 7.4s\tremaining: 4.48s\n",
            "623:\tlearn: 0.1056824\ttotal: 7.41s\tremaining: 4.46s\n",
            "624:\tlearn: 0.1056777\ttotal: 7.43s\tremaining: 4.46s\n",
            "625:\tlearn: 0.1056636\ttotal: 7.44s\tremaining: 4.45s\n",
            "626:\tlearn: 0.1056460\ttotal: 7.46s\tremaining: 4.44s\n",
            "627:\tlearn: 0.1056339\ttotal: 7.47s\tremaining: 4.43s\n",
            "628:\tlearn: 0.1056230\ttotal: 7.49s\tremaining: 4.42s\n",
            "629:\tlearn: 0.1056095\ttotal: 7.5s\tremaining: 4.41s\n",
            "630:\tlearn: 0.1055998\ttotal: 7.51s\tremaining: 4.39s\n",
            "631:\tlearn: 0.1055892\ttotal: 7.52s\tremaining: 4.38s\n",
            "632:\tlearn: 0.1055765\ttotal: 7.52s\tremaining: 4.36s\n",
            "633:\tlearn: 0.1055645\ttotal: 7.53s\tremaining: 4.35s\n",
            "634:\tlearn: 0.1055512\ttotal: 7.53s\tremaining: 4.33s\n",
            "635:\tlearn: 0.1055410\ttotal: 7.54s\tremaining: 4.32s\n",
            "636:\tlearn: 0.1055215\ttotal: 7.55s\tremaining: 4.3s\n",
            "637:\tlearn: 0.1055156\ttotal: 7.55s\tremaining: 4.29s\n",
            "638:\tlearn: 0.1055011\ttotal: 7.56s\tremaining: 4.27s\n",
            "639:\tlearn: 0.1054848\ttotal: 7.56s\tremaining: 4.25s\n",
            "640:\tlearn: 0.1054729\ttotal: 7.57s\tremaining: 4.24s\n",
            "641:\tlearn: 0.1054652\ttotal: 7.57s\tremaining: 4.22s\n",
            "642:\tlearn: 0.1054510\ttotal: 7.58s\tremaining: 4.21s\n",
            "643:\tlearn: 0.1054432\ttotal: 7.58s\tremaining: 4.19s\n",
            "644:\tlearn: 0.1054402\ttotal: 7.59s\tremaining: 4.18s\n",
            "645:\tlearn: 0.1054323\ttotal: 7.59s\tremaining: 4.16s\n",
            "646:\tlearn: 0.1054186\ttotal: 7.6s\tremaining: 4.15s\n",
            "647:\tlearn: 0.1054074\ttotal: 7.6s\tremaining: 4.13s\n",
            "648:\tlearn: 0.1054037\ttotal: 7.61s\tremaining: 4.12s\n",
            "649:\tlearn: 0.1053923\ttotal: 7.61s\tremaining: 4.1s\n",
            "650:\tlearn: 0.1053773\ttotal: 7.62s\tremaining: 4.08s\n",
            "651:\tlearn: 0.1053577\ttotal: 7.63s\tremaining: 4.07s\n",
            "652:\tlearn: 0.1053459\ttotal: 7.63s\tremaining: 4.05s\n",
            "653:\tlearn: 0.1053363\ttotal: 7.63s\tremaining: 4.04s\n",
            "654:\tlearn: 0.1053263\ttotal: 7.64s\tremaining: 4.02s\n",
            "655:\tlearn: 0.1053122\ttotal: 7.65s\tremaining: 4.01s\n",
            "656:\tlearn: 0.1053097\ttotal: 7.66s\tremaining: 4s\n",
            "657:\tlearn: 0.1052951\ttotal: 7.66s\tremaining: 3.98s\n",
            "658:\tlearn: 0.1052926\ttotal: 7.67s\tremaining: 3.97s\n",
            "659:\tlearn: 0.1052841\ttotal: 7.67s\tremaining: 3.95s\n",
            "660:\tlearn: 0.1052797\ttotal: 7.68s\tremaining: 3.94s\n",
            "661:\tlearn: 0.1052647\ttotal: 7.68s\tremaining: 3.92s\n",
            "662:\tlearn: 0.1052602\ttotal: 7.69s\tremaining: 3.91s\n",
            "663:\tlearn: 0.1052518\ttotal: 7.7s\tremaining: 3.89s\n",
            "664:\tlearn: 0.1052465\ttotal: 7.7s\tremaining: 3.88s\n",
            "665:\tlearn: 0.1052359\ttotal: 7.71s\tremaining: 3.86s\n",
            "666:\tlearn: 0.1052290\ttotal: 7.71s\tremaining: 3.85s\n",
            "667:\tlearn: 0.1052170\ttotal: 7.71s\tremaining: 3.83s\n",
            "668:\tlearn: 0.1051998\ttotal: 7.72s\tremaining: 3.82s\n",
            "669:\tlearn: 0.1051931\ttotal: 7.73s\tremaining: 3.81s\n",
            "670:\tlearn: 0.1051755\ttotal: 7.73s\tremaining: 3.79s\n",
            "671:\tlearn: 0.1051677\ttotal: 7.74s\tremaining: 3.78s\n",
            "672:\tlearn: 0.1051615\ttotal: 7.74s\tremaining: 3.76s\n",
            "673:\tlearn: 0.1051546\ttotal: 7.75s\tremaining: 3.75s\n",
            "674:\tlearn: 0.1051445\ttotal: 7.75s\tremaining: 3.73s\n",
            "675:\tlearn: 0.1051327\ttotal: 7.76s\tremaining: 3.72s\n",
            "676:\tlearn: 0.1051209\ttotal: 7.76s\tremaining: 3.7s\n",
            "677:\tlearn: 0.1051034\ttotal: 7.77s\tremaining: 3.69s\n",
            "678:\tlearn: 0.1050938\ttotal: 7.77s\tremaining: 3.67s\n",
            "679:\tlearn: 0.1050839\ttotal: 7.78s\tremaining: 3.66s\n",
            "680:\tlearn: 0.1050727\ttotal: 7.78s\tremaining: 3.65s\n",
            "681:\tlearn: 0.1050656\ttotal: 7.79s\tremaining: 3.63s\n",
            "682:\tlearn: 0.1050555\ttotal: 7.79s\tremaining: 3.62s\n",
            "683:\tlearn: 0.1050411\ttotal: 7.8s\tremaining: 3.6s\n",
            "684:\tlearn: 0.1050230\ttotal: 7.8s\tremaining: 3.59s\n",
            "685:\tlearn: 0.1050088\ttotal: 7.81s\tremaining: 3.58s\n",
            "686:\tlearn: 0.1049890\ttotal: 7.82s\tremaining: 3.56s\n",
            "687:\tlearn: 0.1049736\ttotal: 7.82s\tremaining: 3.55s\n",
            "688:\tlearn: 0.1049602\ttotal: 7.83s\tremaining: 3.53s\n",
            "689:\tlearn: 0.1049471\ttotal: 7.83s\tremaining: 3.52s\n",
            "690:\tlearn: 0.1049382\ttotal: 7.84s\tremaining: 3.5s\n",
            "691:\tlearn: 0.1049286\ttotal: 7.84s\tremaining: 3.49s\n",
            "692:\tlearn: 0.1049141\ttotal: 7.85s\tremaining: 3.48s\n",
            "693:\tlearn: 0.1049012\ttotal: 7.85s\tremaining: 3.46s\n",
            "694:\tlearn: 0.1048847\ttotal: 7.87s\tremaining: 3.46s\n",
            "695:\tlearn: 0.1048713\ttotal: 7.88s\tremaining: 3.44s\n",
            "696:\tlearn: 0.1048650\ttotal: 7.88s\tremaining: 3.43s\n",
            "697:\tlearn: 0.1048593\ttotal: 7.89s\tremaining: 3.41s\n",
            "698:\tlearn: 0.1048532\ttotal: 7.89s\tremaining: 3.4s\n",
            "699:\tlearn: 0.1048405\ttotal: 7.9s\tremaining: 3.38s\n",
            "700:\tlearn: 0.1048358\ttotal: 7.9s\tremaining: 3.37s\n",
            "701:\tlearn: 0.1048297\ttotal: 7.91s\tremaining: 3.36s\n",
            "702:\tlearn: 0.1048155\ttotal: 7.92s\tremaining: 3.34s\n",
            "703:\tlearn: 0.1048035\ttotal: 7.92s\tremaining: 3.33s\n",
            "704:\tlearn: 0.1047952\ttotal: 7.93s\tremaining: 3.32s\n",
            "705:\tlearn: 0.1047855\ttotal: 7.93s\tremaining: 3.3s\n",
            "706:\tlearn: 0.1047723\ttotal: 7.94s\tremaining: 3.29s\n",
            "707:\tlearn: 0.1047664\ttotal: 7.94s\tremaining: 3.27s\n",
            "708:\tlearn: 0.1047579\ttotal: 7.95s\tremaining: 3.26s\n",
            "709:\tlearn: 0.1047434\ttotal: 7.95s\tremaining: 3.25s\n",
            "710:\tlearn: 0.1047302\ttotal: 7.96s\tremaining: 3.23s\n",
            "711:\tlearn: 0.1047252\ttotal: 7.96s\tremaining: 3.22s\n",
            "712:\tlearn: 0.1047197\ttotal: 7.97s\tremaining: 3.21s\n",
            "713:\tlearn: 0.1047139\ttotal: 7.97s\tremaining: 3.19s\n",
            "714:\tlearn: 0.1047024\ttotal: 7.98s\tremaining: 3.18s\n",
            "715:\tlearn: 0.1046937\ttotal: 7.98s\tremaining: 3.17s\n",
            "716:\tlearn: 0.1046865\ttotal: 7.99s\tremaining: 3.15s\n",
            "717:\tlearn: 0.1046797\ttotal: 7.99s\tremaining: 3.14s\n",
            "718:\tlearn: 0.1046754\ttotal: 8s\tremaining: 3.13s\n",
            "719:\tlearn: 0.1046638\ttotal: 8s\tremaining: 3.11s\n",
            "720:\tlearn: 0.1046537\ttotal: 8.01s\tremaining: 3.1s\n",
            "721:\tlearn: 0.1046439\ttotal: 8.02s\tremaining: 3.09s\n",
            "722:\tlearn: 0.1046337\ttotal: 8.02s\tremaining: 3.07s\n",
            "723:\tlearn: 0.1046282\ttotal: 8.03s\tremaining: 3.06s\n",
            "724:\tlearn: 0.1046173\ttotal: 8.03s\tremaining: 3.05s\n",
            "725:\tlearn: 0.1046053\ttotal: 8.04s\tremaining: 3.03s\n",
            "726:\tlearn: 0.1046037\ttotal: 8.04s\tremaining: 3.02s\n",
            "727:\tlearn: 0.1045899\ttotal: 8.05s\tremaining: 3.01s\n",
            "728:\tlearn: 0.1045802\ttotal: 8.06s\tremaining: 3s\n",
            "729:\tlearn: 0.1045708\ttotal: 8.06s\tremaining: 2.98s\n",
            "730:\tlearn: 0.1045601\ttotal: 8.07s\tremaining: 2.97s\n",
            "731:\tlearn: 0.1045496\ttotal: 8.07s\tremaining: 2.96s\n",
            "732:\tlearn: 0.1045380\ttotal: 8.08s\tremaining: 2.94s\n",
            "733:\tlearn: 0.1045264\ttotal: 8.08s\tremaining: 2.93s\n",
            "734:\tlearn: 0.1045181\ttotal: 8.09s\tremaining: 2.92s\n",
            "735:\tlearn: 0.1045120\ttotal: 8.09s\tremaining: 2.9s\n",
            "736:\tlearn: 0.1045057\ttotal: 8.1s\tremaining: 2.89s\n",
            "737:\tlearn: 0.1044936\ttotal: 8.1s\tremaining: 2.88s\n",
            "738:\tlearn: 0.1044852\ttotal: 8.11s\tremaining: 2.86s\n",
            "739:\tlearn: 0.1044841\ttotal: 8.11s\tremaining: 2.85s\n",
            "740:\tlearn: 0.1044756\ttotal: 8.12s\tremaining: 2.84s\n",
            "741:\tlearn: 0.1044690\ttotal: 8.12s\tremaining: 2.82s\n",
            "742:\tlearn: 0.1044555\ttotal: 8.13s\tremaining: 2.81s\n",
            "743:\tlearn: 0.1044450\ttotal: 8.13s\tremaining: 2.8s\n",
            "744:\tlearn: 0.1044338\ttotal: 8.14s\tremaining: 2.79s\n",
            "745:\tlearn: 0.1044281\ttotal: 8.14s\tremaining: 2.77s\n",
            "746:\tlearn: 0.1044157\ttotal: 8.15s\tremaining: 2.76s\n",
            "747:\tlearn: 0.1044068\ttotal: 8.16s\tremaining: 2.75s\n",
            "748:\tlearn: 0.1043930\ttotal: 8.17s\tremaining: 2.74s\n",
            "749:\tlearn: 0.1043847\ttotal: 8.18s\tremaining: 2.73s\n",
            "750:\tlearn: 0.1043792\ttotal: 8.18s\tremaining: 2.71s\n",
            "751:\tlearn: 0.1043749\ttotal: 8.19s\tremaining: 2.7s\n",
            "752:\tlearn: 0.1043683\ttotal: 8.19s\tremaining: 2.69s\n",
            "753:\tlearn: 0.1043610\ttotal: 8.2s\tremaining: 2.67s\n",
            "754:\tlearn: 0.1043541\ttotal: 8.2s\tremaining: 2.66s\n",
            "755:\tlearn: 0.1043463\ttotal: 8.21s\tremaining: 2.65s\n",
            "756:\tlearn: 0.1043406\ttotal: 8.21s\tremaining: 2.64s\n",
            "757:\tlearn: 0.1043303\ttotal: 8.22s\tremaining: 2.62s\n",
            "758:\tlearn: 0.1043254\ttotal: 8.22s\tremaining: 2.61s\n",
            "759:\tlearn: 0.1043047\ttotal: 8.23s\tremaining: 2.6s\n",
            "760:\tlearn: 0.1042962\ttotal: 8.23s\tremaining: 2.59s\n",
            "761:\tlearn: 0.1042825\ttotal: 8.24s\tremaining: 2.57s\n",
            "762:\tlearn: 0.1042740\ttotal: 8.24s\tremaining: 2.56s\n",
            "763:\tlearn: 0.1042684\ttotal: 8.25s\tremaining: 2.55s\n",
            "764:\tlearn: 0.1042587\ttotal: 8.26s\tremaining: 2.54s\n",
            "765:\tlearn: 0.1042517\ttotal: 8.26s\tremaining: 2.52s\n",
            "766:\tlearn: 0.1042416\ttotal: 8.27s\tremaining: 2.51s\n",
            "767:\tlearn: 0.1042242\ttotal: 8.27s\tremaining: 2.5s\n",
            "768:\tlearn: 0.1042191\ttotal: 8.28s\tremaining: 2.49s\n",
            "769:\tlearn: 0.1042127\ttotal: 8.28s\tremaining: 2.47s\n",
            "770:\tlearn: 0.1042059\ttotal: 8.29s\tremaining: 2.46s\n",
            "771:\tlearn: 0.1041996\ttotal: 8.3s\tremaining: 2.45s\n",
            "772:\tlearn: 0.1041863\ttotal: 8.3s\tremaining: 2.44s\n",
            "773:\tlearn: 0.1041680\ttotal: 8.31s\tremaining: 2.42s\n",
            "774:\tlearn: 0.1041618\ttotal: 8.31s\tremaining: 2.41s\n",
            "775:\tlearn: 0.1041524\ttotal: 8.32s\tremaining: 2.4s\n",
            "776:\tlearn: 0.1041399\ttotal: 8.32s\tremaining: 2.39s\n",
            "777:\tlearn: 0.1041332\ttotal: 8.33s\tremaining: 2.38s\n",
            "778:\tlearn: 0.1041293\ttotal: 8.33s\tremaining: 2.36s\n",
            "779:\tlearn: 0.1041231\ttotal: 8.34s\tremaining: 2.35s\n",
            "780:\tlearn: 0.1041112\ttotal: 8.34s\tremaining: 2.34s\n",
            "781:\tlearn: 0.1041078\ttotal: 8.35s\tremaining: 2.33s\n",
            "782:\tlearn: 0.1041000\ttotal: 8.36s\tremaining: 2.31s\n",
            "783:\tlearn: 0.1040887\ttotal: 8.36s\tremaining: 2.3s\n",
            "784:\tlearn: 0.1040861\ttotal: 8.37s\tremaining: 2.29s\n",
            "785:\tlearn: 0.1040738\ttotal: 8.37s\tremaining: 2.28s\n",
            "786:\tlearn: 0.1040695\ttotal: 8.38s\tremaining: 2.27s\n",
            "787:\tlearn: 0.1040654\ttotal: 8.38s\tremaining: 2.25s\n",
            "788:\tlearn: 0.1040591\ttotal: 8.39s\tremaining: 2.24s\n",
            "789:\tlearn: 0.1040505\ttotal: 8.39s\tremaining: 2.23s\n",
            "790:\tlearn: 0.1040435\ttotal: 8.39s\tremaining: 2.22s\n",
            "791:\tlearn: 0.1040375\ttotal: 8.4s\tremaining: 2.21s\n",
            "792:\tlearn: 0.1040364\ttotal: 8.4s\tremaining: 2.19s\n",
            "793:\tlearn: 0.1040263\ttotal: 8.41s\tremaining: 2.18s\n",
            "794:\tlearn: 0.1040146\ttotal: 8.41s\tremaining: 2.17s\n",
            "795:\tlearn: 0.1040120\ttotal: 8.42s\tremaining: 2.16s\n",
            "796:\tlearn: 0.1040037\ttotal: 8.43s\tremaining: 2.15s\n",
            "797:\tlearn: 0.1039944\ttotal: 8.43s\tremaining: 2.13s\n",
            "798:\tlearn: 0.1039818\ttotal: 8.44s\tremaining: 2.12s\n",
            "799:\tlearn: 0.1039768\ttotal: 8.44s\tremaining: 2.11s\n",
            "800:\tlearn: 0.1039696\ttotal: 8.45s\tremaining: 2.1s\n",
            "801:\tlearn: 0.1039647\ttotal: 8.45s\tremaining: 2.09s\n",
            "802:\tlearn: 0.1039501\ttotal: 8.46s\tremaining: 2.08s\n",
            "803:\tlearn: 0.1039427\ttotal: 8.46s\tremaining: 2.06s\n",
            "804:\tlearn: 0.1039313\ttotal: 8.47s\tremaining: 2.05s\n",
            "805:\tlearn: 0.1039206\ttotal: 8.48s\tremaining: 2.04s\n",
            "806:\tlearn: 0.1039120\ttotal: 8.48s\tremaining: 2.03s\n",
            "807:\tlearn: 0.1039061\ttotal: 8.49s\tremaining: 2.02s\n",
            "808:\tlearn: 0.1039027\ttotal: 8.49s\tremaining: 2s\n",
            "809:\tlearn: 0.1038887\ttotal: 8.5s\tremaining: 1.99s\n",
            "810:\tlearn: 0.1038800\ttotal: 8.5s\tremaining: 1.98s\n",
            "811:\tlearn: 0.1038725\ttotal: 8.51s\tremaining: 1.97s\n",
            "812:\tlearn: 0.1038709\ttotal: 8.51s\tremaining: 1.96s\n",
            "813:\tlearn: 0.1038647\ttotal: 8.52s\tremaining: 1.95s\n",
            "814:\tlearn: 0.1038583\ttotal: 8.52s\tremaining: 1.93s\n",
            "815:\tlearn: 0.1038479\ttotal: 8.53s\tremaining: 1.92s\n",
            "816:\tlearn: 0.1038390\ttotal: 8.53s\tremaining: 1.91s\n",
            "817:\tlearn: 0.1038285\ttotal: 8.54s\tremaining: 1.9s\n",
            "818:\tlearn: 0.1038199\ttotal: 8.54s\tremaining: 1.89s\n",
            "819:\tlearn: 0.1038091\ttotal: 8.55s\tremaining: 1.88s\n",
            "820:\tlearn: 0.1038022\ttotal: 8.56s\tremaining: 1.86s\n",
            "821:\tlearn: 0.1037905\ttotal: 8.56s\tremaining: 1.85s\n",
            "822:\tlearn: 0.1037780\ttotal: 8.57s\tremaining: 1.84s\n",
            "823:\tlearn: 0.1037757\ttotal: 8.57s\tremaining: 1.83s\n",
            "824:\tlearn: 0.1037710\ttotal: 8.58s\tremaining: 1.82s\n",
            "825:\tlearn: 0.1037627\ttotal: 8.58s\tremaining: 1.81s\n",
            "826:\tlearn: 0.1037552\ttotal: 8.59s\tremaining: 1.8s\n",
            "827:\tlearn: 0.1037477\ttotal: 8.59s\tremaining: 1.78s\n",
            "828:\tlearn: 0.1037463\ttotal: 8.6s\tremaining: 1.77s\n",
            "829:\tlearn: 0.1037354\ttotal: 8.6s\tremaining: 1.76s\n",
            "830:\tlearn: 0.1037297\ttotal: 8.61s\tremaining: 1.75s\n",
            "831:\tlearn: 0.1037246\ttotal: 8.61s\tremaining: 1.74s\n",
            "832:\tlearn: 0.1037205\ttotal: 8.62s\tremaining: 1.73s\n",
            "833:\tlearn: 0.1037099\ttotal: 8.62s\tremaining: 1.72s\n",
            "834:\tlearn: 0.1037019\ttotal: 8.63s\tremaining: 1.7s\n",
            "835:\tlearn: 0.1036997\ttotal: 8.63s\tremaining: 1.69s\n",
            "836:\tlearn: 0.1036928\ttotal: 8.64s\tremaining: 1.68s\n",
            "837:\tlearn: 0.1036842\ttotal: 8.64s\tremaining: 1.67s\n",
            "838:\tlearn: 0.1036757\ttotal: 8.65s\tremaining: 1.66s\n",
            "839:\tlearn: 0.1036720\ttotal: 8.65s\tremaining: 1.65s\n",
            "840:\tlearn: 0.1036653\ttotal: 8.66s\tremaining: 1.64s\n",
            "841:\tlearn: 0.1036604\ttotal: 8.67s\tremaining: 1.63s\n",
            "842:\tlearn: 0.1036515\ttotal: 8.67s\tremaining: 1.61s\n",
            "843:\tlearn: 0.1036469\ttotal: 8.68s\tremaining: 1.6s\n",
            "844:\tlearn: 0.1036393\ttotal: 8.68s\tremaining: 1.59s\n",
            "845:\tlearn: 0.1036316\ttotal: 8.69s\tremaining: 1.58s\n",
            "846:\tlearn: 0.1036233\ttotal: 8.69s\tremaining: 1.57s\n",
            "847:\tlearn: 0.1036120\ttotal: 8.7s\tremaining: 1.56s\n",
            "848:\tlearn: 0.1036115\ttotal: 8.7s\tremaining: 1.55s\n",
            "849:\tlearn: 0.1036058\ttotal: 8.71s\tremaining: 1.54s\n",
            "850:\tlearn: 0.1036037\ttotal: 8.71s\tremaining: 1.52s\n",
            "851:\tlearn: 0.1035923\ttotal: 8.72s\tremaining: 1.51s\n",
            "852:\tlearn: 0.1035835\ttotal: 8.72s\tremaining: 1.5s\n",
            "853:\tlearn: 0.1035768\ttotal: 8.73s\tremaining: 1.49s\n",
            "854:\tlearn: 0.1035624\ttotal: 8.73s\tremaining: 1.48s\n",
            "855:\tlearn: 0.1035559\ttotal: 8.74s\tremaining: 1.47s\n",
            "856:\tlearn: 0.1035481\ttotal: 8.74s\tremaining: 1.46s\n",
            "857:\tlearn: 0.1035387\ttotal: 8.75s\tremaining: 1.45s\n",
            "858:\tlearn: 0.1035169\ttotal: 8.75s\tremaining: 1.44s\n",
            "859:\tlearn: 0.1035063\ttotal: 8.76s\tremaining: 1.43s\n",
            "860:\tlearn: 0.1035003\ttotal: 8.76s\tremaining: 1.41s\n",
            "861:\tlearn: 0.1034968\ttotal: 8.77s\tremaining: 1.4s\n",
            "862:\tlearn: 0.1034887\ttotal: 8.77s\tremaining: 1.39s\n",
            "863:\tlearn: 0.1034797\ttotal: 8.78s\tremaining: 1.38s\n",
            "864:\tlearn: 0.1034693\ttotal: 8.78s\tremaining: 1.37s\n",
            "865:\tlearn: 0.1034583\ttotal: 8.79s\tremaining: 1.36s\n",
            "866:\tlearn: 0.1034479\ttotal: 8.79s\tremaining: 1.35s\n",
            "867:\tlearn: 0.1034356\ttotal: 8.8s\tremaining: 1.34s\n",
            "868:\tlearn: 0.1034297\ttotal: 8.8s\tremaining: 1.33s\n",
            "869:\tlearn: 0.1034175\ttotal: 8.81s\tremaining: 1.32s\n",
            "870:\tlearn: 0.1034143\ttotal: 8.82s\tremaining: 1.3s\n",
            "871:\tlearn: 0.1034041\ttotal: 8.82s\tremaining: 1.29s\n",
            "872:\tlearn: 0.1033937\ttotal: 8.83s\tremaining: 1.28s\n",
            "873:\tlearn: 0.1033861\ttotal: 8.83s\tremaining: 1.27s\n",
            "874:\tlearn: 0.1033822\ttotal: 8.84s\tremaining: 1.26s\n",
            "875:\tlearn: 0.1033787\ttotal: 8.84s\tremaining: 1.25s\n",
            "876:\tlearn: 0.1033731\ttotal: 8.85s\tremaining: 1.24s\n",
            "877:\tlearn: 0.1033700\ttotal: 8.85s\tremaining: 1.23s\n",
            "878:\tlearn: 0.1033676\ttotal: 8.86s\tremaining: 1.22s\n",
            "879:\tlearn: 0.1033616\ttotal: 8.87s\tremaining: 1.21s\n",
            "880:\tlearn: 0.1033583\ttotal: 8.87s\tremaining: 1.2s\n",
            "881:\tlearn: 0.1033474\ttotal: 8.88s\tremaining: 1.19s\n",
            "882:\tlearn: 0.1033345\ttotal: 8.88s\tremaining: 1.18s\n",
            "883:\tlearn: 0.1033299\ttotal: 8.89s\tremaining: 1.17s\n",
            "884:\tlearn: 0.1033262\ttotal: 8.89s\tremaining: 1.16s\n",
            "885:\tlearn: 0.1033190\ttotal: 8.9s\tremaining: 1.14s\n",
            "886:\tlearn: 0.1033156\ttotal: 8.9s\tremaining: 1.13s\n",
            "887:\tlearn: 0.1033110\ttotal: 8.91s\tremaining: 1.12s\n",
            "888:\tlearn: 0.1033035\ttotal: 8.91s\tremaining: 1.11s\n",
            "889:\tlearn: 0.1032926\ttotal: 8.92s\tremaining: 1.1s\n",
            "890:\tlearn: 0.1032898\ttotal: 8.92s\tremaining: 1.09s\n",
            "891:\tlearn: 0.1032852\ttotal: 8.93s\tremaining: 1.08s\n",
            "892:\tlearn: 0.1032767\ttotal: 8.93s\tremaining: 1.07s\n",
            "893:\tlearn: 0.1032670\ttotal: 8.94s\tremaining: 1.06s\n",
            "894:\tlearn: 0.1032562\ttotal: 8.94s\tremaining: 1.05s\n",
            "895:\tlearn: 0.1032488\ttotal: 8.95s\tremaining: 1.04s\n",
            "896:\tlearn: 0.1032419\ttotal: 8.95s\tremaining: 1.03s\n",
            "897:\tlearn: 0.1032361\ttotal: 8.96s\tremaining: 1.02s\n",
            "898:\tlearn: 0.1032266\ttotal: 8.96s\tremaining: 1.01s\n",
            "899:\tlearn: 0.1032199\ttotal: 8.97s\tremaining: 997ms\n",
            "900:\tlearn: 0.1032108\ttotal: 8.97s\tremaining: 986ms\n",
            "901:\tlearn: 0.1032062\ttotal: 8.98s\tremaining: 976ms\n",
            "902:\tlearn: 0.1032014\ttotal: 8.98s\tremaining: 965ms\n",
            "903:\tlearn: 0.1031916\ttotal: 8.99s\tremaining: 955ms\n",
            "904:\tlearn: 0.1031785\ttotal: 8.99s\tremaining: 944ms\n",
            "905:\tlearn: 0.1031703\ttotal: 9s\tremaining: 934ms\n",
            "906:\tlearn: 0.1031640\ttotal: 9.01s\tremaining: 923ms\n",
            "907:\tlearn: 0.1031576\ttotal: 9.01s\tremaining: 913ms\n",
            "908:\tlearn: 0.1031469\ttotal: 9.02s\tremaining: 903ms\n",
            "909:\tlearn: 0.1031456\ttotal: 9.02s\tremaining: 892ms\n",
            "910:\tlearn: 0.1031393\ttotal: 9.03s\tremaining: 882ms\n",
            "911:\tlearn: 0.1031297\ttotal: 9.03s\tremaining: 872ms\n",
            "912:\tlearn: 0.1031206\ttotal: 9.04s\tremaining: 861ms\n",
            "913:\tlearn: 0.1031087\ttotal: 9.04s\tremaining: 851ms\n",
            "914:\tlearn: 0.1030967\ttotal: 9.05s\tremaining: 841ms\n",
            "915:\tlearn: 0.1030902\ttotal: 9.06s\tremaining: 831ms\n",
            "916:\tlearn: 0.1030825\ttotal: 9.06s\tremaining: 820ms\n",
            "917:\tlearn: 0.1030736\ttotal: 9.07s\tremaining: 810ms\n",
            "918:\tlearn: 0.1030619\ttotal: 9.07s\tremaining: 800ms\n",
            "919:\tlearn: 0.1030557\ttotal: 9.08s\tremaining: 789ms\n",
            "920:\tlearn: 0.1030513\ttotal: 9.08s\tremaining: 779ms\n",
            "921:\tlearn: 0.1030447\ttotal: 9.09s\tremaining: 769ms\n",
            "922:\tlearn: 0.1030420\ttotal: 9.09s\tremaining: 759ms\n",
            "923:\tlearn: 0.1030334\ttotal: 9.1s\tremaining: 748ms\n",
            "924:\tlearn: 0.1030300\ttotal: 9.1s\tremaining: 738ms\n",
            "925:\tlearn: 0.1030264\ttotal: 9.11s\tremaining: 728ms\n",
            "926:\tlearn: 0.1030144\ttotal: 9.11s\tremaining: 718ms\n",
            "927:\tlearn: 0.1030067\ttotal: 9.12s\tremaining: 708ms\n",
            "928:\tlearn: 0.1029958\ttotal: 9.12s\tremaining: 697ms\n",
            "929:\tlearn: 0.1029843\ttotal: 9.13s\tremaining: 687ms\n",
            "930:\tlearn: 0.1029810\ttotal: 9.13s\tremaining: 677ms\n",
            "931:\tlearn: 0.1029759\ttotal: 9.14s\tremaining: 667ms\n",
            "932:\tlearn: 0.1029718\ttotal: 9.15s\tremaining: 657ms\n",
            "933:\tlearn: 0.1029667\ttotal: 9.16s\tremaining: 647ms\n",
            "934:\tlearn: 0.1029610\ttotal: 9.16s\tremaining: 637ms\n",
            "935:\tlearn: 0.1029597\ttotal: 9.17s\tremaining: 627ms\n",
            "936:\tlearn: 0.1029520\ttotal: 9.18s\tremaining: 617ms\n",
            "937:\tlearn: 0.1029481\ttotal: 9.18s\tremaining: 607ms\n",
            "938:\tlearn: 0.1029425\ttotal: 9.19s\tremaining: 597ms\n",
            "939:\tlearn: 0.1029378\ttotal: 9.19s\tremaining: 587ms\n",
            "940:\tlearn: 0.1029247\ttotal: 9.2s\tremaining: 577ms\n",
            "941:\tlearn: 0.1029132\ttotal: 9.2s\tremaining: 567ms\n",
            "942:\tlearn: 0.1029087\ttotal: 9.21s\tremaining: 556ms\n",
            "943:\tlearn: 0.1029049\ttotal: 9.21s\tremaining: 546ms\n",
            "944:\tlearn: 0.1028901\ttotal: 9.21s\tremaining: 536ms\n",
            "945:\tlearn: 0.1028846\ttotal: 9.22s\tremaining: 526ms\n",
            "946:\tlearn: 0.1028760\ttotal: 9.22s\tremaining: 516ms\n",
            "947:\tlearn: 0.1028683\ttotal: 9.23s\tremaining: 506ms\n",
            "948:\tlearn: 0.1028631\ttotal: 9.23s\tremaining: 496ms\n",
            "949:\tlearn: 0.1028430\ttotal: 9.24s\tremaining: 486ms\n",
            "950:\tlearn: 0.1028404\ttotal: 9.24s\tremaining: 476ms\n",
            "951:\tlearn: 0.1028296\ttotal: 9.26s\tremaining: 467ms\n",
            "952:\tlearn: 0.1028122\ttotal: 9.26s\tremaining: 457ms\n",
            "953:\tlearn: 0.1028072\ttotal: 9.27s\tremaining: 447ms\n",
            "954:\tlearn: 0.1028011\ttotal: 9.27s\tremaining: 437ms\n",
            "955:\tlearn: 0.1027921\ttotal: 9.28s\tremaining: 427ms\n",
            "956:\tlearn: 0.1027815\ttotal: 9.28s\tremaining: 417ms\n",
            "957:\tlearn: 0.1027760\ttotal: 9.29s\tremaining: 407ms\n",
            "958:\tlearn: 0.1027717\ttotal: 9.29s\tremaining: 397ms\n",
            "959:\tlearn: 0.1027700\ttotal: 9.29s\tremaining: 387ms\n",
            "960:\tlearn: 0.1027621\ttotal: 9.3s\tremaining: 377ms\n",
            "961:\tlearn: 0.1027519\ttotal: 9.31s\tremaining: 368ms\n",
            "962:\tlearn: 0.1027357\ttotal: 9.31s\tremaining: 358ms\n",
            "963:\tlearn: 0.1027234\ttotal: 9.32s\tremaining: 348ms\n",
            "964:\tlearn: 0.1027199\ttotal: 9.32s\tremaining: 338ms\n",
            "965:\tlearn: 0.1027107\ttotal: 9.33s\tremaining: 328ms\n",
            "966:\tlearn: 0.1027045\ttotal: 9.33s\tremaining: 318ms\n",
            "967:\tlearn: 0.1026984\ttotal: 9.34s\tremaining: 309ms\n",
            "968:\tlearn: 0.1026939\ttotal: 9.34s\tremaining: 299ms\n",
            "969:\tlearn: 0.1026881\ttotal: 9.35s\tremaining: 289ms\n",
            "970:\tlearn: 0.1026791\ttotal: 9.35s\tremaining: 279ms\n",
            "971:\tlearn: 0.1026716\ttotal: 9.36s\tremaining: 270ms\n",
            "972:\tlearn: 0.1026697\ttotal: 9.36s\tremaining: 260ms\n",
            "973:\tlearn: 0.1026666\ttotal: 9.37s\tremaining: 250ms\n",
            "974:\tlearn: 0.1026620\ttotal: 9.38s\tremaining: 240ms\n",
            "975:\tlearn: 0.1026531\ttotal: 9.38s\tremaining: 231ms\n",
            "976:\tlearn: 0.1026495\ttotal: 9.38s\tremaining: 221ms\n",
            "977:\tlearn: 0.1026443\ttotal: 9.39s\tremaining: 211ms\n",
            "978:\tlearn: 0.1026395\ttotal: 9.39s\tremaining: 202ms\n",
            "979:\tlearn: 0.1026319\ttotal: 9.4s\tremaining: 192ms\n",
            "980:\tlearn: 0.1026224\ttotal: 9.4s\tremaining: 182ms\n",
            "981:\tlearn: 0.1026169\ttotal: 9.41s\tremaining: 172ms\n",
            "982:\tlearn: 0.1026136\ttotal: 9.42s\tremaining: 163ms\n",
            "983:\tlearn: 0.1026104\ttotal: 9.42s\tremaining: 153ms\n",
            "984:\tlearn: 0.1026027\ttotal: 9.43s\tremaining: 144ms\n",
            "985:\tlearn: 0.1025905\ttotal: 9.43s\tremaining: 134ms\n",
            "986:\tlearn: 0.1025829\ttotal: 9.44s\tremaining: 124ms\n",
            "987:\tlearn: 0.1025793\ttotal: 9.44s\tremaining: 115ms\n",
            "988:\tlearn: 0.1025688\ttotal: 9.45s\tremaining: 105ms\n",
            "989:\tlearn: 0.1025583\ttotal: 9.46s\tremaining: 95.5ms\n",
            "990:\tlearn: 0.1025518\ttotal: 9.46s\tremaining: 85.9ms\n",
            "991:\tlearn: 0.1025467\ttotal: 9.47s\tremaining: 76.3ms\n",
            "992:\tlearn: 0.1025426\ttotal: 9.47s\tremaining: 66.8ms\n",
            "993:\tlearn: 0.1025296\ttotal: 9.49s\tremaining: 57.3ms\n",
            "994:\tlearn: 0.1025240\ttotal: 9.5s\tremaining: 47.7ms\n",
            "995:\tlearn: 0.1025097\ttotal: 9.5s\tremaining: 38.2ms\n",
            "996:\tlearn: 0.1025045\ttotal: 9.51s\tremaining: 28.6ms\n",
            "997:\tlearn: 0.1024963\ttotal: 9.51s\tremaining: 19.1ms\n",
            "998:\tlearn: 0.1024855\ttotal: 9.52s\tremaining: 9.53ms\n",
            "999:\tlearn: 0.1024789\ttotal: 9.52s\tremaining: 0us\n"
          ]
        },
        {
          "output_type": "execute_result",
          "data": {
            "text/plain": [
              "<catboost.core.CatBoostRegressor at 0x7f8046208df0>"
            ]
          },
          "metadata": {},
          "execution_count": 162
        }
      ]
    },
    {
      "cell_type": "code",
      "source": [
        "y_pred = cat_reg.predict(X_test)\n",
        "y_pred = np.exp(y_pred)\n",
        "rmse = mean_squared_error(y_test, y_pred, squared=False)\n",
        "print('RMSE:', rmse)"
      ],
      "metadata": {
        "colab": {
          "base_uri": "https://localhost:8080/"
        },
        "id": "_jZ0nbEQUQyY",
        "outputId": "0082d0d4-02ab-44fd-f7ab-43a62f52feea"
      },
      "execution_count": null,
      "outputs": [
        {
          "output_type": "stream",
          "name": "stdout",
          "text": [
            "RMSE: 651.894780098139\n"
          ]
        }
      ]
    },
    {
      "cell_type": "markdown",
      "source": [
        "##Ordinal Encoder Approach with Manual Hashed Trained Data\n",
        "\n",
        "\n",
        "\n",
        "\n",
        "\n",
        "\n"
      ],
      "metadata": {
        "id": "kF42s8lVXZpN"
      }
    },
    {
      "cell_type": "code",
      "source": [
        "X = manual_hashed_trained_data.drop(['price'],axis=1).copy()\n",
        "y = manual_hashed_trained_data['price'].copy()"
      ],
      "metadata": {
        "id": "pWSqBAG6XZpN"
      },
      "execution_count": null,
      "outputs": []
    },
    {
      "cell_type": "code",
      "source": [
        "X = preprocessor_Robust_Ordinal.fit_transform(X)"
      ],
      "metadata": {
        "id": "OL5_e4MNXZpN"
      },
      "execution_count": null,
      "outputs": []
    },
    {
      "cell_type": "code",
      "source": [
        "X_train, X_test, y_train, y_test = train_test_split(X, y, test_size=0.2, random_state=42)"
      ],
      "metadata": {
        "id": "eE0laZVjXZpO"
      },
      "execution_count": null,
      "outputs": []
    },
    {
      "cell_type": "code",
      "source": [
        "y_train = np.log(y_train)"
      ],
      "metadata": {
        "id": "fe8qMdv6XZpO"
      },
      "execution_count": null,
      "outputs": []
    },
    {
      "cell_type": "markdown",
      "source": [
        "###XGBOOST"
      ],
      "metadata": {
        "id": "GV21aidRXZpO"
      }
    },
    {
      "cell_type": "code",
      "source": [
        "xgb_model = xgb.XGBRegressor()\n",
        "xgb_model.fit(X_train, y_train)\n",
        "\n",
        "\n",
        "y_pred = xgb_model.predict(X_test)\n",
        "\n",
        "\n",
        "y_pred = np.exp(y_pred)\n",
        "\n",
        "\n",
        "rmse = mean_squared_error(y_test, y_pred, squared=False)\n",
        "print('RMSE:', rmse)"
      ],
      "metadata": {
        "colab": {
          "base_uri": "https://localhost:8080/"
        },
        "outputId": "1e350e19-d7ba-49d6-c340-cc2277c34072",
        "id": "KL7696UuXZpO"
      },
      "execution_count": null,
      "outputs": [
        {
          "output_type": "stream",
          "name": "stdout",
          "text": [
            "RMSE: 673.061575554344\n"
          ]
        }
      ]
    },
    {
      "cell_type": "markdown",
      "source": [
        "###Random Forest"
      ],
      "metadata": {
        "id": "VGUeRGutXZpO"
      }
    },
    {
      "cell_type": "code",
      "source": [
        "rf = RandomForestRegressor(n_estimators=100, max_depth=20, min_samples_split=15, min_samples_leaf=15, random_state=42)\n",
        "rf.fit(X_train, y_train)\n",
        "\n",
        "\n",
        "y_pred = rf.predict(X_test)\n",
        "\n",
        "\n",
        "y_pred = np.exp(y_pred)\n",
        "\n",
        "\n",
        "rmse = mean_squared_error(y_test, y_pred, squared=False)\n",
        "print('RMSE:', rmse)"
      ],
      "metadata": {
        "colab": {
          "base_uri": "https://localhost:8080/"
        },
        "outputId": "11ad2137-fe13-47f3-f123-aecff5420333",
        "id": "8PiBvdVcXZpO"
      },
      "execution_count": null,
      "outputs": [
        {
          "output_type": "stream",
          "name": "stdout",
          "text": [
            "RMSE: 683.6648086643944\n"
          ]
        }
      ]
    },
    {
      "cell_type": "markdown",
      "source": [
        "###Cat Regressor "
      ],
      "metadata": {
        "id": "0lfCdT73XZpP"
      }
    },
    {
      "cell_type": "code",
      "source": [
        "!pip install catboost"
      ],
      "metadata": {
        "colab": {
          "base_uri": "https://localhost:8080/"
        },
        "outputId": "8d156bec-77b5-4244-9c5e-b978dbd01100",
        "id": "6PjFY9J_XZpP"
      },
      "execution_count": null,
      "outputs": [
        {
          "output_type": "stream",
          "name": "stdout",
          "text": [
            "Looking in indexes: https://pypi.org/simple, https://us-python.pkg.dev/colab-wheels/public/simple/\n",
            "Requirement already satisfied: catboost in /usr/local/lib/python3.10/dist-packages (1.2)\n",
            "Requirement already satisfied: graphviz in /usr/local/lib/python3.10/dist-packages (from catboost) (0.20.1)\n",
            "Requirement already satisfied: matplotlib in /usr/local/lib/python3.10/dist-packages (from catboost) (3.7.1)\n",
            "Requirement already satisfied: numpy>=1.16.0 in /usr/local/lib/python3.10/dist-packages (from catboost) (1.22.4)\n",
            "Requirement already satisfied: pandas>=0.24 in /usr/local/lib/python3.10/dist-packages (from catboost) (1.5.3)\n",
            "Requirement already satisfied: scipy in /usr/local/lib/python3.10/dist-packages (from catboost) (1.10.1)\n",
            "Requirement already satisfied: plotly in /usr/local/lib/python3.10/dist-packages (from catboost) (5.13.1)\n",
            "Requirement already satisfied: six in /usr/local/lib/python3.10/dist-packages (from catboost) (1.16.0)\n",
            "Requirement already satisfied: python-dateutil>=2.8.1 in /usr/local/lib/python3.10/dist-packages (from pandas>=0.24->catboost) (2.8.2)\n",
            "Requirement already satisfied: pytz>=2020.1 in /usr/local/lib/python3.10/dist-packages (from pandas>=0.24->catboost) (2022.7.1)\n",
            "Requirement already satisfied: contourpy>=1.0.1 in /usr/local/lib/python3.10/dist-packages (from matplotlib->catboost) (1.0.7)\n",
            "Requirement already satisfied: cycler>=0.10 in /usr/local/lib/python3.10/dist-packages (from matplotlib->catboost) (0.11.0)\n",
            "Requirement already satisfied: fonttools>=4.22.0 in /usr/local/lib/python3.10/dist-packages (from matplotlib->catboost) (4.39.3)\n",
            "Requirement already satisfied: kiwisolver>=1.0.1 in /usr/local/lib/python3.10/dist-packages (from matplotlib->catboost) (1.4.4)\n",
            "Requirement already satisfied: packaging>=20.0 in /usr/local/lib/python3.10/dist-packages (from matplotlib->catboost) (23.1)\n",
            "Requirement already satisfied: pillow>=6.2.0 in /usr/local/lib/python3.10/dist-packages (from matplotlib->catboost) (8.4.0)\n",
            "Requirement already satisfied: pyparsing>=2.3.1 in /usr/local/lib/python3.10/dist-packages (from matplotlib->catboost) (3.0.9)\n",
            "Requirement already satisfied: tenacity>=6.2.0 in /usr/local/lib/python3.10/dist-packages (from plotly->catboost) (8.2.2)\n"
          ]
        }
      ]
    },
    {
      "cell_type": "code",
      "source": [
        "from catboost import CatBoostRegressor"
      ],
      "metadata": {
        "id": "SB5WHwFPXZpP"
      },
      "execution_count": null,
      "outputs": []
    },
    {
      "cell_type": "code",
      "source": [
        "cat_reg = CatBoostRegressor()\n",
        "cat_reg.fit(X_train,y_train)\n",
        "\n"
      ],
      "metadata": {
        "colab": {
          "base_uri": "https://localhost:8080/"
        },
        "outputId": "27b59952-f46c-415b-e2fb-e411b30114d6",
        "id": "PuJCTQOVXZpP"
      },
      "execution_count": null,
      "outputs": [
        {
          "output_type": "stream",
          "name": "stdout",
          "text": [
            "Learning rate set to 0.071635\n",
            "0:\tlearn: 0.9475895\ttotal: 6.79ms\tremaining: 6.79s\n",
            "1:\tlearn: 0.8870202\ttotal: 12.5ms\tremaining: 6.24s\n",
            "2:\tlearn: 0.8301381\ttotal: 18.1ms\tremaining: 6.02s\n",
            "3:\tlearn: 0.7777004\ttotal: 23.8ms\tremaining: 5.94s\n",
            "4:\tlearn: 0.7283833\ttotal: 29.4ms\tremaining: 5.85s\n",
            "5:\tlearn: 0.6825317\ttotal: 35.1ms\tremaining: 5.82s\n",
            "6:\tlearn: 0.6408894\ttotal: 40.7ms\tremaining: 5.78s\n",
            "7:\tlearn: 0.6021880\ttotal: 48.2ms\tremaining: 5.97s\n",
            "8:\tlearn: 0.5663791\ttotal: 53.9ms\tremaining: 5.93s\n",
            "9:\tlearn: 0.5332935\ttotal: 59.6ms\tremaining: 5.9s\n",
            "10:\tlearn: 0.5014663\ttotal: 65.2ms\tremaining: 5.86s\n",
            "11:\tlearn: 0.4728491\ttotal: 70.5ms\tremaining: 5.81s\n",
            "12:\tlearn: 0.4457583\ttotal: 76ms\tremaining: 5.77s\n",
            "13:\tlearn: 0.4205484\ttotal: 81.7ms\tremaining: 5.75s\n",
            "14:\tlearn: 0.3977816\ttotal: 88.8ms\tremaining: 5.83s\n",
            "15:\tlearn: 0.3772129\ttotal: 94.2ms\tremaining: 5.79s\n",
            "16:\tlearn: 0.3583157\ttotal: 99.6ms\tremaining: 5.76s\n",
            "17:\tlearn: 0.3411254\ttotal: 106ms\tremaining: 5.78s\n",
            "18:\tlearn: 0.3239207\ttotal: 115ms\tremaining: 5.93s\n",
            "19:\tlearn: 0.3081991\ttotal: 129ms\tremaining: 6.32s\n",
            "20:\tlearn: 0.2943075\ttotal: 136ms\tremaining: 6.34s\n",
            "21:\tlearn: 0.2817850\ttotal: 142ms\tremaining: 6.3s\n",
            "22:\tlearn: 0.2705825\ttotal: 147ms\tremaining: 6.24s\n",
            "23:\tlearn: 0.2595378\ttotal: 152ms\tremaining: 6.19s\n",
            "24:\tlearn: 0.2491134\ttotal: 158ms\tremaining: 6.14s\n",
            "25:\tlearn: 0.2398512\ttotal: 163ms\tremaining: 6.11s\n",
            "26:\tlearn: 0.2304339\ttotal: 168ms\tremaining: 6.07s\n",
            "27:\tlearn: 0.2218998\ttotal: 174ms\tremaining: 6.04s\n",
            "28:\tlearn: 0.2142068\ttotal: 180ms\tremaining: 6.02s\n",
            "29:\tlearn: 0.2072873\ttotal: 185ms\tremaining: 6s\n",
            "30:\tlearn: 0.2014349\ttotal: 195ms\tremaining: 6.08s\n",
            "31:\tlearn: 0.1955107\ttotal: 200ms\tremaining: 6.06s\n",
            "32:\tlearn: 0.1904050\ttotal: 206ms\tremaining: 6.04s\n",
            "33:\tlearn: 0.1857497\ttotal: 212ms\tremaining: 6.01s\n",
            "34:\tlearn: 0.1815354\ttotal: 217ms\tremaining: 5.97s\n",
            "35:\tlearn: 0.1778569\ttotal: 222ms\tremaining: 5.95s\n",
            "36:\tlearn: 0.1734513\ttotal: 228ms\tremaining: 5.93s\n",
            "37:\tlearn: 0.1701384\ttotal: 233ms\tremaining: 5.91s\n",
            "38:\tlearn: 0.1668449\ttotal: 239ms\tremaining: 5.88s\n",
            "39:\tlearn: 0.1639488\ttotal: 244ms\tremaining: 5.87s\n",
            "40:\tlearn: 0.1612457\ttotal: 250ms\tremaining: 5.85s\n",
            "41:\tlearn: 0.1589388\ttotal: 256ms\tremaining: 5.83s\n",
            "42:\tlearn: 0.1561164\ttotal: 264ms\tremaining: 5.87s\n",
            "43:\tlearn: 0.1534948\ttotal: 270ms\tremaining: 5.86s\n",
            "44:\tlearn: 0.1512435\ttotal: 275ms\tremaining: 5.84s\n",
            "45:\tlearn: 0.1495515\ttotal: 281ms\tremaining: 5.82s\n",
            "46:\tlearn: 0.1475127\ttotal: 287ms\tremaining: 5.81s\n",
            "47:\tlearn: 0.1457371\ttotal: 292ms\tremaining: 5.8s\n",
            "48:\tlearn: 0.1442563\ttotal: 298ms\tremaining: 5.79s\n",
            "49:\tlearn: 0.1429982\ttotal: 304ms\tremaining: 5.77s\n",
            "50:\tlearn: 0.1418615\ttotal: 309ms\tremaining: 5.75s\n",
            "51:\tlearn: 0.1405194\ttotal: 314ms\tremaining: 5.73s\n",
            "52:\tlearn: 0.1395417\ttotal: 319ms\tremaining: 5.71s\n",
            "53:\tlearn: 0.1385384\ttotal: 325ms\tremaining: 5.7s\n",
            "54:\tlearn: 0.1373227\ttotal: 331ms\tremaining: 5.68s\n",
            "55:\tlearn: 0.1364932\ttotal: 337ms\tremaining: 5.67s\n",
            "56:\tlearn: 0.1357220\ttotal: 342ms\tremaining: 5.66s\n",
            "57:\tlearn: 0.1347001\ttotal: 348ms\tremaining: 5.64s\n",
            "58:\tlearn: 0.1338889\ttotal: 353ms\tremaining: 5.63s\n",
            "59:\tlearn: 0.1329844\ttotal: 359ms\tremaining: 5.62s\n",
            "60:\tlearn: 0.1323779\ttotal: 364ms\tremaining: 5.6s\n",
            "61:\tlearn: 0.1317109\ttotal: 369ms\tremaining: 5.58s\n",
            "62:\tlearn: 0.1310522\ttotal: 375ms\tremaining: 5.57s\n",
            "63:\tlearn: 0.1304149\ttotal: 380ms\tremaining: 5.56s\n",
            "64:\tlearn: 0.1299472\ttotal: 385ms\tremaining: 5.53s\n",
            "65:\tlearn: 0.1293630\ttotal: 395ms\tremaining: 5.58s\n",
            "66:\tlearn: 0.1287257\ttotal: 401ms\tremaining: 5.58s\n",
            "67:\tlearn: 0.1281986\ttotal: 407ms\tremaining: 5.57s\n",
            "68:\tlearn: 0.1277381\ttotal: 411ms\tremaining: 5.55s\n",
            "69:\tlearn: 0.1271915\ttotal: 417ms\tremaining: 5.54s\n",
            "70:\tlearn: 0.1267190\ttotal: 422ms\tremaining: 5.53s\n",
            "71:\tlearn: 0.1263293\ttotal: 428ms\tremaining: 5.51s\n",
            "72:\tlearn: 0.1260568\ttotal: 433ms\tremaining: 5.49s\n",
            "73:\tlearn: 0.1257265\ttotal: 438ms\tremaining: 5.48s\n",
            "74:\tlearn: 0.1254375\ttotal: 443ms\tremaining: 5.46s\n",
            "75:\tlearn: 0.1249973\ttotal: 448ms\tremaining: 5.45s\n",
            "76:\tlearn: 0.1247121\ttotal: 453ms\tremaining: 5.43s\n",
            "77:\tlearn: 0.1242934\ttotal: 459ms\tremaining: 5.42s\n",
            "78:\tlearn: 0.1239223\ttotal: 464ms\tremaining: 5.42s\n",
            "79:\tlearn: 0.1236722\ttotal: 469ms\tremaining: 5.4s\n",
            "80:\tlearn: 0.1234289\ttotal: 474ms\tremaining: 5.38s\n",
            "81:\tlearn: 0.1232275\ttotal: 479ms\tremaining: 5.37s\n",
            "82:\tlearn: 0.1230143\ttotal: 485ms\tremaining: 5.35s\n",
            "83:\tlearn: 0.1228440\ttotal: 489ms\tremaining: 5.34s\n",
            "84:\tlearn: 0.1226623\ttotal: 494ms\tremaining: 5.32s\n",
            "85:\tlearn: 0.1223525\ttotal: 500ms\tremaining: 5.31s\n",
            "86:\tlearn: 0.1221065\ttotal: 507ms\tremaining: 5.32s\n",
            "87:\tlearn: 0.1219231\ttotal: 512ms\tremaining: 5.31s\n",
            "88:\tlearn: 0.1216844\ttotal: 518ms\tremaining: 5.3s\n",
            "89:\tlearn: 0.1214752\ttotal: 523ms\tremaining: 5.29s\n",
            "90:\tlearn: 0.1212814\ttotal: 530ms\tremaining: 5.29s\n",
            "91:\tlearn: 0.1211284\ttotal: 535ms\tremaining: 5.28s\n",
            "92:\tlearn: 0.1208748\ttotal: 540ms\tremaining: 5.27s\n",
            "93:\tlearn: 0.1207465\ttotal: 545ms\tremaining: 5.25s\n",
            "94:\tlearn: 0.1205515\ttotal: 551ms\tremaining: 5.24s\n",
            "95:\tlearn: 0.1203491\ttotal: 556ms\tremaining: 5.24s\n",
            "96:\tlearn: 0.1202128\ttotal: 562ms\tremaining: 5.23s\n",
            "97:\tlearn: 0.1200717\ttotal: 567ms\tremaining: 5.22s\n",
            "98:\tlearn: 0.1199775\ttotal: 572ms\tremaining: 5.2s\n",
            "99:\tlearn: 0.1198894\ttotal: 577ms\tremaining: 5.19s\n",
            "100:\tlearn: 0.1197763\ttotal: 582ms\tremaining: 5.18s\n",
            "101:\tlearn: 0.1196698\ttotal: 587ms\tremaining: 5.17s\n",
            "102:\tlearn: 0.1194523\ttotal: 596ms\tremaining: 5.19s\n",
            "103:\tlearn: 0.1193371\ttotal: 602ms\tremaining: 5.19s\n",
            "104:\tlearn: 0.1192376\ttotal: 607ms\tremaining: 5.18s\n",
            "105:\tlearn: 0.1191511\ttotal: 612ms\tremaining: 5.16s\n",
            "106:\tlearn: 0.1189676\ttotal: 618ms\tremaining: 5.15s\n",
            "107:\tlearn: 0.1188870\ttotal: 622ms\tremaining: 5.14s\n",
            "108:\tlearn: 0.1187868\ttotal: 628ms\tremaining: 5.13s\n",
            "109:\tlearn: 0.1186383\ttotal: 633ms\tremaining: 5.12s\n",
            "110:\tlearn: 0.1184942\ttotal: 638ms\tremaining: 5.11s\n",
            "111:\tlearn: 0.1184089\ttotal: 643ms\tremaining: 5.1s\n",
            "112:\tlearn: 0.1183334\ttotal: 648ms\tremaining: 5.09s\n",
            "113:\tlearn: 0.1182161\ttotal: 654ms\tremaining: 5.08s\n",
            "114:\tlearn: 0.1180649\ttotal: 659ms\tremaining: 5.07s\n",
            "115:\tlearn: 0.1179890\ttotal: 664ms\tremaining: 5.06s\n",
            "116:\tlearn: 0.1179083\ttotal: 670ms\tremaining: 5.05s\n",
            "117:\tlearn: 0.1177670\ttotal: 676ms\tremaining: 5.05s\n",
            "118:\tlearn: 0.1176822\ttotal: 681ms\tremaining: 5.04s\n",
            "119:\tlearn: 0.1176052\ttotal: 686ms\tremaining: 5.03s\n",
            "120:\tlearn: 0.1175303\ttotal: 691ms\tremaining: 5.02s\n",
            "121:\tlearn: 0.1174717\ttotal: 696ms\tremaining: 5.01s\n",
            "122:\tlearn: 0.1173684\ttotal: 702ms\tremaining: 5s\n",
            "123:\tlearn: 0.1171986\ttotal: 707ms\tremaining: 4.99s\n",
            "124:\tlearn: 0.1170786\ttotal: 712ms\tremaining: 4.99s\n",
            "125:\tlearn: 0.1170214\ttotal: 717ms\tremaining: 4.98s\n",
            "126:\tlearn: 0.1168764\ttotal: 723ms\tremaining: 4.97s\n",
            "127:\tlearn: 0.1168226\ttotal: 728ms\tremaining: 4.96s\n",
            "128:\tlearn: 0.1167687\ttotal: 733ms\tremaining: 4.95s\n",
            "129:\tlearn: 0.1166972\ttotal: 738ms\tremaining: 4.94s\n",
            "130:\tlearn: 0.1166236\ttotal: 744ms\tremaining: 4.93s\n",
            "131:\tlearn: 0.1165868\ttotal: 749ms\tremaining: 4.92s\n",
            "132:\tlearn: 0.1165225\ttotal: 754ms\tremaining: 4.91s\n",
            "133:\tlearn: 0.1164718\ttotal: 759ms\tremaining: 4.9s\n",
            "134:\tlearn: 0.1162938\ttotal: 764ms\tremaining: 4.9s\n",
            "135:\tlearn: 0.1162507\ttotal: 769ms\tremaining: 4.89s\n",
            "136:\tlearn: 0.1161826\ttotal: 775ms\tremaining: 4.88s\n",
            "137:\tlearn: 0.1161359\ttotal: 780ms\tremaining: 4.87s\n",
            "138:\tlearn: 0.1160478\ttotal: 785ms\tremaining: 4.86s\n",
            "139:\tlearn: 0.1160095\ttotal: 790ms\tremaining: 4.85s\n",
            "140:\tlearn: 0.1159797\ttotal: 802ms\tremaining: 4.88s\n",
            "141:\tlearn: 0.1158979\ttotal: 808ms\tremaining: 4.88s\n",
            "142:\tlearn: 0.1158582\ttotal: 813ms\tremaining: 4.87s\n",
            "143:\tlearn: 0.1158012\ttotal: 818ms\tremaining: 4.86s\n",
            "144:\tlearn: 0.1157215\ttotal: 824ms\tremaining: 4.86s\n",
            "145:\tlearn: 0.1156719\ttotal: 829ms\tremaining: 4.85s\n",
            "146:\tlearn: 0.1156029\ttotal: 835ms\tremaining: 4.84s\n",
            "147:\tlearn: 0.1155400\ttotal: 840ms\tremaining: 4.83s\n",
            "148:\tlearn: 0.1154810\ttotal: 845ms\tremaining: 4.83s\n",
            "149:\tlearn: 0.1154467\ttotal: 850ms\tremaining: 4.82s\n",
            "150:\tlearn: 0.1153755\ttotal: 855ms\tremaining: 4.81s\n",
            "151:\tlearn: 0.1153463\ttotal: 860ms\tremaining: 4.8s\n",
            "152:\tlearn: 0.1152562\ttotal: 865ms\tremaining: 4.79s\n",
            "153:\tlearn: 0.1151994\ttotal: 871ms\tremaining: 4.78s\n",
            "154:\tlearn: 0.1151418\ttotal: 876ms\tremaining: 4.78s\n",
            "155:\tlearn: 0.1151007\ttotal: 882ms\tremaining: 4.77s\n",
            "156:\tlearn: 0.1150503\ttotal: 887ms\tremaining: 4.76s\n",
            "157:\tlearn: 0.1149938\ttotal: 893ms\tremaining: 4.76s\n",
            "158:\tlearn: 0.1149536\ttotal: 898ms\tremaining: 4.75s\n",
            "159:\tlearn: 0.1149292\ttotal: 903ms\tremaining: 4.74s\n",
            "160:\tlearn: 0.1148459\ttotal: 908ms\tremaining: 4.73s\n",
            "161:\tlearn: 0.1147723\ttotal: 916ms\tremaining: 4.74s\n",
            "162:\tlearn: 0.1147348\ttotal: 921ms\tremaining: 4.73s\n",
            "163:\tlearn: 0.1146153\ttotal: 926ms\tremaining: 4.72s\n",
            "164:\tlearn: 0.1145716\ttotal: 931ms\tremaining: 4.71s\n",
            "165:\tlearn: 0.1145424\ttotal: 936ms\tremaining: 4.7s\n",
            "166:\tlearn: 0.1144991\ttotal: 941ms\tremaining: 4.7s\n",
            "167:\tlearn: 0.1144117\ttotal: 947ms\tremaining: 4.69s\n",
            "168:\tlearn: 0.1143600\ttotal: 952ms\tremaining: 4.68s\n",
            "169:\tlearn: 0.1143015\ttotal: 959ms\tremaining: 4.68s\n",
            "170:\tlearn: 0.1142465\ttotal: 964ms\tremaining: 4.67s\n",
            "171:\tlearn: 0.1141945\ttotal: 970ms\tremaining: 4.67s\n",
            "172:\tlearn: 0.1141283\ttotal: 975ms\tremaining: 4.66s\n",
            "173:\tlearn: 0.1140877\ttotal: 980ms\tremaining: 4.65s\n",
            "174:\tlearn: 0.1140411\ttotal: 986ms\tremaining: 4.65s\n",
            "175:\tlearn: 0.1140024\ttotal: 991ms\tremaining: 4.64s\n",
            "176:\tlearn: 0.1139364\ttotal: 1s\tremaining: 4.66s\n",
            "177:\tlearn: 0.1139083\ttotal: 1.01s\tremaining: 4.65s\n",
            "178:\tlearn: 0.1138642\ttotal: 1.01s\tremaining: 4.64s\n",
            "179:\tlearn: 0.1137947\ttotal: 1.02s\tremaining: 4.63s\n",
            "180:\tlearn: 0.1137455\ttotal: 1.02s\tremaining: 4.63s\n",
            "181:\tlearn: 0.1136996\ttotal: 1.03s\tremaining: 4.62s\n",
            "182:\tlearn: 0.1136584\ttotal: 1.03s\tremaining: 4.61s\n",
            "183:\tlearn: 0.1136183\ttotal: 1.04s\tremaining: 4.61s\n",
            "184:\tlearn: 0.1135972\ttotal: 1.04s\tremaining: 4.6s\n",
            "185:\tlearn: 0.1135592\ttotal: 1.05s\tremaining: 4.59s\n",
            "186:\tlearn: 0.1135138\ttotal: 1.05s\tremaining: 4.58s\n",
            "187:\tlearn: 0.1134850\ttotal: 1.06s\tremaining: 4.58s\n",
            "188:\tlearn: 0.1134492\ttotal: 1.06s\tremaining: 4.57s\n",
            "189:\tlearn: 0.1134080\ttotal: 1.07s\tremaining: 4.56s\n",
            "190:\tlearn: 0.1133658\ttotal: 1.08s\tremaining: 4.56s\n",
            "191:\tlearn: 0.1133427\ttotal: 1.08s\tremaining: 4.55s\n",
            "192:\tlearn: 0.1132963\ttotal: 1.09s\tremaining: 4.54s\n",
            "193:\tlearn: 0.1132708\ttotal: 1.09s\tremaining: 4.53s\n",
            "194:\tlearn: 0.1132415\ttotal: 1.1s\tremaining: 4.55s\n",
            "195:\tlearn: 0.1132220\ttotal: 1.11s\tremaining: 4.57s\n",
            "196:\tlearn: 0.1131807\ttotal: 1.12s\tremaining: 4.56s\n",
            "197:\tlearn: 0.1131486\ttotal: 1.12s\tremaining: 4.55s\n",
            "198:\tlearn: 0.1131282\ttotal: 1.13s\tremaining: 4.54s\n",
            "199:\tlearn: 0.1130909\ttotal: 1.13s\tremaining: 4.54s\n",
            "200:\tlearn: 0.1130332\ttotal: 1.14s\tremaining: 4.53s\n",
            "201:\tlearn: 0.1130058\ttotal: 1.14s\tremaining: 4.52s\n",
            "202:\tlearn: 0.1129802\ttotal: 1.15s\tremaining: 4.51s\n",
            "203:\tlearn: 0.1129535\ttotal: 1.15s\tremaining: 4.5s\n",
            "204:\tlearn: 0.1129298\ttotal: 1.16s\tremaining: 4.5s\n",
            "205:\tlearn: 0.1128569\ttotal: 1.16s\tremaining: 4.49s\n",
            "206:\tlearn: 0.1128000\ttotal: 1.17s\tremaining: 4.48s\n",
            "207:\tlearn: 0.1127429\ttotal: 1.18s\tremaining: 4.47s\n",
            "208:\tlearn: 0.1126788\ttotal: 1.18s\tremaining: 4.47s\n",
            "209:\tlearn: 0.1126534\ttotal: 1.19s\tremaining: 4.46s\n",
            "210:\tlearn: 0.1126084\ttotal: 1.19s\tremaining: 4.45s\n",
            "211:\tlearn: 0.1125877\ttotal: 1.2s\tremaining: 4.46s\n",
            "212:\tlearn: 0.1125635\ttotal: 1.21s\tremaining: 4.46s\n",
            "213:\tlearn: 0.1125418\ttotal: 1.21s\tremaining: 4.45s\n",
            "214:\tlearn: 0.1125101\ttotal: 1.22s\tremaining: 4.44s\n",
            "215:\tlearn: 0.1124820\ttotal: 1.22s\tremaining: 4.44s\n",
            "216:\tlearn: 0.1124396\ttotal: 1.23s\tremaining: 4.43s\n",
            "217:\tlearn: 0.1123991\ttotal: 1.23s\tremaining: 4.42s\n",
            "218:\tlearn: 0.1123501\ttotal: 1.24s\tremaining: 4.42s\n",
            "219:\tlearn: 0.1123351\ttotal: 1.24s\tremaining: 4.41s\n",
            "220:\tlearn: 0.1122944\ttotal: 1.25s\tremaining: 4.4s\n",
            "221:\tlearn: 0.1122474\ttotal: 1.25s\tremaining: 4.39s\n",
            "222:\tlearn: 0.1122263\ttotal: 1.26s\tremaining: 4.38s\n",
            "223:\tlearn: 0.1121769\ttotal: 1.26s\tremaining: 4.38s\n",
            "224:\tlearn: 0.1121690\ttotal: 1.27s\tremaining: 4.37s\n",
            "225:\tlearn: 0.1121306\ttotal: 1.27s\tremaining: 4.36s\n",
            "226:\tlearn: 0.1120974\ttotal: 1.28s\tremaining: 4.36s\n",
            "227:\tlearn: 0.1120813\ttotal: 1.28s\tremaining: 4.35s\n",
            "228:\tlearn: 0.1120655\ttotal: 1.29s\tremaining: 4.34s\n",
            "229:\tlearn: 0.1120446\ttotal: 1.29s\tremaining: 4.33s\n",
            "230:\tlearn: 0.1120153\ttotal: 1.3s\tremaining: 4.33s\n",
            "231:\tlearn: 0.1119424\ttotal: 1.3s\tremaining: 4.32s\n",
            "232:\tlearn: 0.1119271\ttotal: 1.31s\tremaining: 4.31s\n",
            "233:\tlearn: 0.1118840\ttotal: 1.31s\tremaining: 4.31s\n",
            "234:\tlearn: 0.1118718\ttotal: 1.32s\tremaining: 4.3s\n",
            "235:\tlearn: 0.1118535\ttotal: 1.32s\tremaining: 4.29s\n",
            "236:\tlearn: 0.1117993\ttotal: 1.33s\tremaining: 4.28s\n",
            "237:\tlearn: 0.1117426\ttotal: 1.34s\tremaining: 4.28s\n",
            "238:\tlearn: 0.1117323\ttotal: 1.34s\tremaining: 4.27s\n",
            "239:\tlearn: 0.1117047\ttotal: 1.35s\tremaining: 4.26s\n",
            "240:\tlearn: 0.1116732\ttotal: 1.35s\tremaining: 4.26s\n",
            "241:\tlearn: 0.1116353\ttotal: 1.36s\tremaining: 4.25s\n",
            "242:\tlearn: 0.1116203\ttotal: 1.36s\tremaining: 4.24s\n",
            "243:\tlearn: 0.1115845\ttotal: 1.37s\tremaining: 4.24s\n",
            "244:\tlearn: 0.1115636\ttotal: 1.37s\tremaining: 4.23s\n",
            "245:\tlearn: 0.1115219\ttotal: 1.38s\tremaining: 4.22s\n",
            "246:\tlearn: 0.1115085\ttotal: 1.38s\tremaining: 4.21s\n",
            "247:\tlearn: 0.1115023\ttotal: 1.39s\tremaining: 4.21s\n",
            "248:\tlearn: 0.1114764\ttotal: 1.4s\tremaining: 4.21s\n",
            "249:\tlearn: 0.1114561\ttotal: 1.4s\tremaining: 4.21s\n",
            "250:\tlearn: 0.1114303\ttotal: 1.41s\tremaining: 4.21s\n",
            "251:\tlearn: 0.1114102\ttotal: 1.41s\tremaining: 4.2s\n",
            "252:\tlearn: 0.1113709\ttotal: 1.42s\tremaining: 4.19s\n",
            "253:\tlearn: 0.1113381\ttotal: 1.43s\tremaining: 4.19s\n",
            "254:\tlearn: 0.1113051\ttotal: 1.43s\tremaining: 4.18s\n",
            "255:\tlearn: 0.1112929\ttotal: 1.44s\tremaining: 4.18s\n",
            "256:\tlearn: 0.1112270\ttotal: 1.44s\tremaining: 4.17s\n",
            "257:\tlearn: 0.1112080\ttotal: 1.45s\tremaining: 4.17s\n",
            "258:\tlearn: 0.1111658\ttotal: 1.45s\tremaining: 4.16s\n",
            "259:\tlearn: 0.1111238\ttotal: 1.46s\tremaining: 4.16s\n",
            "260:\tlearn: 0.1111015\ttotal: 1.47s\tremaining: 4.15s\n",
            "261:\tlearn: 0.1110536\ttotal: 1.47s\tremaining: 4.15s\n",
            "262:\tlearn: 0.1110414\ttotal: 1.48s\tremaining: 4.14s\n",
            "263:\tlearn: 0.1110346\ttotal: 1.48s\tremaining: 4.13s\n",
            "264:\tlearn: 0.1110284\ttotal: 1.49s\tremaining: 4.13s\n",
            "265:\tlearn: 0.1110134\ttotal: 1.49s\tremaining: 4.12s\n",
            "266:\tlearn: 0.1110126\ttotal: 1.5s\tremaining: 4.11s\n",
            "267:\tlearn: 0.1109781\ttotal: 1.5s\tremaining: 4.11s\n",
            "268:\tlearn: 0.1109692\ttotal: 1.51s\tremaining: 4.1s\n",
            "269:\tlearn: 0.1109508\ttotal: 1.51s\tremaining: 4.09s\n",
            "270:\tlearn: 0.1109452\ttotal: 1.52s\tremaining: 4.08s\n",
            "271:\tlearn: 0.1109410\ttotal: 1.52s\tremaining: 4.08s\n",
            "272:\tlearn: 0.1109119\ttotal: 1.53s\tremaining: 4.07s\n",
            "273:\tlearn: 0.1109058\ttotal: 1.53s\tremaining: 4.07s\n",
            "274:\tlearn: 0.1108864\ttotal: 1.54s\tremaining: 4.06s\n",
            "275:\tlearn: 0.1108639\ttotal: 1.54s\tremaining: 4.05s\n",
            "276:\tlearn: 0.1108406\ttotal: 1.55s\tremaining: 4.05s\n",
            "277:\tlearn: 0.1108209\ttotal: 1.56s\tremaining: 4.04s\n",
            "278:\tlearn: 0.1108026\ttotal: 1.56s\tremaining: 4.04s\n",
            "279:\tlearn: 0.1107905\ttotal: 1.57s\tremaining: 4.03s\n",
            "280:\tlearn: 0.1107731\ttotal: 1.57s\tremaining: 4.03s\n",
            "281:\tlearn: 0.1107366\ttotal: 1.58s\tremaining: 4.02s\n",
            "282:\tlearn: 0.1107102\ttotal: 1.58s\tremaining: 4.01s\n",
            "283:\tlearn: 0.1106908\ttotal: 1.59s\tremaining: 4.02s\n",
            "284:\tlearn: 0.1106808\ttotal: 1.6s\tremaining: 4.01s\n",
            "285:\tlearn: 0.1106649\ttotal: 1.6s\tremaining: 4.01s\n",
            "286:\tlearn: 0.1106351\ttotal: 1.61s\tremaining: 4s\n",
            "287:\tlearn: 0.1106101\ttotal: 1.62s\tremaining: 4s\n",
            "288:\tlearn: 0.1106066\ttotal: 1.62s\tremaining: 3.99s\n",
            "289:\tlearn: 0.1105834\ttotal: 1.63s\tremaining: 3.98s\n",
            "290:\tlearn: 0.1105784\ttotal: 1.63s\tremaining: 3.98s\n",
            "291:\tlearn: 0.1105716\ttotal: 1.64s\tremaining: 3.97s\n",
            "292:\tlearn: 0.1105425\ttotal: 1.64s\tremaining: 3.96s\n",
            "293:\tlearn: 0.1105411\ttotal: 1.65s\tremaining: 3.96s\n",
            "294:\tlearn: 0.1105346\ttotal: 1.65s\tremaining: 3.95s\n",
            "295:\tlearn: 0.1105158\ttotal: 1.66s\tremaining: 3.94s\n",
            "296:\tlearn: 0.1105101\ttotal: 1.66s\tremaining: 3.94s\n",
            "297:\tlearn: 0.1104627\ttotal: 1.67s\tremaining: 3.93s\n",
            "298:\tlearn: 0.1104259\ttotal: 1.67s\tremaining: 3.92s\n",
            "299:\tlearn: 0.1104012\ttotal: 1.68s\tremaining: 3.92s\n",
            "300:\tlearn: 0.1103822\ttotal: 1.69s\tremaining: 3.91s\n",
            "301:\tlearn: 0.1103514\ttotal: 1.69s\tremaining: 3.91s\n",
            "302:\tlearn: 0.1103176\ttotal: 1.7s\tremaining: 3.9s\n",
            "303:\tlearn: 0.1103084\ttotal: 1.7s\tremaining: 3.9s\n",
            "304:\tlearn: 0.1102988\ttotal: 1.71s\tremaining: 3.89s\n",
            "305:\tlearn: 0.1102915\ttotal: 1.71s\tremaining: 3.88s\n",
            "306:\tlearn: 0.1102862\ttotal: 1.72s\tremaining: 3.88s\n",
            "307:\tlearn: 0.1102701\ttotal: 1.72s\tremaining: 3.87s\n",
            "308:\tlearn: 0.1102498\ttotal: 1.73s\tremaining: 3.86s\n",
            "309:\tlearn: 0.1102371\ttotal: 1.73s\tremaining: 3.86s\n",
            "310:\tlearn: 0.1102059\ttotal: 1.74s\tremaining: 3.85s\n",
            "311:\tlearn: 0.1102008\ttotal: 1.74s\tremaining: 3.85s\n",
            "312:\tlearn: 0.1101968\ttotal: 1.75s\tremaining: 3.84s\n",
            "313:\tlearn: 0.1101718\ttotal: 1.75s\tremaining: 3.83s\n",
            "314:\tlearn: 0.1101196\ttotal: 1.76s\tremaining: 3.83s\n",
            "315:\tlearn: 0.1100736\ttotal: 1.76s\tremaining: 3.82s\n",
            "316:\tlearn: 0.1100572\ttotal: 1.77s\tremaining: 3.82s\n",
            "317:\tlearn: 0.1100568\ttotal: 1.77s\tremaining: 3.81s\n",
            "318:\tlearn: 0.1100324\ttotal: 1.78s\tremaining: 3.8s\n",
            "319:\tlearn: 0.1099819\ttotal: 1.79s\tremaining: 3.81s\n",
            "320:\tlearn: 0.1099626\ttotal: 1.8s\tremaining: 3.8s\n",
            "321:\tlearn: 0.1099358\ttotal: 1.8s\tremaining: 3.8s\n",
            "322:\tlearn: 0.1099348\ttotal: 1.81s\tremaining: 3.79s\n",
            "323:\tlearn: 0.1099117\ttotal: 1.81s\tremaining: 3.78s\n",
            "324:\tlearn: 0.1099053\ttotal: 1.82s\tremaining: 3.78s\n",
            "325:\tlearn: 0.1098729\ttotal: 1.82s\tremaining: 3.77s\n",
            "326:\tlearn: 0.1098511\ttotal: 1.83s\tremaining: 3.77s\n",
            "327:\tlearn: 0.1098177\ttotal: 1.84s\tremaining: 3.76s\n",
            "328:\tlearn: 0.1098168\ttotal: 1.84s\tremaining: 3.75s\n",
            "329:\tlearn: 0.1098055\ttotal: 1.84s\tremaining: 3.75s\n",
            "330:\tlearn: 0.1097760\ttotal: 1.85s\tremaining: 3.74s\n",
            "331:\tlearn: 0.1097688\ttotal: 1.86s\tremaining: 3.73s\n",
            "332:\tlearn: 0.1097437\ttotal: 1.86s\tremaining: 3.73s\n",
            "333:\tlearn: 0.1097385\ttotal: 1.87s\tremaining: 3.72s\n",
            "334:\tlearn: 0.1097375\ttotal: 1.87s\tremaining: 3.72s\n",
            "335:\tlearn: 0.1096937\ttotal: 1.88s\tremaining: 3.71s\n",
            "336:\tlearn: 0.1096799\ttotal: 1.88s\tremaining: 3.7s\n",
            "337:\tlearn: 0.1096522\ttotal: 1.89s\tremaining: 3.7s\n",
            "338:\tlearn: 0.1096213\ttotal: 1.89s\tremaining: 3.69s\n",
            "339:\tlearn: 0.1096157\ttotal: 1.9s\tremaining: 3.69s\n",
            "340:\tlearn: 0.1096110\ttotal: 1.9s\tremaining: 3.68s\n",
            "341:\tlearn: 0.1096061\ttotal: 1.91s\tremaining: 3.67s\n",
            "342:\tlearn: 0.1096025\ttotal: 1.91s\tremaining: 3.67s\n",
            "343:\tlearn: 0.1095484\ttotal: 1.92s\tremaining: 3.66s\n",
            "344:\tlearn: 0.1095240\ttotal: 1.93s\tremaining: 3.66s\n",
            "345:\tlearn: 0.1095033\ttotal: 1.93s\tremaining: 3.65s\n",
            "346:\tlearn: 0.1094807\ttotal: 1.94s\tremaining: 3.64s\n",
            "347:\tlearn: 0.1094521\ttotal: 1.94s\tremaining: 3.64s\n",
            "348:\tlearn: 0.1094344\ttotal: 1.95s\tremaining: 3.63s\n",
            "349:\tlearn: 0.1094145\ttotal: 1.95s\tremaining: 3.63s\n",
            "350:\tlearn: 0.1093997\ttotal: 1.96s\tremaining: 3.62s\n",
            "351:\tlearn: 0.1093634\ttotal: 1.96s\tremaining: 3.61s\n",
            "352:\tlearn: 0.1093523\ttotal: 1.97s\tremaining: 3.61s\n",
            "353:\tlearn: 0.1093417\ttotal: 1.97s\tremaining: 3.6s\n",
            "354:\tlearn: 0.1093258\ttotal: 1.98s\tremaining: 3.6s\n",
            "355:\tlearn: 0.1093253\ttotal: 1.99s\tremaining: 3.6s\n",
            "356:\tlearn: 0.1093078\ttotal: 1.99s\tremaining: 3.59s\n",
            "357:\tlearn: 0.1092893\ttotal: 2s\tremaining: 3.58s\n",
            "358:\tlearn: 0.1092710\ttotal: 2s\tremaining: 3.58s\n",
            "359:\tlearn: 0.1092539\ttotal: 2.01s\tremaining: 3.57s\n",
            "360:\tlearn: 0.1092324\ttotal: 2.01s\tremaining: 3.56s\n",
            "361:\tlearn: 0.1092109\ttotal: 2.02s\tremaining: 3.56s\n",
            "362:\tlearn: 0.1092106\ttotal: 2.02s\tremaining: 3.55s\n",
            "363:\tlearn: 0.1091940\ttotal: 2.03s\tremaining: 3.54s\n",
            "364:\tlearn: 0.1091891\ttotal: 2.03s\tremaining: 3.54s\n",
            "365:\tlearn: 0.1091873\ttotal: 2.04s\tremaining: 3.53s\n",
            "366:\tlearn: 0.1091562\ttotal: 2.04s\tremaining: 3.53s\n",
            "367:\tlearn: 0.1091313\ttotal: 2.05s\tremaining: 3.52s\n",
            "368:\tlearn: 0.1091128\ttotal: 2.06s\tremaining: 3.51s\n",
            "369:\tlearn: 0.1091099\ttotal: 2.06s\tremaining: 3.51s\n",
            "370:\tlearn: 0.1090764\ttotal: 2.07s\tremaining: 3.51s\n",
            "371:\tlearn: 0.1090701\ttotal: 2.08s\tremaining: 3.52s\n",
            "372:\tlearn: 0.1090353\ttotal: 2.09s\tremaining: 3.51s\n",
            "373:\tlearn: 0.1090113\ttotal: 2.1s\tremaining: 3.51s\n",
            "374:\tlearn: 0.1089825\ttotal: 2.1s\tremaining: 3.5s\n",
            "375:\tlearn: 0.1089759\ttotal: 2.1s\tremaining: 3.49s\n",
            "376:\tlearn: 0.1089609\ttotal: 2.11s\tremaining: 3.49s\n",
            "377:\tlearn: 0.1089494\ttotal: 2.12s\tremaining: 3.48s\n",
            "378:\tlearn: 0.1089349\ttotal: 2.12s\tremaining: 3.48s\n",
            "379:\tlearn: 0.1089273\ttotal: 2.13s\tremaining: 3.47s\n",
            "380:\tlearn: 0.1089144\ttotal: 2.13s\tremaining: 3.46s\n",
            "381:\tlearn: 0.1089102\ttotal: 2.14s\tremaining: 3.46s\n",
            "382:\tlearn: 0.1088960\ttotal: 2.14s\tremaining: 3.45s\n",
            "383:\tlearn: 0.1088702\ttotal: 2.15s\tremaining: 3.45s\n",
            "384:\tlearn: 0.1088506\ttotal: 2.15s\tremaining: 3.44s\n",
            "385:\tlearn: 0.1088328\ttotal: 2.16s\tremaining: 3.43s\n",
            "386:\tlearn: 0.1088143\ttotal: 2.16s\tremaining: 3.43s\n",
            "387:\tlearn: 0.1088016\ttotal: 2.17s\tremaining: 3.42s\n",
            "388:\tlearn: 0.1087901\ttotal: 2.17s\tremaining: 3.42s\n",
            "389:\tlearn: 0.1087713\ttotal: 2.18s\tremaining: 3.42s\n",
            "390:\tlearn: 0.1087631\ttotal: 2.19s\tremaining: 3.41s\n",
            "391:\tlearn: 0.1087293\ttotal: 2.2s\tremaining: 3.41s\n",
            "392:\tlearn: 0.1087208\ttotal: 2.2s\tremaining: 3.4s\n",
            "393:\tlearn: 0.1086911\ttotal: 2.21s\tremaining: 3.4s\n",
            "394:\tlearn: 0.1086802\ttotal: 2.21s\tremaining: 3.39s\n",
            "395:\tlearn: 0.1086625\ttotal: 2.22s\tremaining: 3.38s\n",
            "396:\tlearn: 0.1086434\ttotal: 2.22s\tremaining: 3.38s\n",
            "397:\tlearn: 0.1086219\ttotal: 2.23s\tremaining: 3.37s\n",
            "398:\tlearn: 0.1086073\ttotal: 2.23s\tremaining: 3.36s\n",
            "399:\tlearn: 0.1085875\ttotal: 2.24s\tremaining: 3.36s\n",
            "400:\tlearn: 0.1085777\ttotal: 2.24s\tremaining: 3.35s\n",
            "401:\tlearn: 0.1085662\ttotal: 2.25s\tremaining: 3.35s\n",
            "402:\tlearn: 0.1085567\ttotal: 2.25s\tremaining: 3.34s\n",
            "403:\tlearn: 0.1085373\ttotal: 2.26s\tremaining: 3.33s\n",
            "404:\tlearn: 0.1085300\ttotal: 2.27s\tremaining: 3.33s\n",
            "405:\tlearn: 0.1085073\ttotal: 2.27s\tremaining: 3.32s\n",
            "406:\tlearn: 0.1085029\ttotal: 2.28s\tremaining: 3.32s\n",
            "407:\tlearn: 0.1084866\ttotal: 2.28s\tremaining: 3.31s\n",
            "408:\tlearn: 0.1084660\ttotal: 2.29s\tremaining: 3.31s\n",
            "409:\tlearn: 0.1084490\ttotal: 2.29s\tremaining: 3.3s\n",
            "410:\tlearn: 0.1084294\ttotal: 2.3s\tremaining: 3.29s\n",
            "411:\tlearn: 0.1084063\ttotal: 2.3s\tremaining: 3.29s\n",
            "412:\tlearn: 0.1083875\ttotal: 2.31s\tremaining: 3.28s\n",
            "413:\tlearn: 0.1083801\ttotal: 2.31s\tremaining: 3.28s\n",
            "414:\tlearn: 0.1083633\ttotal: 2.32s\tremaining: 3.27s\n",
            "415:\tlearn: 0.1083507\ttotal: 2.33s\tremaining: 3.26s\n",
            "416:\tlearn: 0.1083477\ttotal: 2.33s\tremaining: 3.26s\n",
            "417:\tlearn: 0.1083346\ttotal: 2.33s\tremaining: 3.25s\n",
            "418:\tlearn: 0.1083246\ttotal: 2.34s\tremaining: 3.24s\n",
            "419:\tlearn: 0.1083163\ttotal: 2.34s\tremaining: 3.24s\n",
            "420:\tlearn: 0.1082934\ttotal: 2.35s\tremaining: 3.23s\n",
            "421:\tlearn: 0.1082782\ttotal: 2.36s\tremaining: 3.23s\n",
            "422:\tlearn: 0.1082645\ttotal: 2.36s\tremaining: 3.22s\n",
            "423:\tlearn: 0.1082262\ttotal: 2.37s\tremaining: 3.21s\n",
            "424:\tlearn: 0.1082019\ttotal: 2.37s\tremaining: 3.21s\n",
            "425:\tlearn: 0.1081878\ttotal: 2.38s\tremaining: 3.21s\n",
            "426:\tlearn: 0.1081752\ttotal: 2.39s\tremaining: 3.2s\n",
            "427:\tlearn: 0.1081669\ttotal: 2.39s\tremaining: 3.19s\n",
            "428:\tlearn: 0.1081438\ttotal: 2.4s\tremaining: 3.19s\n",
            "429:\tlearn: 0.1081263\ttotal: 2.4s\tremaining: 3.18s\n",
            "430:\tlearn: 0.1081049\ttotal: 2.41s\tremaining: 3.18s\n",
            "431:\tlearn: 0.1080870\ttotal: 2.41s\tremaining: 3.17s\n",
            "432:\tlearn: 0.1080735\ttotal: 2.42s\tremaining: 3.17s\n",
            "433:\tlearn: 0.1080603\ttotal: 2.42s\tremaining: 3.16s\n",
            "434:\tlearn: 0.1080512\ttotal: 2.43s\tremaining: 3.15s\n",
            "435:\tlearn: 0.1080329\ttotal: 2.43s\tremaining: 3.15s\n",
            "436:\tlearn: 0.1080297\ttotal: 2.44s\tremaining: 3.14s\n",
            "437:\tlearn: 0.1080267\ttotal: 2.44s\tremaining: 3.13s\n",
            "438:\tlearn: 0.1080058\ttotal: 2.45s\tremaining: 3.13s\n",
            "439:\tlearn: 0.1080054\ttotal: 2.45s\tremaining: 3.12s\n",
            "440:\tlearn: 0.1080027\ttotal: 2.46s\tremaining: 3.12s\n",
            "441:\tlearn: 0.1079836\ttotal: 2.46s\tremaining: 3.11s\n",
            "442:\tlearn: 0.1079720\ttotal: 2.47s\tremaining: 3.1s\n",
            "443:\tlearn: 0.1079633\ttotal: 2.47s\tremaining: 3.1s\n",
            "444:\tlearn: 0.1079596\ttotal: 2.48s\tremaining: 3.09s\n",
            "445:\tlearn: 0.1079321\ttotal: 2.48s\tremaining: 3.08s\n",
            "446:\tlearn: 0.1079110\ttotal: 2.49s\tremaining: 3.08s\n",
            "447:\tlearn: 0.1078929\ttotal: 2.49s\tremaining: 3.07s\n",
            "448:\tlearn: 0.1078386\ttotal: 2.5s\tremaining: 3.07s\n",
            "449:\tlearn: 0.1078380\ttotal: 2.5s\tremaining: 3.06s\n",
            "450:\tlearn: 0.1078143\ttotal: 2.51s\tremaining: 3.05s\n",
            "451:\tlearn: 0.1078013\ttotal: 2.51s\tremaining: 3.05s\n",
            "452:\tlearn: 0.1077840\ttotal: 2.52s\tremaining: 3.04s\n",
            "453:\tlearn: 0.1077622\ttotal: 2.52s\tremaining: 3.04s\n",
            "454:\tlearn: 0.1077429\ttotal: 2.53s\tremaining: 3.03s\n",
            "455:\tlearn: 0.1077246\ttotal: 2.53s\tremaining: 3.02s\n",
            "456:\tlearn: 0.1077048\ttotal: 2.54s\tremaining: 3.02s\n",
            "457:\tlearn: 0.1076968\ttotal: 2.54s\tremaining: 3.01s\n",
            "458:\tlearn: 0.1076874\ttotal: 2.55s\tremaining: 3s\n",
            "459:\tlearn: 0.1076845\ttotal: 2.55s\tremaining: 3s\n",
            "460:\tlearn: 0.1076746\ttotal: 2.56s\tremaining: 2.99s\n",
            "461:\tlearn: 0.1076537\ttotal: 2.56s\tremaining: 2.99s\n",
            "462:\tlearn: 0.1076277\ttotal: 2.57s\tremaining: 2.98s\n",
            "463:\tlearn: 0.1076129\ttotal: 2.58s\tremaining: 2.98s\n",
            "464:\tlearn: 0.1076037\ttotal: 2.58s\tremaining: 2.97s\n",
            "465:\tlearn: 0.1075968\ttotal: 2.59s\tremaining: 2.97s\n",
            "466:\tlearn: 0.1075792\ttotal: 2.59s\tremaining: 2.96s\n",
            "467:\tlearn: 0.1075549\ttotal: 2.6s\tremaining: 2.96s\n",
            "468:\tlearn: 0.1075358\ttotal: 2.6s\tremaining: 2.95s\n",
            "469:\tlearn: 0.1075192\ttotal: 2.61s\tremaining: 2.94s\n",
            "470:\tlearn: 0.1075055\ttotal: 2.62s\tremaining: 2.94s\n",
            "471:\tlearn: 0.1074857\ttotal: 2.62s\tremaining: 2.93s\n",
            "472:\tlearn: 0.1074716\ttotal: 2.63s\tremaining: 2.93s\n",
            "473:\tlearn: 0.1074561\ttotal: 2.63s\tremaining: 2.92s\n",
            "474:\tlearn: 0.1074460\ttotal: 2.64s\tremaining: 2.92s\n",
            "475:\tlearn: 0.1074347\ttotal: 2.65s\tremaining: 2.91s\n",
            "476:\tlearn: 0.1074280\ttotal: 2.65s\tremaining: 2.9s\n",
            "477:\tlearn: 0.1074275\ttotal: 2.65s\tremaining: 2.9s\n",
            "478:\tlearn: 0.1074218\ttotal: 2.66s\tremaining: 2.89s\n",
            "479:\tlearn: 0.1074200\ttotal: 2.66s\tremaining: 2.88s\n",
            "480:\tlearn: 0.1074068\ttotal: 2.67s\tremaining: 2.88s\n",
            "481:\tlearn: 0.1073883\ttotal: 2.67s\tremaining: 2.87s\n",
            "482:\tlearn: 0.1073654\ttotal: 2.68s\tremaining: 2.87s\n",
            "483:\tlearn: 0.1073556\ttotal: 2.68s\tremaining: 2.86s\n",
            "484:\tlearn: 0.1073418\ttotal: 2.69s\tremaining: 2.85s\n",
            "485:\tlearn: 0.1073247\ttotal: 2.69s\tremaining: 2.85s\n",
            "486:\tlearn: 0.1073075\ttotal: 2.7s\tremaining: 2.84s\n",
            "487:\tlearn: 0.1073073\ttotal: 2.7s\tremaining: 2.84s\n",
            "488:\tlearn: 0.1073041\ttotal: 2.71s\tremaining: 2.83s\n",
            "489:\tlearn: 0.1072900\ttotal: 2.71s\tremaining: 2.82s\n",
            "490:\tlearn: 0.1072742\ttotal: 2.72s\tremaining: 2.82s\n",
            "491:\tlearn: 0.1072622\ttotal: 2.72s\tremaining: 2.81s\n",
            "492:\tlearn: 0.1072335\ttotal: 2.73s\tremaining: 2.81s\n",
            "493:\tlearn: 0.1072258\ttotal: 2.73s\tremaining: 2.8s\n",
            "494:\tlearn: 0.1071912\ttotal: 2.74s\tremaining: 2.8s\n",
            "495:\tlearn: 0.1071754\ttotal: 2.75s\tremaining: 2.79s\n",
            "496:\tlearn: 0.1071598\ttotal: 2.75s\tremaining: 2.78s\n",
            "497:\tlearn: 0.1071469\ttotal: 2.76s\tremaining: 2.78s\n",
            "498:\tlearn: 0.1071327\ttotal: 2.76s\tremaining: 2.77s\n",
            "499:\tlearn: 0.1071231\ttotal: 2.77s\tremaining: 2.77s\n",
            "500:\tlearn: 0.1071149\ttotal: 2.77s\tremaining: 2.76s\n",
            "501:\tlearn: 0.1071024\ttotal: 2.78s\tremaining: 2.76s\n",
            "502:\tlearn: 0.1071014\ttotal: 2.78s\tremaining: 2.75s\n",
            "503:\tlearn: 0.1070951\ttotal: 2.79s\tremaining: 2.74s\n",
            "504:\tlearn: 0.1070839\ttotal: 2.79s\tremaining: 2.74s\n",
            "505:\tlearn: 0.1070662\ttotal: 2.8s\tremaining: 2.73s\n",
            "506:\tlearn: 0.1070513\ttotal: 2.8s\tremaining: 2.73s\n",
            "507:\tlearn: 0.1070408\ttotal: 2.81s\tremaining: 2.72s\n",
            "508:\tlearn: 0.1070329\ttotal: 2.81s\tremaining: 2.71s\n",
            "509:\tlearn: 0.1070255\ttotal: 2.82s\tremaining: 2.71s\n",
            "510:\tlearn: 0.1070175\ttotal: 2.82s\tremaining: 2.7s\n",
            "511:\tlearn: 0.1070067\ttotal: 2.83s\tremaining: 2.7s\n",
            "512:\tlearn: 0.1069968\ttotal: 2.83s\tremaining: 2.69s\n",
            "513:\tlearn: 0.1069716\ttotal: 2.84s\tremaining: 2.69s\n",
            "514:\tlearn: 0.1069524\ttotal: 2.85s\tremaining: 2.68s\n",
            "515:\tlearn: 0.1069337\ttotal: 2.85s\tremaining: 2.67s\n",
            "516:\tlearn: 0.1069247\ttotal: 2.86s\tremaining: 2.67s\n",
            "517:\tlearn: 0.1069087\ttotal: 2.86s\tremaining: 2.66s\n",
            "518:\tlearn: 0.1068837\ttotal: 2.87s\tremaining: 2.66s\n",
            "519:\tlearn: 0.1068686\ttotal: 2.87s\tremaining: 2.65s\n",
            "520:\tlearn: 0.1068592\ttotal: 2.88s\tremaining: 2.65s\n",
            "521:\tlearn: 0.1068557\ttotal: 2.88s\tremaining: 2.64s\n",
            "522:\tlearn: 0.1068320\ttotal: 2.89s\tremaining: 2.63s\n",
            "523:\tlearn: 0.1068114\ttotal: 2.9s\tremaining: 2.63s\n",
            "524:\tlearn: 0.1067941\ttotal: 2.9s\tremaining: 2.62s\n",
            "525:\tlearn: 0.1067817\ttotal: 2.9s\tremaining: 2.62s\n",
            "526:\tlearn: 0.1067815\ttotal: 2.91s\tremaining: 2.61s\n",
            "527:\tlearn: 0.1067813\ttotal: 2.91s\tremaining: 2.6s\n",
            "528:\tlearn: 0.1067667\ttotal: 2.92s\tremaining: 2.6s\n",
            "529:\tlearn: 0.1067517\ttotal: 2.93s\tremaining: 2.6s\n",
            "530:\tlearn: 0.1067421\ttotal: 2.93s\tremaining: 2.59s\n",
            "531:\tlearn: 0.1067420\ttotal: 2.94s\tremaining: 2.58s\n",
            "532:\tlearn: 0.1067326\ttotal: 2.94s\tremaining: 2.58s\n",
            "533:\tlearn: 0.1067192\ttotal: 2.95s\tremaining: 2.57s\n",
            "534:\tlearn: 0.1067062\ttotal: 2.95s\tremaining: 2.56s\n",
            "535:\tlearn: 0.1066970\ttotal: 2.96s\tremaining: 2.56s\n",
            "536:\tlearn: 0.1066836\ttotal: 2.96s\tremaining: 2.55s\n",
            "537:\tlearn: 0.1066647\ttotal: 2.97s\tremaining: 2.55s\n",
            "538:\tlearn: 0.1066450\ttotal: 2.98s\tremaining: 2.55s\n",
            "539:\tlearn: 0.1066371\ttotal: 2.99s\tremaining: 2.54s\n",
            "540:\tlearn: 0.1066314\ttotal: 2.99s\tremaining: 2.54s\n",
            "541:\tlearn: 0.1066290\ttotal: 3s\tremaining: 2.53s\n",
            "542:\tlearn: 0.1066147\ttotal: 3s\tremaining: 2.53s\n",
            "543:\tlearn: 0.1065999\ttotal: 3.01s\tremaining: 2.52s\n",
            "544:\tlearn: 0.1065988\ttotal: 3.01s\tremaining: 2.51s\n",
            "545:\tlearn: 0.1065859\ttotal: 3.02s\tremaining: 2.51s\n",
            "546:\tlearn: 0.1065680\ttotal: 3.02s\tremaining: 2.5s\n",
            "547:\tlearn: 0.1065502\ttotal: 3.03s\tremaining: 2.5s\n",
            "548:\tlearn: 0.1065303\ttotal: 3.03s\tremaining: 2.49s\n",
            "549:\tlearn: 0.1065153\ttotal: 3.05s\tremaining: 2.5s\n",
            "550:\tlearn: 0.1064969\ttotal: 3.06s\tremaining: 2.5s\n",
            "551:\tlearn: 0.1064710\ttotal: 3.07s\tremaining: 2.49s\n",
            "552:\tlearn: 0.1064550\ttotal: 3.07s\tremaining: 2.48s\n",
            "553:\tlearn: 0.1064489\ttotal: 3.08s\tremaining: 2.48s\n",
            "554:\tlearn: 0.1064366\ttotal: 3.08s\tremaining: 2.47s\n",
            "555:\tlearn: 0.1064260\ttotal: 3.09s\tremaining: 2.47s\n",
            "556:\tlearn: 0.1064096\ttotal: 3.1s\tremaining: 2.47s\n",
            "557:\tlearn: 0.1063897\ttotal: 3.11s\tremaining: 2.47s\n",
            "558:\tlearn: 0.1063786\ttotal: 3.12s\tremaining: 2.46s\n",
            "559:\tlearn: 0.1063684\ttotal: 3.13s\tremaining: 2.46s\n",
            "560:\tlearn: 0.1063653\ttotal: 3.13s\tremaining: 2.45s\n",
            "561:\tlearn: 0.1063406\ttotal: 3.14s\tremaining: 2.45s\n",
            "562:\tlearn: 0.1063332\ttotal: 3.15s\tremaining: 2.44s\n",
            "563:\tlearn: 0.1063246\ttotal: 3.16s\tremaining: 2.44s\n",
            "564:\tlearn: 0.1063104\ttotal: 3.16s\tremaining: 2.44s\n",
            "565:\tlearn: 0.1063031\ttotal: 3.17s\tremaining: 2.43s\n",
            "566:\tlearn: 0.1062992\ttotal: 3.17s\tremaining: 2.42s\n",
            "567:\tlearn: 0.1062901\ttotal: 3.18s\tremaining: 2.42s\n",
            "568:\tlearn: 0.1062888\ttotal: 3.19s\tremaining: 2.42s\n",
            "569:\tlearn: 0.1062746\ttotal: 3.19s\tremaining: 2.41s\n",
            "570:\tlearn: 0.1062576\ttotal: 3.2s\tremaining: 2.4s\n",
            "571:\tlearn: 0.1062399\ttotal: 3.2s\tremaining: 2.4s\n",
            "572:\tlearn: 0.1062296\ttotal: 3.21s\tremaining: 2.39s\n",
            "573:\tlearn: 0.1062150\ttotal: 3.21s\tremaining: 2.39s\n",
            "574:\tlearn: 0.1062013\ttotal: 3.22s\tremaining: 2.38s\n",
            "575:\tlearn: 0.1061858\ttotal: 3.23s\tremaining: 2.38s\n",
            "576:\tlearn: 0.1061722\ttotal: 3.23s\tremaining: 2.37s\n",
            "577:\tlearn: 0.1061573\ttotal: 3.24s\tremaining: 2.36s\n",
            "578:\tlearn: 0.1061524\ttotal: 3.24s\tremaining: 2.36s\n",
            "579:\tlearn: 0.1061436\ttotal: 3.25s\tremaining: 2.35s\n",
            "580:\tlearn: 0.1061265\ttotal: 3.25s\tremaining: 2.35s\n",
            "581:\tlearn: 0.1061113\ttotal: 3.26s\tremaining: 2.34s\n",
            "582:\tlearn: 0.1061002\ttotal: 3.26s\tremaining: 2.33s\n",
            "583:\tlearn: 0.1060813\ttotal: 3.27s\tremaining: 2.33s\n",
            "584:\tlearn: 0.1060709\ttotal: 3.27s\tremaining: 2.32s\n",
            "585:\tlearn: 0.1060557\ttotal: 3.28s\tremaining: 2.32s\n",
            "586:\tlearn: 0.1060471\ttotal: 3.29s\tremaining: 2.31s\n",
            "587:\tlearn: 0.1060318\ttotal: 3.29s\tremaining: 2.31s\n",
            "588:\tlearn: 0.1060234\ttotal: 3.3s\tremaining: 2.3s\n",
            "589:\tlearn: 0.1060075\ttotal: 3.3s\tremaining: 2.29s\n",
            "590:\tlearn: 0.1060014\ttotal: 3.31s\tremaining: 2.29s\n",
            "591:\tlearn: 0.1059886\ttotal: 3.31s\tremaining: 2.28s\n",
            "592:\tlearn: 0.1059877\ttotal: 3.32s\tremaining: 2.28s\n",
            "593:\tlearn: 0.1059797\ttotal: 3.32s\tremaining: 2.27s\n",
            "594:\tlearn: 0.1059671\ttotal: 3.33s\tremaining: 2.26s\n",
            "595:\tlearn: 0.1059602\ttotal: 3.33s\tremaining: 2.26s\n",
            "596:\tlearn: 0.1059569\ttotal: 3.34s\tremaining: 2.25s\n",
            "597:\tlearn: 0.1059464\ttotal: 3.34s\tremaining: 2.25s\n",
            "598:\tlearn: 0.1059398\ttotal: 3.35s\tremaining: 2.24s\n",
            "599:\tlearn: 0.1059348\ttotal: 3.35s\tremaining: 2.23s\n",
            "600:\tlearn: 0.1059292\ttotal: 3.36s\tremaining: 2.23s\n",
            "601:\tlearn: 0.1059170\ttotal: 3.36s\tremaining: 2.22s\n",
            "602:\tlearn: 0.1059072\ttotal: 3.37s\tremaining: 2.22s\n",
            "603:\tlearn: 0.1058929\ttotal: 3.38s\tremaining: 2.21s\n",
            "604:\tlearn: 0.1058800\ttotal: 3.38s\tremaining: 2.21s\n",
            "605:\tlearn: 0.1058742\ttotal: 3.39s\tremaining: 2.2s\n",
            "606:\tlearn: 0.1058659\ttotal: 3.39s\tremaining: 2.2s\n",
            "607:\tlearn: 0.1058555\ttotal: 3.4s\tremaining: 2.19s\n",
            "608:\tlearn: 0.1058527\ttotal: 3.4s\tremaining: 2.18s\n",
            "609:\tlearn: 0.1058445\ttotal: 3.41s\tremaining: 2.18s\n",
            "610:\tlearn: 0.1058310\ttotal: 3.41s\tremaining: 2.17s\n",
            "611:\tlearn: 0.1058141\ttotal: 3.42s\tremaining: 2.17s\n",
            "612:\tlearn: 0.1058069\ttotal: 3.42s\tremaining: 2.16s\n",
            "613:\tlearn: 0.1057904\ttotal: 3.43s\tremaining: 2.16s\n",
            "614:\tlearn: 0.1057692\ttotal: 3.44s\tremaining: 2.15s\n",
            "615:\tlearn: 0.1057630\ttotal: 3.44s\tremaining: 2.14s\n",
            "616:\tlearn: 0.1057579\ttotal: 3.44s\tremaining: 2.14s\n",
            "617:\tlearn: 0.1057461\ttotal: 3.45s\tremaining: 2.13s\n",
            "618:\tlearn: 0.1057290\ttotal: 3.46s\tremaining: 2.13s\n",
            "619:\tlearn: 0.1057197\ttotal: 3.46s\tremaining: 2.12s\n",
            "620:\tlearn: 0.1057093\ttotal: 3.46s\tremaining: 2.12s\n",
            "621:\tlearn: 0.1056979\ttotal: 3.47s\tremaining: 2.11s\n",
            "622:\tlearn: 0.1056896\ttotal: 3.48s\tremaining: 2.1s\n",
            "623:\tlearn: 0.1056824\ttotal: 3.48s\tremaining: 2.1s\n",
            "624:\tlearn: 0.1056777\ttotal: 3.48s\tremaining: 2.09s\n",
            "625:\tlearn: 0.1056636\ttotal: 3.49s\tremaining: 2.08s\n",
            "626:\tlearn: 0.1056460\ttotal: 3.5s\tremaining: 2.08s\n",
            "627:\tlearn: 0.1056339\ttotal: 3.5s\tremaining: 2.07s\n",
            "628:\tlearn: 0.1056230\ttotal: 3.51s\tremaining: 2.07s\n",
            "629:\tlearn: 0.1056095\ttotal: 3.51s\tremaining: 2.06s\n",
            "630:\tlearn: 0.1055998\ttotal: 3.52s\tremaining: 2.06s\n",
            "631:\tlearn: 0.1055892\ttotal: 3.54s\tremaining: 2.06s\n",
            "632:\tlearn: 0.1055765\ttotal: 3.54s\tremaining: 2.05s\n",
            "633:\tlearn: 0.1055645\ttotal: 3.55s\tremaining: 2.05s\n",
            "634:\tlearn: 0.1055512\ttotal: 3.55s\tremaining: 2.04s\n",
            "635:\tlearn: 0.1055410\ttotal: 3.56s\tremaining: 2.04s\n",
            "636:\tlearn: 0.1055215\ttotal: 3.56s\tremaining: 2.03s\n",
            "637:\tlearn: 0.1055156\ttotal: 3.57s\tremaining: 2.02s\n",
            "638:\tlearn: 0.1055011\ttotal: 3.58s\tremaining: 2.02s\n",
            "639:\tlearn: 0.1054848\ttotal: 3.58s\tremaining: 2.02s\n",
            "640:\tlearn: 0.1054729\ttotal: 3.59s\tremaining: 2.01s\n",
            "641:\tlearn: 0.1054652\ttotal: 3.59s\tremaining: 2s\n",
            "642:\tlearn: 0.1054510\ttotal: 3.6s\tremaining: 2s\n",
            "643:\tlearn: 0.1054432\ttotal: 3.6s\tremaining: 1.99s\n",
            "644:\tlearn: 0.1054402\ttotal: 3.61s\tremaining: 1.99s\n",
            "645:\tlearn: 0.1054323\ttotal: 3.61s\tremaining: 1.98s\n",
            "646:\tlearn: 0.1054186\ttotal: 3.62s\tremaining: 1.97s\n",
            "647:\tlearn: 0.1054074\ttotal: 3.62s\tremaining: 1.97s\n",
            "648:\tlearn: 0.1054037\ttotal: 3.63s\tremaining: 1.96s\n",
            "649:\tlearn: 0.1053923\ttotal: 3.63s\tremaining: 1.96s\n",
            "650:\tlearn: 0.1053773\ttotal: 3.64s\tremaining: 1.95s\n",
            "651:\tlearn: 0.1053577\ttotal: 3.64s\tremaining: 1.95s\n",
            "652:\tlearn: 0.1053459\ttotal: 3.65s\tremaining: 1.94s\n",
            "653:\tlearn: 0.1053363\ttotal: 3.65s\tremaining: 1.93s\n",
            "654:\tlearn: 0.1053263\ttotal: 3.66s\tremaining: 1.93s\n",
            "655:\tlearn: 0.1053122\ttotal: 3.66s\tremaining: 1.92s\n",
            "656:\tlearn: 0.1053097\ttotal: 3.67s\tremaining: 1.92s\n",
            "657:\tlearn: 0.1052951\ttotal: 3.67s\tremaining: 1.91s\n",
            "658:\tlearn: 0.1052926\ttotal: 3.68s\tremaining: 1.9s\n",
            "659:\tlearn: 0.1052841\ttotal: 3.68s\tremaining: 1.9s\n",
            "660:\tlearn: 0.1052797\ttotal: 3.69s\tremaining: 1.89s\n",
            "661:\tlearn: 0.1052647\ttotal: 3.69s\tremaining: 1.89s\n",
            "662:\tlearn: 0.1052602\ttotal: 3.7s\tremaining: 1.88s\n",
            "663:\tlearn: 0.1052518\ttotal: 3.7s\tremaining: 1.87s\n",
            "664:\tlearn: 0.1052465\ttotal: 3.71s\tremaining: 1.87s\n",
            "665:\tlearn: 0.1052359\ttotal: 3.71s\tremaining: 1.86s\n",
            "666:\tlearn: 0.1052290\ttotal: 3.72s\tremaining: 1.86s\n",
            "667:\tlearn: 0.1052170\ttotal: 3.72s\tremaining: 1.85s\n",
            "668:\tlearn: 0.1051998\ttotal: 3.73s\tremaining: 1.84s\n",
            "669:\tlearn: 0.1051931\ttotal: 3.73s\tremaining: 1.84s\n",
            "670:\tlearn: 0.1051755\ttotal: 3.74s\tremaining: 1.83s\n",
            "671:\tlearn: 0.1051677\ttotal: 3.75s\tremaining: 1.83s\n",
            "672:\tlearn: 0.1051615\ttotal: 3.75s\tremaining: 1.82s\n",
            "673:\tlearn: 0.1051546\ttotal: 3.76s\tremaining: 1.82s\n",
            "674:\tlearn: 0.1051445\ttotal: 3.76s\tremaining: 1.81s\n",
            "675:\tlearn: 0.1051327\ttotal: 3.77s\tremaining: 1.81s\n",
            "676:\tlearn: 0.1051209\ttotal: 3.78s\tremaining: 1.8s\n",
            "677:\tlearn: 0.1051034\ttotal: 3.78s\tremaining: 1.8s\n",
            "678:\tlearn: 0.1050938\ttotal: 3.79s\tremaining: 1.79s\n",
            "679:\tlearn: 0.1050839\ttotal: 3.79s\tremaining: 1.78s\n",
            "680:\tlearn: 0.1050727\ttotal: 3.8s\tremaining: 1.78s\n",
            "681:\tlearn: 0.1050656\ttotal: 3.8s\tremaining: 1.77s\n",
            "682:\tlearn: 0.1050555\ttotal: 3.81s\tremaining: 1.77s\n",
            "683:\tlearn: 0.1050411\ttotal: 3.83s\tremaining: 1.77s\n",
            "684:\tlearn: 0.1050230\ttotal: 3.84s\tremaining: 1.76s\n",
            "685:\tlearn: 0.1050088\ttotal: 3.84s\tremaining: 1.76s\n",
            "686:\tlearn: 0.1049890\ttotal: 3.85s\tremaining: 1.75s\n",
            "687:\tlearn: 0.1049736\ttotal: 3.85s\tremaining: 1.75s\n",
            "688:\tlearn: 0.1049602\ttotal: 3.86s\tremaining: 1.74s\n",
            "689:\tlearn: 0.1049471\ttotal: 3.86s\tremaining: 1.74s\n",
            "690:\tlearn: 0.1049382\ttotal: 3.87s\tremaining: 1.73s\n",
            "691:\tlearn: 0.1049286\ttotal: 3.87s\tremaining: 1.72s\n",
            "692:\tlearn: 0.1049141\ttotal: 3.88s\tremaining: 1.72s\n",
            "693:\tlearn: 0.1049012\ttotal: 3.88s\tremaining: 1.71s\n",
            "694:\tlearn: 0.1048847\ttotal: 3.89s\tremaining: 1.71s\n",
            "695:\tlearn: 0.1048713\ttotal: 3.89s\tremaining: 1.7s\n",
            "696:\tlearn: 0.1048650\ttotal: 3.9s\tremaining: 1.7s\n",
            "697:\tlearn: 0.1048593\ttotal: 3.9s\tremaining: 1.69s\n",
            "698:\tlearn: 0.1048532\ttotal: 3.91s\tremaining: 1.68s\n",
            "699:\tlearn: 0.1048405\ttotal: 3.92s\tremaining: 1.68s\n",
            "700:\tlearn: 0.1048358\ttotal: 3.92s\tremaining: 1.67s\n",
            "701:\tlearn: 0.1048297\ttotal: 3.93s\tremaining: 1.67s\n",
            "702:\tlearn: 0.1048155\ttotal: 3.93s\tremaining: 1.66s\n",
            "703:\tlearn: 0.1048035\ttotal: 3.94s\tremaining: 1.66s\n",
            "704:\tlearn: 0.1047952\ttotal: 3.94s\tremaining: 1.65s\n",
            "705:\tlearn: 0.1047855\ttotal: 3.95s\tremaining: 1.64s\n",
            "706:\tlearn: 0.1047723\ttotal: 3.95s\tremaining: 1.64s\n",
            "707:\tlearn: 0.1047664\ttotal: 3.96s\tremaining: 1.63s\n",
            "708:\tlearn: 0.1047579\ttotal: 3.96s\tremaining: 1.63s\n",
            "709:\tlearn: 0.1047434\ttotal: 3.98s\tremaining: 1.62s\n",
            "710:\tlearn: 0.1047302\ttotal: 3.98s\tremaining: 1.62s\n",
            "711:\tlearn: 0.1047252\ttotal: 3.99s\tremaining: 1.61s\n",
            "712:\tlearn: 0.1047197\ttotal: 3.99s\tremaining: 1.61s\n",
            "713:\tlearn: 0.1047139\ttotal: 4s\tremaining: 1.6s\n",
            "714:\tlearn: 0.1047024\ttotal: 4s\tremaining: 1.6s\n",
            "715:\tlearn: 0.1046937\ttotal: 4.01s\tremaining: 1.59s\n",
            "716:\tlearn: 0.1046865\ttotal: 4.01s\tremaining: 1.58s\n",
            "717:\tlearn: 0.1046797\ttotal: 4.03s\tremaining: 1.58s\n",
            "718:\tlearn: 0.1046754\ttotal: 4.04s\tremaining: 1.58s\n",
            "719:\tlearn: 0.1046638\ttotal: 4.04s\tremaining: 1.57s\n",
            "720:\tlearn: 0.1046537\ttotal: 4.05s\tremaining: 1.57s\n",
            "721:\tlearn: 0.1046439\ttotal: 4.05s\tremaining: 1.56s\n",
            "722:\tlearn: 0.1046337\ttotal: 4.06s\tremaining: 1.55s\n",
            "723:\tlearn: 0.1046282\ttotal: 4.06s\tremaining: 1.55s\n",
            "724:\tlearn: 0.1046173\ttotal: 4.07s\tremaining: 1.54s\n",
            "725:\tlearn: 0.1046053\ttotal: 4.07s\tremaining: 1.54s\n",
            "726:\tlearn: 0.1046037\ttotal: 4.08s\tremaining: 1.53s\n",
            "727:\tlearn: 0.1045899\ttotal: 4.08s\tremaining: 1.53s\n",
            "728:\tlearn: 0.1045802\ttotal: 4.09s\tremaining: 1.52s\n",
            "729:\tlearn: 0.1045708\ttotal: 4.09s\tremaining: 1.51s\n",
            "730:\tlearn: 0.1045601\ttotal: 4.1s\tremaining: 1.51s\n",
            "731:\tlearn: 0.1045496\ttotal: 4.1s\tremaining: 1.5s\n",
            "732:\tlearn: 0.1045380\ttotal: 4.11s\tremaining: 1.5s\n",
            "733:\tlearn: 0.1045264\ttotal: 4.12s\tremaining: 1.49s\n",
            "734:\tlearn: 0.1045181\ttotal: 4.12s\tremaining: 1.49s\n",
            "735:\tlearn: 0.1045120\ttotal: 4.13s\tremaining: 1.48s\n",
            "736:\tlearn: 0.1045057\ttotal: 4.13s\tremaining: 1.47s\n",
            "737:\tlearn: 0.1044936\ttotal: 4.14s\tremaining: 1.47s\n",
            "738:\tlearn: 0.1044852\ttotal: 4.14s\tremaining: 1.46s\n",
            "739:\tlearn: 0.1044841\ttotal: 4.15s\tremaining: 1.46s\n",
            "740:\tlearn: 0.1044756\ttotal: 4.15s\tremaining: 1.45s\n",
            "741:\tlearn: 0.1044690\ttotal: 4.16s\tremaining: 1.45s\n",
            "742:\tlearn: 0.1044555\ttotal: 4.17s\tremaining: 1.44s\n",
            "743:\tlearn: 0.1044450\ttotal: 4.17s\tremaining: 1.44s\n",
            "744:\tlearn: 0.1044338\ttotal: 4.18s\tremaining: 1.43s\n",
            "745:\tlearn: 0.1044281\ttotal: 4.18s\tremaining: 1.42s\n",
            "746:\tlearn: 0.1044157\ttotal: 4.19s\tremaining: 1.42s\n",
            "747:\tlearn: 0.1044068\ttotal: 4.19s\tremaining: 1.41s\n",
            "748:\tlearn: 0.1043930\ttotal: 4.2s\tremaining: 1.41s\n",
            "749:\tlearn: 0.1043847\ttotal: 4.21s\tremaining: 1.4s\n",
            "750:\tlearn: 0.1043792\ttotal: 4.21s\tremaining: 1.4s\n",
            "751:\tlearn: 0.1043749\ttotal: 4.21s\tremaining: 1.39s\n",
            "752:\tlearn: 0.1043683\ttotal: 4.22s\tremaining: 1.38s\n",
            "753:\tlearn: 0.1043610\ttotal: 4.23s\tremaining: 1.38s\n",
            "754:\tlearn: 0.1043541\ttotal: 4.25s\tremaining: 1.38s\n",
            "755:\tlearn: 0.1043463\ttotal: 4.27s\tremaining: 1.38s\n",
            "756:\tlearn: 0.1043406\ttotal: 4.28s\tremaining: 1.37s\n",
            "757:\tlearn: 0.1043303\ttotal: 4.29s\tremaining: 1.37s\n",
            "758:\tlearn: 0.1043254\ttotal: 4.29s\tremaining: 1.36s\n",
            "759:\tlearn: 0.1043047\ttotal: 4.3s\tremaining: 1.36s\n",
            "760:\tlearn: 0.1042962\ttotal: 4.3s\tremaining: 1.35s\n",
            "761:\tlearn: 0.1042825\ttotal: 4.31s\tremaining: 1.35s\n",
            "762:\tlearn: 0.1042740\ttotal: 4.32s\tremaining: 1.34s\n",
            "763:\tlearn: 0.1042684\ttotal: 4.32s\tremaining: 1.33s\n",
            "764:\tlearn: 0.1042587\ttotal: 4.33s\tremaining: 1.33s\n",
            "765:\tlearn: 0.1042517\ttotal: 4.33s\tremaining: 1.32s\n",
            "766:\tlearn: 0.1042416\ttotal: 4.34s\tremaining: 1.32s\n",
            "767:\tlearn: 0.1042242\ttotal: 4.35s\tremaining: 1.31s\n",
            "768:\tlearn: 0.1042191\ttotal: 4.36s\tremaining: 1.31s\n",
            "769:\tlearn: 0.1042127\ttotal: 4.37s\tremaining: 1.3s\n",
            "770:\tlearn: 0.1042059\ttotal: 4.38s\tremaining: 1.3s\n",
            "771:\tlearn: 0.1041996\ttotal: 4.38s\tremaining: 1.29s\n",
            "772:\tlearn: 0.1041863\ttotal: 4.39s\tremaining: 1.29s\n",
            "773:\tlearn: 0.1041680\ttotal: 4.4s\tremaining: 1.28s\n",
            "774:\tlearn: 0.1041618\ttotal: 4.4s\tremaining: 1.28s\n",
            "775:\tlearn: 0.1041524\ttotal: 4.41s\tremaining: 1.27s\n",
            "776:\tlearn: 0.1041399\ttotal: 4.42s\tremaining: 1.27s\n",
            "777:\tlearn: 0.1041332\ttotal: 4.42s\tremaining: 1.26s\n",
            "778:\tlearn: 0.1041293\ttotal: 4.43s\tremaining: 1.26s\n",
            "779:\tlearn: 0.1041231\ttotal: 4.44s\tremaining: 1.25s\n",
            "780:\tlearn: 0.1041112\ttotal: 4.44s\tremaining: 1.25s\n",
            "781:\tlearn: 0.1041078\ttotal: 4.45s\tremaining: 1.24s\n",
            "782:\tlearn: 0.1041000\ttotal: 4.46s\tremaining: 1.24s\n",
            "783:\tlearn: 0.1040887\ttotal: 4.47s\tremaining: 1.23s\n",
            "784:\tlearn: 0.1040861\ttotal: 4.48s\tremaining: 1.23s\n",
            "785:\tlearn: 0.1040738\ttotal: 4.5s\tremaining: 1.22s\n",
            "786:\tlearn: 0.1040695\ttotal: 4.51s\tremaining: 1.22s\n",
            "787:\tlearn: 0.1040654\ttotal: 4.52s\tremaining: 1.22s\n",
            "788:\tlearn: 0.1040591\ttotal: 4.54s\tremaining: 1.21s\n",
            "789:\tlearn: 0.1040505\ttotal: 4.56s\tremaining: 1.21s\n",
            "790:\tlearn: 0.1040435\ttotal: 4.57s\tremaining: 1.21s\n",
            "791:\tlearn: 0.1040375\ttotal: 4.59s\tremaining: 1.2s\n",
            "792:\tlearn: 0.1040364\ttotal: 4.6s\tremaining: 1.2s\n",
            "793:\tlearn: 0.1040263\ttotal: 4.61s\tremaining: 1.2s\n",
            "794:\tlearn: 0.1040146\ttotal: 4.63s\tremaining: 1.19s\n",
            "795:\tlearn: 0.1040120\ttotal: 4.64s\tremaining: 1.19s\n",
            "796:\tlearn: 0.1040037\ttotal: 4.65s\tremaining: 1.18s\n",
            "797:\tlearn: 0.1039944\ttotal: 4.65s\tremaining: 1.18s\n",
            "798:\tlearn: 0.1039818\ttotal: 4.66s\tremaining: 1.17s\n",
            "799:\tlearn: 0.1039768\ttotal: 4.66s\tremaining: 1.17s\n",
            "800:\tlearn: 0.1039696\ttotal: 4.67s\tremaining: 1.16s\n",
            "801:\tlearn: 0.1039647\ttotal: 4.67s\tremaining: 1.15s\n",
            "802:\tlearn: 0.1039501\ttotal: 4.68s\tremaining: 1.15s\n",
            "803:\tlearn: 0.1039427\ttotal: 4.68s\tremaining: 1.14s\n",
            "804:\tlearn: 0.1039313\ttotal: 4.69s\tremaining: 1.14s\n",
            "805:\tlearn: 0.1039206\ttotal: 4.7s\tremaining: 1.13s\n",
            "806:\tlearn: 0.1039120\ttotal: 4.7s\tremaining: 1.12s\n",
            "807:\tlearn: 0.1039061\ttotal: 4.71s\tremaining: 1.12s\n",
            "808:\tlearn: 0.1039027\ttotal: 4.71s\tremaining: 1.11s\n",
            "809:\tlearn: 0.1038887\ttotal: 4.72s\tremaining: 1.11s\n",
            "810:\tlearn: 0.1038800\ttotal: 4.72s\tremaining: 1.1s\n",
            "811:\tlearn: 0.1038725\ttotal: 4.73s\tremaining: 1.09s\n",
            "812:\tlearn: 0.1038709\ttotal: 4.73s\tremaining: 1.09s\n",
            "813:\tlearn: 0.1038647\ttotal: 4.74s\tremaining: 1.08s\n",
            "814:\tlearn: 0.1038583\ttotal: 4.74s\tremaining: 1.08s\n",
            "815:\tlearn: 0.1038479\ttotal: 4.75s\tremaining: 1.07s\n",
            "816:\tlearn: 0.1038390\ttotal: 4.76s\tremaining: 1.07s\n",
            "817:\tlearn: 0.1038285\ttotal: 4.77s\tremaining: 1.06s\n",
            "818:\tlearn: 0.1038199\ttotal: 4.77s\tremaining: 1.05s\n",
            "819:\tlearn: 0.1038091\ttotal: 4.78s\tremaining: 1.05s\n",
            "820:\tlearn: 0.1038022\ttotal: 4.78s\tremaining: 1.04s\n",
            "821:\tlearn: 0.1037905\ttotal: 4.79s\tremaining: 1.04s\n",
            "822:\tlearn: 0.1037780\ttotal: 4.79s\tremaining: 1.03s\n",
            "823:\tlearn: 0.1037757\ttotal: 4.8s\tremaining: 1.02s\n",
            "824:\tlearn: 0.1037710\ttotal: 4.81s\tremaining: 1.02s\n",
            "825:\tlearn: 0.1037627\ttotal: 4.81s\tremaining: 1.01s\n",
            "826:\tlearn: 0.1037552\ttotal: 4.82s\tremaining: 1.01s\n",
            "827:\tlearn: 0.1037477\ttotal: 4.82s\tremaining: 1s\n",
            "828:\tlearn: 0.1037463\ttotal: 4.83s\tremaining: 996ms\n",
            "829:\tlearn: 0.1037354\ttotal: 4.83s\tremaining: 990ms\n",
            "830:\tlearn: 0.1037297\ttotal: 4.84s\tremaining: 984ms\n",
            "831:\tlearn: 0.1037246\ttotal: 4.84s\tremaining: 978ms\n",
            "832:\tlearn: 0.1037205\ttotal: 4.85s\tremaining: 972ms\n",
            "833:\tlearn: 0.1037099\ttotal: 4.85s\tremaining: 966ms\n",
            "834:\tlearn: 0.1037019\ttotal: 4.86s\tremaining: 960ms\n",
            "835:\tlearn: 0.1036997\ttotal: 4.86s\tremaining: 954ms\n",
            "836:\tlearn: 0.1036928\ttotal: 4.87s\tremaining: 948ms\n",
            "837:\tlearn: 0.1036842\ttotal: 4.87s\tremaining: 942ms\n",
            "838:\tlearn: 0.1036757\ttotal: 4.88s\tremaining: 936ms\n",
            "839:\tlearn: 0.1036720\ttotal: 4.88s\tremaining: 930ms\n",
            "840:\tlearn: 0.1036653\ttotal: 4.89s\tremaining: 924ms\n",
            "841:\tlearn: 0.1036604\ttotal: 4.89s\tremaining: 918ms\n",
            "842:\tlearn: 0.1036515\ttotal: 4.9s\tremaining: 912ms\n",
            "843:\tlearn: 0.1036469\ttotal: 4.9s\tremaining: 906ms\n",
            "844:\tlearn: 0.1036393\ttotal: 4.91s\tremaining: 900ms\n",
            "845:\tlearn: 0.1036316\ttotal: 4.91s\tremaining: 894ms\n",
            "846:\tlearn: 0.1036233\ttotal: 4.92s\tremaining: 888ms\n",
            "847:\tlearn: 0.1036120\ttotal: 4.92s\tremaining: 882ms\n",
            "848:\tlearn: 0.1036115\ttotal: 4.93s\tremaining: 876ms\n",
            "849:\tlearn: 0.1036058\ttotal: 4.93s\tremaining: 870ms\n",
            "850:\tlearn: 0.1036037\ttotal: 4.94s\tremaining: 864ms\n",
            "851:\tlearn: 0.1035923\ttotal: 4.94s\tremaining: 859ms\n",
            "852:\tlearn: 0.1035835\ttotal: 4.95s\tremaining: 853ms\n",
            "853:\tlearn: 0.1035768\ttotal: 4.96s\tremaining: 848ms\n",
            "854:\tlearn: 0.1035624\ttotal: 4.97s\tremaining: 842ms\n",
            "855:\tlearn: 0.1035559\ttotal: 4.97s\tremaining: 836ms\n",
            "856:\tlearn: 0.1035481\ttotal: 4.98s\tremaining: 830ms\n",
            "857:\tlearn: 0.1035387\ttotal: 4.99s\tremaining: 825ms\n",
            "858:\tlearn: 0.1035169\ttotal: 5s\tremaining: 820ms\n",
            "859:\tlearn: 0.1035063\ttotal: 5.01s\tremaining: 815ms\n",
            "860:\tlearn: 0.1035003\ttotal: 5.02s\tremaining: 810ms\n",
            "861:\tlearn: 0.1034968\ttotal: 5.02s\tremaining: 804ms\n",
            "862:\tlearn: 0.1034887\ttotal: 5.03s\tremaining: 798ms\n",
            "863:\tlearn: 0.1034797\ttotal: 5.03s\tremaining: 792ms\n",
            "864:\tlearn: 0.1034693\ttotal: 5.04s\tremaining: 787ms\n",
            "865:\tlearn: 0.1034583\ttotal: 5.04s\tremaining: 781ms\n",
            "866:\tlearn: 0.1034479\ttotal: 5.05s\tremaining: 775ms\n",
            "867:\tlearn: 0.1034356\ttotal: 5.05s\tremaining: 769ms\n",
            "868:\tlearn: 0.1034297\ttotal: 5.06s\tremaining: 763ms\n",
            "869:\tlearn: 0.1034175\ttotal: 5.07s\tremaining: 757ms\n",
            "870:\tlearn: 0.1034143\ttotal: 5.07s\tremaining: 751ms\n",
            "871:\tlearn: 0.1034041\ttotal: 5.08s\tremaining: 745ms\n",
            "872:\tlearn: 0.1033937\ttotal: 5.08s\tremaining: 739ms\n",
            "873:\tlearn: 0.1033861\ttotal: 5.09s\tremaining: 733ms\n",
            "874:\tlearn: 0.1033822\ttotal: 5.09s\tremaining: 728ms\n",
            "875:\tlearn: 0.1033787\ttotal: 5.1s\tremaining: 722ms\n",
            "876:\tlearn: 0.1033731\ttotal: 5.11s\tremaining: 717ms\n",
            "877:\tlearn: 0.1033700\ttotal: 5.12s\tremaining: 711ms\n",
            "878:\tlearn: 0.1033676\ttotal: 5.13s\tremaining: 706ms\n",
            "879:\tlearn: 0.1033616\ttotal: 5.13s\tremaining: 700ms\n",
            "880:\tlearn: 0.1033583\ttotal: 5.14s\tremaining: 694ms\n",
            "881:\tlearn: 0.1033474\ttotal: 5.14s\tremaining: 688ms\n",
            "882:\tlearn: 0.1033345\ttotal: 5.15s\tremaining: 683ms\n",
            "883:\tlearn: 0.1033299\ttotal: 5.16s\tremaining: 677ms\n",
            "884:\tlearn: 0.1033262\ttotal: 5.16s\tremaining: 671ms\n",
            "885:\tlearn: 0.1033190\ttotal: 5.17s\tremaining: 665ms\n",
            "886:\tlearn: 0.1033156\ttotal: 5.17s\tremaining: 659ms\n",
            "887:\tlearn: 0.1033110\ttotal: 5.18s\tremaining: 653ms\n",
            "888:\tlearn: 0.1033035\ttotal: 5.18s\tremaining: 647ms\n",
            "889:\tlearn: 0.1032926\ttotal: 5.19s\tremaining: 641ms\n",
            "890:\tlearn: 0.1032898\ttotal: 5.19s\tremaining: 635ms\n",
            "891:\tlearn: 0.1032852\ttotal: 5.2s\tremaining: 629ms\n",
            "892:\tlearn: 0.1032767\ttotal: 5.2s\tremaining: 623ms\n",
            "893:\tlearn: 0.1032670\ttotal: 5.21s\tremaining: 617ms\n",
            "894:\tlearn: 0.1032562\ttotal: 5.21s\tremaining: 612ms\n",
            "895:\tlearn: 0.1032488\ttotal: 5.22s\tremaining: 606ms\n",
            "896:\tlearn: 0.1032419\ttotal: 5.22s\tremaining: 600ms\n",
            "897:\tlearn: 0.1032361\ttotal: 5.23s\tremaining: 594ms\n",
            "898:\tlearn: 0.1032266\ttotal: 5.23s\tremaining: 588ms\n",
            "899:\tlearn: 0.1032199\ttotal: 5.24s\tremaining: 582ms\n",
            "900:\tlearn: 0.1032108\ttotal: 5.24s\tremaining: 576ms\n",
            "901:\tlearn: 0.1032062\ttotal: 5.25s\tremaining: 570ms\n",
            "902:\tlearn: 0.1032014\ttotal: 5.25s\tremaining: 564ms\n",
            "903:\tlearn: 0.1031916\ttotal: 5.26s\tremaining: 559ms\n",
            "904:\tlearn: 0.1031785\ttotal: 5.26s\tremaining: 553ms\n",
            "905:\tlearn: 0.1031703\ttotal: 5.27s\tremaining: 547ms\n",
            "906:\tlearn: 0.1031640\ttotal: 5.28s\tremaining: 541ms\n",
            "907:\tlearn: 0.1031576\ttotal: 5.28s\tremaining: 535ms\n",
            "908:\tlearn: 0.1031469\ttotal: 5.29s\tremaining: 529ms\n",
            "909:\tlearn: 0.1031456\ttotal: 5.29s\tremaining: 523ms\n",
            "910:\tlearn: 0.1031393\ttotal: 5.3s\tremaining: 518ms\n",
            "911:\tlearn: 0.1031297\ttotal: 5.3s\tremaining: 512ms\n",
            "912:\tlearn: 0.1031206\ttotal: 5.31s\tremaining: 506ms\n",
            "913:\tlearn: 0.1031087\ttotal: 5.31s\tremaining: 500ms\n",
            "914:\tlearn: 0.1030967\ttotal: 5.32s\tremaining: 494ms\n",
            "915:\tlearn: 0.1030902\ttotal: 5.32s\tremaining: 488ms\n",
            "916:\tlearn: 0.1030825\ttotal: 5.33s\tremaining: 482ms\n",
            "917:\tlearn: 0.1030736\ttotal: 5.33s\tremaining: 477ms\n",
            "918:\tlearn: 0.1030619\ttotal: 5.34s\tremaining: 471ms\n",
            "919:\tlearn: 0.1030557\ttotal: 5.34s\tremaining: 465ms\n",
            "920:\tlearn: 0.1030513\ttotal: 5.35s\tremaining: 459ms\n",
            "921:\tlearn: 0.1030447\ttotal: 5.36s\tremaining: 453ms\n",
            "922:\tlearn: 0.1030420\ttotal: 5.36s\tremaining: 448ms\n",
            "923:\tlearn: 0.1030334\ttotal: 5.37s\tremaining: 442ms\n",
            "924:\tlearn: 0.1030300\ttotal: 5.37s\tremaining: 436ms\n",
            "925:\tlearn: 0.1030264\ttotal: 5.38s\tremaining: 430ms\n",
            "926:\tlearn: 0.1030144\ttotal: 5.38s\tremaining: 424ms\n",
            "927:\tlearn: 0.1030067\ttotal: 5.39s\tremaining: 418ms\n",
            "928:\tlearn: 0.1029958\ttotal: 5.39s\tremaining: 412ms\n",
            "929:\tlearn: 0.1029843\ttotal: 5.4s\tremaining: 406ms\n",
            "930:\tlearn: 0.1029810\ttotal: 5.4s\tremaining: 401ms\n",
            "931:\tlearn: 0.1029759\ttotal: 5.41s\tremaining: 395ms\n",
            "932:\tlearn: 0.1029718\ttotal: 5.41s\tremaining: 389ms\n",
            "933:\tlearn: 0.1029667\ttotal: 5.42s\tremaining: 383ms\n",
            "934:\tlearn: 0.1029610\ttotal: 5.42s\tremaining: 377ms\n",
            "935:\tlearn: 0.1029597\ttotal: 5.43s\tremaining: 371ms\n",
            "936:\tlearn: 0.1029520\ttotal: 5.43s\tremaining: 365ms\n",
            "937:\tlearn: 0.1029481\ttotal: 5.44s\tremaining: 359ms\n",
            "938:\tlearn: 0.1029425\ttotal: 5.44s\tremaining: 354ms\n",
            "939:\tlearn: 0.1029378\ttotal: 5.45s\tremaining: 348ms\n",
            "940:\tlearn: 0.1029247\ttotal: 5.46s\tremaining: 342ms\n",
            "941:\tlearn: 0.1029132\ttotal: 5.46s\tremaining: 336ms\n",
            "942:\tlearn: 0.1029087\ttotal: 5.46s\tremaining: 330ms\n",
            "943:\tlearn: 0.1029049\ttotal: 5.47s\tremaining: 324ms\n",
            "944:\tlearn: 0.1028901\ttotal: 5.47s\tremaining: 319ms\n",
            "945:\tlearn: 0.1028846\ttotal: 5.48s\tremaining: 313ms\n",
            "946:\tlearn: 0.1028760\ttotal: 5.49s\tremaining: 307ms\n",
            "947:\tlearn: 0.1028683\ttotal: 5.49s\tremaining: 301ms\n",
            "948:\tlearn: 0.1028631\ttotal: 5.5s\tremaining: 295ms\n",
            "949:\tlearn: 0.1028430\ttotal: 5.5s\tremaining: 290ms\n",
            "950:\tlearn: 0.1028404\ttotal: 5.5s\tremaining: 284ms\n",
            "951:\tlearn: 0.1028296\ttotal: 5.51s\tremaining: 278ms\n",
            "952:\tlearn: 0.1028122\ttotal: 5.51s\tremaining: 272ms\n",
            "953:\tlearn: 0.1028072\ttotal: 5.52s\tremaining: 266ms\n",
            "954:\tlearn: 0.1028011\ttotal: 5.53s\tremaining: 260ms\n",
            "955:\tlearn: 0.1027921\ttotal: 5.53s\tremaining: 255ms\n",
            "956:\tlearn: 0.1027815\ttotal: 5.54s\tremaining: 249ms\n",
            "957:\tlearn: 0.1027760\ttotal: 5.54s\tremaining: 243ms\n",
            "958:\tlearn: 0.1027717\ttotal: 5.55s\tremaining: 237ms\n",
            "959:\tlearn: 0.1027700\ttotal: 5.55s\tremaining: 231ms\n",
            "960:\tlearn: 0.1027621\ttotal: 5.56s\tremaining: 226ms\n",
            "961:\tlearn: 0.1027519\ttotal: 5.57s\tremaining: 220ms\n",
            "962:\tlearn: 0.1027357\ttotal: 5.57s\tremaining: 214ms\n",
            "963:\tlearn: 0.1027234\ttotal: 5.58s\tremaining: 208ms\n",
            "964:\tlearn: 0.1027199\ttotal: 5.58s\tremaining: 202ms\n",
            "965:\tlearn: 0.1027107\ttotal: 5.59s\tremaining: 197ms\n",
            "966:\tlearn: 0.1027045\ttotal: 5.59s\tremaining: 191ms\n",
            "967:\tlearn: 0.1026984\ttotal: 5.6s\tremaining: 185ms\n",
            "968:\tlearn: 0.1026939\ttotal: 5.6s\tremaining: 179ms\n",
            "969:\tlearn: 0.1026881\ttotal: 5.61s\tremaining: 173ms\n",
            "970:\tlearn: 0.1026791\ttotal: 5.61s\tremaining: 168ms\n",
            "971:\tlearn: 0.1026716\ttotal: 5.62s\tremaining: 162ms\n",
            "972:\tlearn: 0.1026697\ttotal: 5.62s\tremaining: 156ms\n",
            "973:\tlearn: 0.1026666\ttotal: 5.63s\tremaining: 150ms\n",
            "974:\tlearn: 0.1026620\ttotal: 5.63s\tremaining: 144ms\n",
            "975:\tlearn: 0.1026531\ttotal: 5.64s\tremaining: 139ms\n",
            "976:\tlearn: 0.1026495\ttotal: 5.64s\tremaining: 133ms\n",
            "977:\tlearn: 0.1026443\ttotal: 5.65s\tremaining: 127ms\n",
            "978:\tlearn: 0.1026395\ttotal: 5.65s\tremaining: 121ms\n",
            "979:\tlearn: 0.1026319\ttotal: 5.66s\tremaining: 115ms\n",
            "980:\tlearn: 0.1026224\ttotal: 5.66s\tremaining: 110ms\n",
            "981:\tlearn: 0.1026169\ttotal: 5.67s\tremaining: 104ms\n",
            "982:\tlearn: 0.1026136\ttotal: 5.67s\tremaining: 98.1ms\n",
            "983:\tlearn: 0.1026104\ttotal: 5.68s\tremaining: 92.3ms\n",
            "984:\tlearn: 0.1026027\ttotal: 5.68s\tremaining: 86.5ms\n",
            "985:\tlearn: 0.1025905\ttotal: 5.69s\tremaining: 80.8ms\n",
            "986:\tlearn: 0.1025829\ttotal: 5.69s\tremaining: 75ms\n",
            "987:\tlearn: 0.1025793\ttotal: 5.7s\tremaining: 69.2ms\n",
            "988:\tlearn: 0.1025688\ttotal: 5.7s\tremaining: 63.4ms\n",
            "989:\tlearn: 0.1025583\ttotal: 5.71s\tremaining: 57.7ms\n",
            "990:\tlearn: 0.1025518\ttotal: 5.71s\tremaining: 51.9ms\n",
            "991:\tlearn: 0.1025467\ttotal: 5.72s\tremaining: 46.1ms\n",
            "992:\tlearn: 0.1025426\ttotal: 5.72s\tremaining: 40.4ms\n",
            "993:\tlearn: 0.1025296\ttotal: 5.73s\tremaining: 34.6ms\n",
            "994:\tlearn: 0.1025240\ttotal: 5.73s\tremaining: 28.8ms\n",
            "995:\tlearn: 0.1025097\ttotal: 5.74s\tremaining: 23.1ms\n",
            "996:\tlearn: 0.1025045\ttotal: 5.75s\tremaining: 17.3ms\n",
            "997:\tlearn: 0.1024963\ttotal: 5.75s\tremaining: 11.5ms\n",
            "998:\tlearn: 0.1024855\ttotal: 5.77s\tremaining: 5.77ms\n",
            "999:\tlearn: 0.1024789\ttotal: 5.77s\tremaining: 0us\n"
          ]
        },
        {
          "output_type": "execute_result",
          "data": {
            "text/plain": [
              "<catboost.core.CatBoostRegressor at 0x7f8046f41ea0>"
            ]
          },
          "metadata": {},
          "execution_count": 172
        }
      ]
    },
    {
      "cell_type": "code",
      "source": [
        "y_pred = cat_reg.predict(X_test)\n",
        "y_pred = np.exp(y_pred)\n",
        "rmse = mean_squared_error(y_test, y_pred, squared=False)\n",
        "print('RMSE:', rmse)"
      ],
      "metadata": {
        "colab": {
          "base_uri": "https://localhost:8080/"
        },
        "outputId": "11eb4df2-998a-49e6-d4e2-87c4d87b38ad",
        "id": "v86ihuCdXZpP"
      },
      "execution_count": null,
      "outputs": [
        {
          "output_type": "stream",
          "name": "stdout",
          "text": [
            "RMSE: 651.894780098139\n"
          ]
        }
      ]
    },
    {
      "cell_type": "code",
      "source": [],
      "metadata": {
        "id": "9kuRHmp8XZpQ"
      },
      "execution_count": null,
      "outputs": []
    },
    {
      "cell_type": "code",
      "source": [],
      "metadata": {
        "id": "fnFXGZBEXY9Q"
      },
      "execution_count": null,
      "outputs": []
    },
    {
      "cell_type": "markdown",
      "source": [
        "#Trying GridSearch,Randomized Search & Cross Validation "
      ],
      "metadata": {
        "id": "cgXmm5xAcIff"
      }
    },
    {
      "cell_type": "markdown",
      "source": [
        "##Randomized Search"
      ],
      "metadata": {
        "id": "WpyMSrKMkdQ8"
      }
    },
    {
      "cell_type": "code",
      "source": [
        "from sklearn.model_selection import RandomizedSearchCV"
      ],
      "metadata": {
        "id": "dgIIszkclGlp"
      },
      "execution_count": null,
      "outputs": []
    },
    {
      "cell_type": "code",
      "source": [
        "X = normal_trained_data.drop(['price'],axis=1).copy()\n",
        "y = normal_trained_data['price'].copy()"
      ],
      "metadata": {
        "id": "si1jXUR1kmF7"
      },
      "execution_count": null,
      "outputs": []
    },
    {
      "cell_type": "code",
      "source": [
        "X_train, X_test, y_train, y_test = train_test_split(X, y, test_size=0.2, random_state=42)"
      ],
      "metadata": {
        "id": "HOWRsyaRmsPa"
      },
      "execution_count": null,
      "outputs": []
    },
    {
      "cell_type": "code",
      "source": [
        "y_train = np.log(y_train)"
      ],
      "metadata": {
        "id": "AWUmb0EpmyLR"
      },
      "execution_count": null,
      "outputs": []
    },
    {
      "cell_type": "code",
      "source": [
        "pipeline = Pipeline([\n",
        "    ('preprocessor',preprocessor_Robust_Ordinal),\n",
        "    ('regressor', CatBoostRegressor())\n",
        "])\n",
        "\n",
        "param_distributions = {\n",
        "    'regressor__iterations': [100, 500, 1000],\n",
        "    'regressor__depth': [5, 10, 15],\n",
        "    'regressor__learning_rate': [0.01, 0.1, 1],\n",
        "    'regressor__l2_leaf_reg': [1, 3, 5],\n",
        "    'regressor__random_strength': [0.1, 1, 10]\n",
        "}\n",
        "\n",
        "random_search = RandomizedSearchCV(pipeline, param_distributions, n_iter=10, cv=5, scoring='neg_mean_squared_error')\n",
        "random_search.fit(X_train, y_train)\n",
        "\n",
        "\n",
        "print(\"Best hyperparameters:\", random_search.best_params_)\n",
        "print(\"Best mean squared error:\", -random_search.best_score_)"
      ],
      "metadata": {
        "id": "oE1jQHxUcTTq"
      },
      "execution_count": null,
      "outputs": []
    },
    {
      "cell_type": "code",
      "source": [
        "best_cat_reg_model = random_search.best_estimator_\n",
        "\n",
        "y_pred = best_cat_reg_model.predict(X_test)\n",
        "\n",
        "y_pred = np.exp(y_pred)\n",
        "\n",
        "rmse = mean_squared_error(y_test, y_pred, squared=False)\n",
        "print('RMSE:', rmse)"
      ],
      "metadata": {
        "id": "Ql4oLsFzmP4h"
      },
      "execution_count": null,
      "outputs": []
    },
    {
      "cell_type": "markdown",
      "source": [
        "the Randomized Search Took about 2hours training on gpu and the RMSE was 560"
      ],
      "metadata": {
        "id": "13Q2j3DTZmTY"
      }
    },
    {
      "cell_type": "markdown",
      "source": [
        "I should have try the feature hasher class but I RAN OUT OF TIME -_-"
      ],
      "metadata": {
        "id": "f10or4gQc1HY"
      }
    },
    {
      "cell_type": "markdown",
      "metadata": {
        "id": "bJPk_38eFGCT"
      },
      "source": [
        "\n",
        "\n",
        "\n",
        "\n",
        "#Testing"
      ]
    },
    {
      "cell_type": "code",
      "execution_count": null,
      "metadata": {
        "id": "jFKf79zUE0zK"
      },
      "outputs": [],
      "source": [
        "test1  = test_set.copy()\n",
        "Id=test1['Id']\n",
        "test1 = preprocess(test1)\n",
        "test1 = preprocessor_Robust_OHE.transform(test1)\n",
        "\n",
        "\n",
        "pred = xgb.predict(test1)\n",
        "pred = np.exp(pred)\n",
        "data={'Id': Id, 'price':pred }\n",
        "sub = pd.DataFrame(data=data)\n",
        "sub.to_csv('sub.csv',index=False)"
      ]
    },
    {
      "cell_type": "code",
      "execution_count": null,
      "metadata": {
        "id": "8ZsjUwgXFlN5"
      },
      "outputs": [],
      "source": []
    }
  ],
  "metadata": {
    "colab": {
      "provenance": [],
      "collapsed_sections": [
        "B5SaMtOqR7PQ",
        "VpvfHvsQSGCA",
        "icMcGxqiSwiw",
        "m1TPC-pGTc9n",
        "bJPk_38eFGCT"
      ],
      "gpuType": "T4",
      "mount_file_id": "1po3hsWu31VV7G5LwM6RT2IoLjM70ofv3",
      "authorship_tag": "ABX9TyPSM9Nkzkx9Kbwk7RFrE63Q",
      "include_colab_link": true
    },
    "kernelspec": {
      "display_name": "Python 3",
      "name": "python3"
    },
    "language_info": {
      "name": "python"
    },
    "accelerator": "GPU",
    "gpuClass": "standard"
  },
  "nbformat": 4,
  "nbformat_minor": 0
}